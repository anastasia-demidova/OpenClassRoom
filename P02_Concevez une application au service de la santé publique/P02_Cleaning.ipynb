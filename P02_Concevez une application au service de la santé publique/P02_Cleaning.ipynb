{
 "cells": [
  {
   "cell_type": "code",
   "execution_count": 99,
   "id": "bc5ec3a1",
   "metadata": {},
   "outputs": [
    {
     "name": "stderr",
     "output_type": "stream",
     "text": [
      "/Users/demol/opt/anaconda3/lib/python3.9/site-packages/IPython/core/interactiveshell.py:3444: DtypeWarning: Columns (0,8,13,19,20,21,22,23,27,28,29,31,32,40,41,42,52,55,64,66) have mixed types.Specify dtype option on import or set low_memory=False.\n",
      "  exec(code_obj, self.user_global_ns, self.user_ns)\n"
     ]
    }
   ],
   "source": [
    "import pandas as pd\n",
    "#data = pd.read_csv(\"en.openfoodfacts.org.products.csv\", sep='\\t')\n",
    "data = pd.read_csv('/Users/demol/Downloads/en.openfoodfacts.org.products.csv', sep='\\t')"
   ]
  },
  {
   "cell_type": "code",
   "execution_count": 100,
   "id": "16c3bd48",
   "metadata": {},
   "outputs": [
    {
     "data": {
      "text/plain": [
       "(2059358, 187)"
      ]
     },
     "execution_count": 100,
     "metadata": {},
     "output_type": "execute_result"
    }
   ],
   "source": [
    "data.shape"
   ]
  },
  {
   "cell_type": "code",
   "execution_count": 101,
   "id": "6c1d9717",
   "metadata": {},
   "outputs": [],
   "source": [
    "all_columns = data.columns.tolist()"
   ]
  },
  {
   "cell_type": "code",
   "execution_count": 102,
   "id": "5ba6cb1e",
   "metadata": {},
   "outputs": [
    {
     "name": "stdout",
     "output_type": "stream",
     "text": [
      "['code', 'url', 'creator', 'created_t', 'created_datetime', 'last_modified_t', 'last_modified_datetime', 'product_name', 'abbreviated_product_name', 'generic_name', 'quantity', 'packaging', 'packaging_tags', 'packaging_text', 'brands', 'brands_tags', 'categories', 'categories_tags', 'categories_en', 'origins', 'origins_tags', 'origins_en', 'manufacturing_places', 'manufacturing_places_tags', 'labels', 'labels_tags', 'labels_en', 'emb_codes', 'emb_codes_tags', 'first_packaging_code_geo', 'cities', 'cities_tags', 'purchase_places', 'stores', 'countries', 'countries_tags', 'countries_en', 'ingredients_text', 'allergens', 'allergens_en', 'traces', 'traces_tags', 'traces_en', 'serving_size', 'serving_quantity', 'no_nutriments', 'additives_n', 'additives', 'additives_tags', 'additives_en', 'ingredients_from_palm_oil_n', 'ingredients_from_palm_oil', 'ingredients_from_palm_oil_tags', 'ingredients_that_may_be_from_palm_oil_n', 'ingredients_that_may_be_from_palm_oil', 'ingredients_that_may_be_from_palm_oil_tags', 'nutriscore_score', 'nutriscore_grade', 'nova_group', 'pnns_groups_1', 'pnns_groups_2', 'states', 'states_tags', 'states_en', 'brand_owner', 'ecoscore_score_fr', 'ecoscore_grade_fr', 'main_category', 'main_category_en', 'image_url', 'image_small_url', 'image_ingredients_url', 'image_ingredients_small_url', 'image_nutrition_url', 'image_nutrition_small_url', 'energy-kj_100g', 'energy-kcal_100g', 'energy_100g', 'energy-from-fat_100g', 'fat_100g', 'saturated-fat_100g', '-butyric-acid_100g', '-caproic-acid_100g', '-caprylic-acid_100g', '-capric-acid_100g', '-lauric-acid_100g', '-myristic-acid_100g', '-palmitic-acid_100g', '-stearic-acid_100g', '-arachidic-acid_100g', '-behenic-acid_100g', '-lignoceric-acid_100g', '-cerotic-acid_100g', '-montanic-acid_100g', '-melissic-acid_100g', 'monounsaturated-fat_100g', 'polyunsaturated-fat_100g', 'omega-3-fat_100g', '-alpha-linolenic-acid_100g', '-eicosapentaenoic-acid_100g', '-docosahexaenoic-acid_100g', 'omega-6-fat_100g', '-linoleic-acid_100g', '-arachidonic-acid_100g', '-gamma-linolenic-acid_100g', '-dihomo-gamma-linolenic-acid_100g', 'omega-9-fat_100g', '-oleic-acid_100g', '-elaidic-acid_100g', '-gondoic-acid_100g', '-mead-acid_100g', '-erucic-acid_100g', '-nervonic-acid_100g', 'trans-fat_100g', 'cholesterol_100g', 'carbohydrates_100g', 'sugars_100g', '-sucrose_100g', '-glucose_100g', '-fructose_100g', '-lactose_100g', '-maltose_100g', '-maltodextrins_100g', 'starch_100g', 'polyols_100g', 'fiber_100g', 'soluble-fiber_100g', 'insoluble-fiber_100g', 'proteins_100g', 'casein_100g', 'serum-proteins_100g', 'nucleotides_100g', 'salt_100g', 'sodium_100g', 'alcohol_100g', 'vitamin-a_100g', 'beta-carotene_100g', 'vitamin-d_100g', 'vitamin-e_100g', 'vitamin-k_100g', 'vitamin-c_100g', 'vitamin-b1_100g', 'vitamin-b2_100g', 'vitamin-pp_100g', 'vitamin-b6_100g', 'vitamin-b9_100g', 'folates_100g', 'vitamin-b12_100g', 'biotin_100g', 'pantothenic-acid_100g', 'silica_100g', 'bicarbonate_100g', 'potassium_100g', 'chloride_100g', 'calcium_100g', 'phosphorus_100g', 'iron_100g', 'magnesium_100g', 'zinc_100g', 'copper_100g', 'manganese_100g', 'fluoride_100g', 'selenium_100g', 'chromium_100g', 'molybdenum_100g', 'iodine_100g', 'caffeine_100g', 'taurine_100g', 'ph_100g', 'fruits-vegetables-nuts_100g', 'fruits-vegetables-nuts-dried_100g', 'fruits-vegetables-nuts-estimate_100g', 'fruits-vegetables-nuts-estimate-from-ingredients_100g', 'collagen-meat-protein-ratio_100g', 'cocoa_100g', 'chlorophyl_100g', 'carbon-footprint_100g', 'carbon-footprint-from-meat-or-fish_100g', 'nutrition-score-fr_100g', 'nutrition-score-uk_100g', 'glycemic-index_100g', 'water-hardness_100g', 'choline_100g', 'phylloquinone_100g', 'beta-glucan_100g', 'inositol_100g', 'carnitine_100g']\n"
     ]
    }
   ],
   "source": [
    "print(all_columns)"
   ]
  },
  {
   "cell_type": "code",
   "execution_count": 103,
   "id": "f0b11724",
   "metadata": {},
   "outputs": [],
   "source": [
    "columns = ['product_name', 'nutriscore_score', 'nutriscore_grade', 'countries', 'countries_tags', 'countries_fr',  ]"
   ]
  },
  {
   "cell_type": "code",
   "execution_count": 104,
   "id": "95679f68",
   "metadata": {},
   "outputs": [
    {
     "name": "stdout",
     "output_type": "stream",
     "text": [
      "['energy-kj_100g', 'energy-kcal_100g', 'energy_100g', 'energy-from-fat_100g', 'fat_100g', 'saturated-fat_100g', 'monounsaturated-fat_100g', 'polyunsaturated-fat_100g', 'omega-3-fat_100g', 'omega-6-fat_100g', 'omega-9-fat_100g', 'trans-fat_100g', 'cholesterol_100g', 'carbohydrates_100g', 'sugars_100g', '-sucrose_100g', '-glucose_100g', '-fructose_100g', '-lactose_100g', '-maltose_100g', '-maltodextrins_100g', 'starch_100g', 'polyols_100g', 'fiber_100g', 'soluble-fiber_100g', 'insoluble-fiber_100g', 'proteins_100g', 'casein_100g', 'serum-proteins_100g', 'nucleotides_100g', 'salt_100g', 'sodium_100g', 'alcohol_100g', 'vitamin-a_100g', 'beta-carotene_100g', 'vitamin-d_100g', 'vitamin-e_100g', 'vitamin-k_100g', 'vitamin-c_100g', 'vitamin-b1_100g', 'vitamin-b2_100g', 'vitamin-pp_100g', 'vitamin-b6_100g', 'vitamin-b9_100g', 'folates_100g', 'vitamin-b12_100g', 'biotin_100g', 'silica_100g', 'bicarbonate_100g', 'potassium_100g', 'chloride_100g', 'calcium_100g', 'phosphorus_100g', 'iron_100g', 'magnesium_100g', 'zinc_100g', 'copper_100g', 'manganese_100g', 'fluoride_100g', 'selenium_100g', 'chromium_100g', 'molybdenum_100g', 'iodine_100g', 'caffeine_100g', 'taurine_100g', 'ph_100g', 'fruits-vegetables-nuts_100g', 'fruits-vegetables-nuts-dried_100g', 'fruits-vegetables-nuts-estimate_100g', 'fruits-vegetables-nuts-estimate-from-ingredients_100g', 'collagen-meat-protein-ratio_100g', 'cocoa_100g', 'chlorophyl_100g', 'carbon-footprint_100g', 'carbon-footprint-from-meat-or-fish_100g', 'nutrition-score-fr_100g', 'nutrition-score-uk_100g', 'glycemic-index_100g', 'water-hardness_100g', 'choline_100g', 'phylloquinone_100g', 'beta-glucan_100g', 'inositol_100g', 'carnitine_100g']\n"
     ]
    }
   ],
   "source": [
    "food_columns = []\n",
    "for i in all_columns:\n",
    "    if '_100g' in i and 'acid' not in i:\n",
    "        food_columns.append(i)\n",
    "\n",
    "print(food_columns)"
   ]
  },
  {
   "cell_type": "code",
   "execution_count": 105,
   "id": "2eec073c",
   "metadata": {},
   "outputs": [],
   "source": [
    "columns_final = columns + food_columns"
   ]
  },
  {
   "cell_type": "code",
   "execution_count": 106,
   "id": "0898ed18",
   "metadata": {},
   "outputs": [],
   "source": [
    "df1 = pd.DataFrame(data, columns = columns_final)"
   ]
  },
  {
   "cell_type": "code",
   "execution_count": 107,
   "id": "3bdbc12a",
   "metadata": {},
   "outputs": [
    {
     "data": {
      "text/plain": [
       "(2059358, 90)"
      ]
     },
     "execution_count": 107,
     "metadata": {},
     "output_type": "execute_result"
    }
   ],
   "source": [
    "df1.shape"
   ]
  },
  {
   "cell_type": "code",
   "execution_count": null,
   "id": "8544f175",
   "metadata": {},
   "outputs": [],
   "source": [
    "droplist = ['energy-from-fat_100g', 'monounsaturated-fat_100g', 'polyunsaturated-fat_100g', 'omega-3-fat_100g', 'omega-6-fat_100g', 'omega-9-fat_100g', 'trans-fat_100g', 'lactose_100g', 'maltose_100g', 'maltodextrins_100g', \n",
    "            'starch_100g', 'polyols_100g', 'casein_100g', 'serum-proteins_100g','alcohol_100g',  'caffeine_100g', 'taurine_100g',\n",
    "            'ph_100g', 'fruits-vegetables-nuts_100g', 'collagen-meat-protein-ratio_100g', 'cocoa_100g', 'chlorophyl_100g', 'nutrition-score-fr_100g', 'nutrition-score-uk_100g', 'glycemic-index_100g', 'water-hardness_100g' ]\n",
    "df2 = df1.drop(droplist, axis=1)"
   ]
  },
  {
   "cell_type": "code",
   "execution_count": null,
   "id": "0af8cd5e",
   "metadata": {},
   "outputs": [],
   "source": [
    "df2.shape"
   ]
  },
  {
   "cell_type": "code",
   "execution_count": null,
   "id": "8d6c9308",
   "metadata": {},
   "outputs": [],
   "source": [
    "# Removing duplicate rows by name\n",
    "df3 = df2.drop_duplicates(subset = 'product_name', keep = 'first')"
   ]
  },
  {
   "cell_type": "code",
   "execution_count": null,
   "id": "61024839",
   "metadata": {},
   "outputs": [],
   "source": [
    "df3.shape"
   ]
  },
  {
   "cell_type": "code",
   "execution_count": null,
   "id": "48a3e2ae",
   "metadata": {},
   "outputs": [],
   "source": [
    "df3.to_csv('df3.csv')"
   ]
  },
  {
   "cell_type": "code",
   "execution_count": 2,
   "id": "8557658a",
   "metadata": {},
   "outputs": [],
   "source": [
    "import pandas as pd"
   ]
  },
  {
   "cell_type": "code",
   "execution_count": 3,
   "id": "728a9f51",
   "metadata": {},
   "outputs": [],
   "source": [
    "df3 = pd.read_csv('/Users/demol/Downloads/df3.csv')"
   ]
  },
  {
   "cell_type": "code",
   "execution_count": 4,
   "id": "88d77875",
   "metadata": {},
   "outputs": [],
   "source": [
    "#Percentage of NaN values in each column:\n",
    "name = []\n",
    "percentage=[]\n",
    "for i in range(0, 50):\n",
    "    #print(df3.columns[i], ':', str(df3.iloc[:, i].isnull().sum()/len(df2.iloc[:, i])*100))\n",
    "    name.append(df3.columns[i])\n",
    "    percentage.append(df3.iloc[:, i].isnull().sum()/len(df3.iloc[:, i])*100)"
   ]
  },
  {
   "cell_type": "code",
   "execution_count": 5,
   "id": "9f19cbdf",
   "metadata": {},
   "outputs": [
    {
     "name": "stdout",
     "output_type": "stream",
     "text": [
      "['Unnamed: 0', 'product_name', 'nutriscore_score', 'nutriscore_grade', 'countries', 'countries_tags', 'countries_fr', 'energy_100g', 'fat_100g', 'saturated-fat_100g', 'cholesterol_100g', 'carbohydrates_100g', 'sugars_100g', 'sucrose_100g', 'glucose_100g', 'fructose_100g', 'fiber_100g', 'proteins_100g', 'nucleotides_100g', 'salt_100g', 'sodium_100g', 'vitamin-a_100g', 'beta-carotene_100g', 'vitamin-d_100g', 'vitamin-e_100g', 'vitamin-k_100g', 'vitamin-c_100g', 'vitamin-b1_100g', 'vitamin-b2_100g', 'vitamin-pp_100g', 'vitamin-b6_100g', 'vitamin-b9_100g', 'folates_100g', 'vitamin-b12_100g', 'biotin_100g', 'silica_100g', 'bicarbonate_100g', 'potassium_100g', 'chloride_100g', 'calcium_100g', 'phosphorus_100g', 'iron_100g', 'magnesium_100g', 'zinc_100g', 'copper_100g', 'manganese_100g', 'fluoride_100g', 'selenium_100g', 'chromium_100g', 'molybdenum_100g']\n"
     ]
    }
   ],
   "source": [
    "print(name)"
   ]
  },
  {
   "cell_type": "code",
   "execution_count": 7,
   "id": "50bdf657",
   "metadata": {},
   "outputs": [],
   "source": [
    "nan_stat1 = pd.DataFrame([(i, s) for i in name for s in percentage], columns=['name', 'percentage NaN'])"
   ]
  },
  {
   "cell_type": "code",
   "execution_count": 9,
   "id": "4013f251",
   "metadata": {},
   "outputs": [
    {
     "data": {
      "text/html": [
       "<div>\n",
       "<style scoped>\n",
       "    .dataframe tbody tr th:only-of-type {\n",
       "        vertical-align: middle;\n",
       "    }\n",
       "\n",
       "    .dataframe tbody tr th {\n",
       "        vertical-align: top;\n",
       "    }\n",
       "\n",
       "    .dataframe thead th {\n",
       "        text-align: right;\n",
       "    }\n",
       "</style>\n",
       "<table border=\"1\" class=\"dataframe\">\n",
       "  <thead>\n",
       "    <tr style=\"text-align: right;\">\n",
       "      <th></th>\n",
       "      <th>name</th>\n",
       "      <th>percentage NaN</th>\n",
       "    </tr>\n",
       "  </thead>\n",
       "  <tbody>\n",
       "    <tr>\n",
       "      <th>0</th>\n",
       "      <td>Unnamed: 0</td>\n",
       "      <td>0.000000</td>\n",
       "    </tr>\n",
       "    <tr>\n",
       "      <th>1</th>\n",
       "      <td>Unnamed: 0</td>\n",
       "      <td>0.000078</td>\n",
       "    </tr>\n",
       "    <tr>\n",
       "      <th>2</th>\n",
       "      <td>Unnamed: 0</td>\n",
       "      <td>64.651912</td>\n",
       "    </tr>\n",
       "  </tbody>\n",
       "</table>\n",
       "</div>"
      ],
      "text/plain": [
       "         name  percentage NaN\n",
       "0  Unnamed: 0        0.000000\n",
       "1  Unnamed: 0        0.000078\n",
       "2  Unnamed: 0       64.651912"
      ]
     },
     "execution_count": 9,
     "metadata": {},
     "output_type": "execute_result"
    }
   ],
   "source": [
    "nan_stat1.head(3)"
   ]
  },
  {
   "cell_type": "code",
   "execution_count": 6,
   "id": "197f945d",
   "metadata": {},
   "outputs": [],
   "source": [
    "nan_stat =  pd.DataFrame(list(zip(name, percentage)),\n",
    "               columns =['Name', 'Nan_Percentage'])"
   ]
  },
  {
   "cell_type": "code",
   "execution_count": 17,
   "id": "d1c9b244",
   "metadata": {},
   "outputs": [
    {
     "data": {
      "text/html": [
       "<div>\n",
       "<style scoped>\n",
       "    .dataframe tbody tr th:only-of-type {\n",
       "        vertical-align: middle;\n",
       "    }\n",
       "\n",
       "    .dataframe tbody tr th {\n",
       "        vertical-align: top;\n",
       "    }\n",
       "\n",
       "    .dataframe thead th {\n",
       "        text-align: right;\n",
       "    }\n",
       "</style>\n",
       "<table border=\"1\" class=\"dataframe\">\n",
       "  <thead>\n",
       "    <tr style=\"text-align: right;\">\n",
       "      <th></th>\n",
       "      <th>Name</th>\n",
       "      <th>Nan_Percentage</th>\n",
       "    </tr>\n",
       "  </thead>\n",
       "  <tbody>\n",
       "    <tr>\n",
       "      <th>0</th>\n",
       "      <td>Unnamed: 0</td>\n",
       "      <td>0.000000</td>\n",
       "    </tr>\n",
       "    <tr>\n",
       "      <th>1</th>\n",
       "      <td>product_name</td>\n",
       "      <td>0.000078</td>\n",
       "    </tr>\n",
       "    <tr>\n",
       "      <th>2</th>\n",
       "      <td>nutriscore_score</td>\n",
       "      <td>64.651912</td>\n",
       "    </tr>\n",
       "  </tbody>\n",
       "</table>\n",
       "</div>"
      ],
      "text/plain": [
       "               Name  Nan_Percentage\n",
       "0        Unnamed: 0        0.000000\n",
       "1      product_name        0.000078\n",
       "2  nutriscore_score       64.651912"
      ]
     },
     "execution_count": 17,
     "metadata": {},
     "output_type": "execute_result"
    }
   ],
   "source": [
    "nan_stat.head(3)"
   ]
  },
  {
   "cell_type": "code",
   "execution_count": 17,
   "id": "4c7e6f68",
   "metadata": {},
   "outputs": [],
   "source": [
    "nan_stat.drop([0], inplace=True)"
   ]
  },
  {
   "cell_type": "code",
   "execution_count": 10,
   "id": "212aa037",
   "metadata": {},
   "outputs": [],
   "source": [
    "nan_stat1.drop([0], inplace=True)"
   ]
  },
  {
   "cell_type": "code",
   "execution_count": 12,
   "id": "468d5c4b",
   "metadata": {},
   "outputs": [],
   "source": [
    "import matplotlib.pyplot as plt\n",
    "import seaborn as sns"
   ]
  },
  {
   "cell_type": "code",
   "execution_count": 18,
   "id": "8b3c5381",
   "metadata": {},
   "outputs": [
    {
     "data": {
      "image/png": "[encoded data removed]",
      "text/plain": [
       "<Figure size 864x432 with 1 Axes>"
      ]
     },
     "metadata": {},
     "output_type": "display_data"
    }
   ],
   "source": [
    "plt.figure(figsize=(12, 6))\n",
    "chart = sns.barplot(x=\"Name\", y =\"Nan_Percentage\", data=nan_stat)\n",
    "chart.set_xticklabels(chart.get_xticklabels(), rotation=45, horizontalalignment='right')\n",
    "plt.show()\n"
   ]
  },
  {
   "cell_type": "code",
   "execution_count": 19,
   "id": "e9c546d1",
   "metadata": {},
   "outputs": [
    {
     "data": {
      "text/plain": [
       "(1279246, 52)"
      ]
     },
     "execution_count": 19,
     "metadata": {},
     "output_type": "execute_result"
    }
   ],
   "source": [
    "df3.shape"
   ]
  },
  {
   "cell_type": "markdown",
   "id": "55cb0a4d",
   "metadata": {},
   "source": [
    "There are a lot of columns with NaN percentage close to 100. It is better to delete them because they do not provide much information.\n",
    "Here I want to count the number of columns with NaN >75% and create a list of them."
   ]
  },
  {
   "cell_type": "code",
   "execution_count": 20,
   "id": "d84d1d5f",
   "metadata": {},
   "outputs": [
    {
     "name": "stdout",
     "output_type": "stream",
     "text": [
      "36\n"
     ]
    }
   ],
   "source": [
    "# We remove columns with Nan % > 75\n",
    "\n",
    "droplist_c = [df3.columns[i] for i in range(0, 51) if (df3.iloc[:, i].isnull().sum()/len(df3.iloc[:, i])*100) > 75 ]\n",
    "print(len(droplist_c))"
   ]
  },
  {
   "cell_type": "code",
   "execution_count": 22,
   "id": "71278fd9",
   "metadata": {},
   "outputs": [],
   "source": [
    "df4 = df3.drop(droplist_c, axis=1)     #I delete 36 columns from df3."
   ]
  },
  {
   "cell_type": "code",
   "execution_count": 23,
   "id": "e396e89a",
   "metadata": {},
   "outputs": [
    {
     "data": {
      "text/plain": [
       "(1279246, 16)"
      ]
     },
     "execution_count": 23,
     "metadata": {},
     "output_type": "execute_result"
    }
   ],
   "source": [
    "df4.shape"
   ]
  },
  {
   "cell_type": "markdown",
   "id": "e3e8ccf3",
   "metadata": {},
   "source": [
    "Now I want to eliminate rows with NaN percentage more then 75%:"
   ]
  },
  {
   "cell_type": "code",
   "execution_count": 27,
   "id": "da80c51d",
   "metadata": {},
   "outputs": [],
   "source": [
    "perc = 75.0\n",
    "min_count =  int(((100-perc)/100)*df4.shape[1] + 1)\n",
    "df5 = df4.dropna( axis=0, \n",
    "                    thresh=min_count)"
   ]
  },
  {
   "cell_type": "code",
   "execution_count": 28,
   "id": "12ae3a63",
   "metadata": {},
   "outputs": [
    {
     "data": {
      "text/plain": [
       "(1074867, 16)"
      ]
     },
     "execution_count": 28,
     "metadata": {},
     "output_type": "execute_result"
    }
   ],
   "source": [
    "df5.shape"
   ]
  },
  {
   "cell_type": "markdown",
   "id": "ad43fbc3",
   "metadata": {},
   "source": [
    "About 200 000 rows were eliminated."
   ]
  },
  {
   "cell_type": "code",
   "execution_count": 29,
   "id": "1b282fb6",
   "metadata": {},
   "outputs": [
    {
     "data": {
      "text/html": [
       "<div>\n",
       "<style scoped>\n",
       "    .dataframe tbody tr th:only-of-type {\n",
       "        vertical-align: middle;\n",
       "    }\n",
       "\n",
       "    .dataframe tbody tr th {\n",
       "        vertical-align: top;\n",
       "    }\n",
       "\n",
       "    .dataframe thead th {\n",
       "        text-align: right;\n",
       "    }\n",
       "</style>\n",
       "<table border=\"1\" class=\"dataframe\">\n",
       "  <thead>\n",
       "    <tr style=\"text-align: right;\">\n",
       "      <th></th>\n",
       "      <th>Unnamed: 0</th>\n",
       "      <th>product_name</th>\n",
       "      <th>nutriscore_score</th>\n",
       "      <th>nutriscore_grade</th>\n",
       "      <th>countries</th>\n",
       "      <th>countries_tags</th>\n",
       "      <th>energy_100g</th>\n",
       "      <th>fat_100g</th>\n",
       "      <th>saturated-fat_100g</th>\n",
       "      <th>carbohydrates_100g</th>\n",
       "      <th>sugars_100g</th>\n",
       "      <th>fiber_100g</th>\n",
       "      <th>proteins_100g</th>\n",
       "      <th>salt_100g</th>\n",
       "      <th>sodium_100g</th>\n",
       "      <th>carbon-footprint_100g</th>\n",
       "    </tr>\n",
       "  </thead>\n",
       "  <tbody>\n",
       "    <tr>\n",
       "      <th>1</th>\n",
       "      <td>1</td>\n",
       "      <td>L.casei</td>\n",
       "      <td>NaN</td>\n",
       "      <td>NaN</td>\n",
       "      <td>Spain</td>\n",
       "      <td>en:spain</td>\n",
       "      <td>NaN</td>\n",
       "      <td>1.4</td>\n",
       "      <td>0.90</td>\n",
       "      <td>9.8</td>\n",
       "      <td>9.8</td>\n",
       "      <td>NaN</td>\n",
       "      <td>2.7</td>\n",
       "      <td>0.1</td>\n",
       "      <td>0.04</td>\n",
       "      <td>NaN</td>\n",
       "    </tr>\n",
       "    <tr>\n",
       "      <th>2</th>\n",
       "      <td>2</td>\n",
       "      <td>Vitória crackers</td>\n",
       "      <td>NaN</td>\n",
       "      <td>NaN</td>\n",
       "      <td>France</td>\n",
       "      <td>en:france</td>\n",
       "      <td>1569.0</td>\n",
       "      <td>7.0</td>\n",
       "      <td>3.08</td>\n",
       "      <td>70.1</td>\n",
       "      <td>15.0</td>\n",
       "      <td>NaN</td>\n",
       "      <td>7.8</td>\n",
       "      <td>1.4</td>\n",
       "      <td>0.56</td>\n",
       "      <td>NaN</td>\n",
       "    </tr>\n",
       "    <tr>\n",
       "      <th>4</th>\n",
       "      <td>4</td>\n",
       "      <td>Filetes de pollo empanado</td>\n",
       "      <td>NaN</td>\n",
       "      <td>NaN</td>\n",
       "      <td>Espagne</td>\n",
       "      <td>en:spain</td>\n",
       "      <td>685.8</td>\n",
       "      <td>1.9</td>\n",
       "      <td>1.00</td>\n",
       "      <td>NaN</td>\n",
       "      <td>NaN</td>\n",
       "      <td>NaN</td>\n",
       "      <td>15.3</td>\n",
       "      <td>1.1</td>\n",
       "      <td>0.44</td>\n",
       "      <td>NaN</td>\n",
       "    </tr>\n",
       "    <tr>\n",
       "      <th>5</th>\n",
       "      <td>5</td>\n",
       "      <td>Hamburguesas de ternera 100%</td>\n",
       "      <td>NaN</td>\n",
       "      <td>NaN</td>\n",
       "      <td>en:es</td>\n",
       "      <td>en:spain</td>\n",
       "      <td>3661.0</td>\n",
       "      <td>15.1</td>\n",
       "      <td>6.10</td>\n",
       "      <td>2.6</td>\n",
       "      <td>1.0</td>\n",
       "      <td>NaN</td>\n",
       "      <td>15.7</td>\n",
       "      <td>2.1</td>\n",
       "      <td>0.84</td>\n",
       "      <td>NaN</td>\n",
       "    </tr>\n",
       "    <tr>\n",
       "      <th>7</th>\n",
       "      <td>7</td>\n",
       "      <td>moutarde au moût de raisin</td>\n",
       "      <td>18.0</td>\n",
       "      <td>d</td>\n",
       "      <td>France</td>\n",
       "      <td>en:france</td>\n",
       "      <td>936.0</td>\n",
       "      <td>8.2</td>\n",
       "      <td>2.20</td>\n",
       "      <td>29.0</td>\n",
       "      <td>22.0</td>\n",
       "      <td>0.0</td>\n",
       "      <td>5.1</td>\n",
       "      <td>4.6</td>\n",
       "      <td>1.84</td>\n",
       "      <td>NaN</td>\n",
       "    </tr>\n",
       "  </tbody>\n",
       "</table>\n",
       "</div>"
      ],
      "text/plain": [
       "   Unnamed: 0                  product_name  nutriscore_score  \\\n",
       "1           1                       L.casei               NaN   \n",
       "2           2              Vitória crackers               NaN   \n",
       "4           4     Filetes de pollo empanado               NaN   \n",
       "5           5  Hamburguesas de ternera 100%               NaN   \n",
       "7           7   moutarde au moût de raisin               18.0   \n",
       "\n",
       "  nutriscore_grade countries countries_tags  energy_100g  fat_100g  \\\n",
       "1              NaN     Spain       en:spain          NaN       1.4   \n",
       "2              NaN    France      en:france       1569.0       7.0   \n",
       "4              NaN   Espagne       en:spain        685.8       1.9   \n",
       "5              NaN     en:es       en:spain       3661.0      15.1   \n",
       "7                d    France      en:france        936.0       8.2   \n",
       "\n",
       "   saturated-fat_100g  carbohydrates_100g  sugars_100g  fiber_100g  \\\n",
       "1                0.90                 9.8          9.8         NaN   \n",
       "2                3.08                70.1         15.0         NaN   \n",
       "4                1.00                 NaN          NaN         NaN   \n",
       "5                6.10                 2.6          1.0         NaN   \n",
       "7                2.20                29.0         22.0         0.0   \n",
       "\n",
       "   proteins_100g  salt_100g  sodium_100g  carbon-footprint_100g  \n",
       "1            2.7        0.1         0.04                    NaN  \n",
       "2            7.8        1.4         0.56                    NaN  \n",
       "4           15.3        1.1         0.44                    NaN  \n",
       "5           15.7        2.1         0.84                    NaN  \n",
       "7            5.1        4.6         1.84                    NaN  "
      ]
     },
     "execution_count": 29,
     "metadata": {},
     "output_type": "execute_result"
    }
   ],
   "source": [
    "df5.head()"
   ]
  },
  {
   "cell_type": "code",
   "execution_count": 55,
   "id": "9988dc9e",
   "metadata": {},
   "outputs": [
    {
     "name": "stderr",
     "output_type": "stream",
     "text": [
      "/Users/demol/opt/anaconda3/lib/python3.9/site-packages/pandas/core/frame.py:4906: SettingWithCopyWarning: \n",
      "A value is trying to be set on a copy of a slice from a DataFrame\n",
      "\n",
      "See the caveats in the documentation: https://pandas.pydata.org/pandas-docs/stable/user_guide/indexing.html#returning-a-view-versus-a-copy\n",
      "  return super().drop(\n"
     ]
    }
   ],
   "source": [
    "df5.drop(['Unnamed: 0'], axis=1, inplace=True)"
   ]
  },
  {
   "cell_type": "markdown",
   "id": "548f0ad6",
   "metadata": {},
   "source": [
    "### Removing aberrant values"
   ]
  },
  {
   "cell_type": "markdown",
   "id": "214ef902",
   "metadata": {},
   "source": [
    "First, I want to see what countries contributes most to the database nutriscore. "
   ]
  },
  {
   "cell_type": "code",
   "execution_count": 30,
   "id": "92b353e8",
   "metadata": {},
   "outputs": [],
   "source": [
    "df5.to_csv('df5.csv')"
   ]
  },
  {
   "cell_type": "code",
   "execution_count": 4,
   "id": "e27e5f63",
   "metadata": {},
   "outputs": [],
   "source": [
    "import pandas as pd\n",
    "df5 = pd.read_csv('/Users/demol/Downloads/df5.csv')"
   ]
  },
  {
   "cell_type": "code",
   "execution_count": 58,
   "id": "6eb423d9",
   "metadata": {},
   "outputs": [
    {
     "data": {
      "text/plain": [
       "France                                                      247779\n",
       "United States                                               207557\n",
       "en:fr                                                        96508\n",
       "en:it                                                        53041\n",
       "en:es                                                        49362\n",
       "                                                             ...  \n",
       "Deutschland,Griechenland,Portugal,Vereinigtes Königreich         1\n",
       "Frankreich,Deutschland,Schweiz,Deutschland                       1\n",
       "France,Germany,Netherlands,fr:Frankrijk                          1\n",
       "Frankreich, Russland                                             1\n",
       "Bulgaria,Cyprus,Czech Republic,Greece                            1\n",
       "Name: countries, Length: 7706, dtype: int64"
      ]
     },
     "execution_count": 58,
     "metadata": {},
     "output_type": "execute_result"
    }
   ],
   "source": [
    "df5['countries'].value_counts()"
   ]
  },
  {
   "cell_type": "code",
   "execution_count": 41,
   "id": "0cb06c9c",
   "metadata": {},
   "outputs": [
    {
     "data": {
      "text/html": [
       "<div>\n",
       "<style scoped>\n",
       "    .dataframe tbody tr th:only-of-type {\n",
       "        vertical-align: middle;\n",
       "    }\n",
       "\n",
       "    .dataframe tbody tr th {\n",
       "        vertical-align: top;\n",
       "    }\n",
       "\n",
       "    .dataframe thead th {\n",
       "        text-align: right;\n",
       "    }\n",
       "</style>\n",
       "<table border=\"1\" class=\"dataframe\">\n",
       "  <thead>\n",
       "    <tr style=\"text-align: right;\">\n",
       "      <th></th>\n",
       "      <th>Unnamed: 0</th>\n",
       "      <th>product_name</th>\n",
       "      <th>nutriscore_score</th>\n",
       "      <th>nutriscore_grade</th>\n",
       "      <th>countries</th>\n",
       "      <th>countries_tags</th>\n",
       "      <th>energy_100g</th>\n",
       "      <th>fat_100g</th>\n",
       "      <th>saturated-fat_100g</th>\n",
       "      <th>carbohydrates_100g</th>\n",
       "      <th>sugars_100g</th>\n",
       "      <th>fiber_100g</th>\n",
       "      <th>proteins_100g</th>\n",
       "      <th>salt_100g</th>\n",
       "      <th>sodium_100g</th>\n",
       "      <th>carbon-footprint_100g</th>\n",
       "    </tr>\n",
       "  </thead>\n",
       "  <tbody>\n",
       "    <tr>\n",
       "      <th>1</th>\n",
       "      <td>1</td>\n",
       "      <td>L.casei</td>\n",
       "      <td>NaN</td>\n",
       "      <td>NaN</td>\n",
       "      <td>Spain</td>\n",
       "      <td>en:spain</td>\n",
       "      <td>NaN</td>\n",
       "      <td>1.4</td>\n",
       "      <td>0.90</td>\n",
       "      <td>9.8</td>\n",
       "      <td>9.8</td>\n",
       "      <td>NaN</td>\n",
       "      <td>2.7</td>\n",
       "      <td>0.1</td>\n",
       "      <td>0.04</td>\n",
       "      <td>NaN</td>\n",
       "    </tr>\n",
       "    <tr>\n",
       "      <th>2</th>\n",
       "      <td>2</td>\n",
       "      <td>Vitória crackers</td>\n",
       "      <td>NaN</td>\n",
       "      <td>NaN</td>\n",
       "      <td>France</td>\n",
       "      <td>en:france</td>\n",
       "      <td>1569.0</td>\n",
       "      <td>7.0</td>\n",
       "      <td>3.08</td>\n",
       "      <td>70.1</td>\n",
       "      <td>15.0</td>\n",
       "      <td>NaN</td>\n",
       "      <td>7.8</td>\n",
       "      <td>1.4</td>\n",
       "      <td>0.56</td>\n",
       "      <td>NaN</td>\n",
       "    </tr>\n",
       "    <tr>\n",
       "      <th>4</th>\n",
       "      <td>4</td>\n",
       "      <td>Filetes de pollo empanado</td>\n",
       "      <td>NaN</td>\n",
       "      <td>NaN</td>\n",
       "      <td>Espagne</td>\n",
       "      <td>en:spain</td>\n",
       "      <td>685.8</td>\n",
       "      <td>1.9</td>\n",
       "      <td>1.00</td>\n",
       "      <td>NaN</td>\n",
       "      <td>NaN</td>\n",
       "      <td>NaN</td>\n",
       "      <td>15.3</td>\n",
       "      <td>1.1</td>\n",
       "      <td>0.44</td>\n",
       "      <td>NaN</td>\n",
       "    </tr>\n",
       "    <tr>\n",
       "      <th>5</th>\n",
       "      <td>5</td>\n",
       "      <td>Hamburguesas de ternera 100%</td>\n",
       "      <td>NaN</td>\n",
       "      <td>NaN</td>\n",
       "      <td>en:es</td>\n",
       "      <td>en:spain</td>\n",
       "      <td>3661.0</td>\n",
       "      <td>15.1</td>\n",
       "      <td>6.10</td>\n",
       "      <td>2.6</td>\n",
       "      <td>1.0</td>\n",
       "      <td>NaN</td>\n",
       "      <td>15.7</td>\n",
       "      <td>2.1</td>\n",
       "      <td>0.84</td>\n",
       "      <td>NaN</td>\n",
       "    </tr>\n",
       "    <tr>\n",
       "      <th>7</th>\n",
       "      <td>7</td>\n",
       "      <td>moutarde au moût de raisin</td>\n",
       "      <td>18.0</td>\n",
       "      <td>d</td>\n",
       "      <td>France</td>\n",
       "      <td>en:france</td>\n",
       "      <td>936.0</td>\n",
       "      <td>8.2</td>\n",
       "      <td>2.20</td>\n",
       "      <td>29.0</td>\n",
       "      <td>22.0</td>\n",
       "      <td>0.0</td>\n",
       "      <td>5.1</td>\n",
       "      <td>4.6</td>\n",
       "      <td>1.84</td>\n",
       "      <td>NaN</td>\n",
       "    </tr>\n",
       "  </tbody>\n",
       "</table>\n",
       "</div>"
      ],
      "text/plain": [
       "   Unnamed: 0                  product_name  nutriscore_score  \\\n",
       "1           1                       L.casei               NaN   \n",
       "2           2              Vitória crackers               NaN   \n",
       "4           4     Filetes de pollo empanado               NaN   \n",
       "5           5  Hamburguesas de ternera 100%               NaN   \n",
       "7           7   moutarde au moût de raisin               18.0   \n",
       "\n",
       "  nutriscore_grade countries countries_tags  energy_100g  fat_100g  \\\n",
       "1              NaN     Spain       en:spain          NaN       1.4   \n",
       "2              NaN    France      en:france       1569.0       7.0   \n",
       "4              NaN   Espagne       en:spain        685.8       1.9   \n",
       "5              NaN     en:es       en:spain       3661.0      15.1   \n",
       "7                d    France      en:france        936.0       8.2   \n",
       "\n",
       "   saturated-fat_100g  carbohydrates_100g  sugars_100g  fiber_100g  \\\n",
       "1                0.90                 9.8          9.8         NaN   \n",
       "2                3.08                70.1         15.0         NaN   \n",
       "4                1.00                 NaN          NaN         NaN   \n",
       "5                6.10                 2.6          1.0         NaN   \n",
       "7                2.20                29.0         22.0         0.0   \n",
       "\n",
       "   proteins_100g  salt_100g  sodium_100g  carbon-footprint_100g  \n",
       "1            2.7        0.1         0.04                    NaN  \n",
       "2            7.8        1.4         0.56                    NaN  \n",
       "4           15.3        1.1         0.44                    NaN  \n",
       "5           15.7        2.1         0.84                    NaN  \n",
       "7            5.1        4.6         1.84                    NaN  "
      ]
     },
     "execution_count": 41,
     "metadata": {},
     "output_type": "execute_result"
    }
   ],
   "source": [
    "df5.head()"
   ]
  },
  {
   "cell_type": "code",
   "execution_count": 5,
   "id": "c402e0d7",
   "metadata": {},
   "outputs": [],
   "source": [
    "df6 = df5[df5[\"countries\"].str.contains(\"en:\") == False] "
   ]
  },
  {
   "cell_type": "code",
   "execution_count": 6,
   "id": "b8158a71",
   "metadata": {},
   "outputs": [
    {
     "data": {
      "text/plain": [
       "(624609, 16)"
      ]
     },
     "execution_count": 6,
     "metadata": {},
     "output_type": "execute_result"
    }
   ],
   "source": [
    "df6.shape"
   ]
  },
  {
   "cell_type": "code",
   "execution_count": 65,
   "id": "1a76d3e4",
   "metadata": {},
   "outputs": [
    {
     "data": {
      "text/plain": [
       "France            247779\n",
       "United States     207557\n",
       "España             36329\n",
       "Deutschland        12049\n",
       "Spain               6185\n",
       "Suisse              5382\n",
       "United Kingdom      4121\n",
       "us                  4023\n",
       "Francia,España      3830\n",
       "Germany             3696\n",
       "Switzerland         3689\n",
       "Italy               3550\n",
       "México              2567\n",
       "Canada              2484\n",
       "Francia             2124\n",
       "Belgium             2015\n",
       "Belgique            1929\n",
       "Italia              1802\n",
       "de                  1609\n",
       "fr                  1605\n",
       "Name: countries, dtype: int64"
      ]
     },
     "execution_count": 65,
     "metadata": {},
     "output_type": "execute_result"
    }
   ],
   "source": [
    "df6['countries'].value_counts()[:20]"
   ]
  },
  {
   "cell_type": "code",
   "execution_count": 66,
   "id": "06f0e6ee",
   "metadata": {},
   "outputs": [
    {
     "name": "stderr",
     "output_type": "stream",
     "text": [
      "/Users/demol/opt/anaconda3/lib/python3.9/site-packages/pandas/core/generic.py:6619: SettingWithCopyWarning: \n",
      "A value is trying to be set on a copy of a slice from a DataFrame\n",
      "\n",
      "See the caveats in the documentation: https://pandas.pydata.org/pandas-docs/stable/user_guide/indexing.html#returning-a-view-versus-a-copy\n",
      "  return self._update_inplace(result)\n"
     ]
    }
   ],
   "source": [
    "df6['countries'].replace('us', 'United States', inplace=True)"
   ]
  },
  {
   "cell_type": "code",
   "execution_count": 68,
   "id": "a2a6b0cb",
   "metadata": {},
   "outputs": [
    {
     "data": {
      "text/plain": [
       "France            247779\n",
       "United States     211580\n",
       "España             36329\n",
       "Deutschland        12049\n",
       "Spain               6185\n",
       "Suisse              5382\n",
       "United Kingdom      4121\n",
       "Francia,España      3830\n",
       "Germany             3696\n",
       "Switzerland         3689\n",
       "Name: countries, dtype: int64"
      ]
     },
     "execution_count": 68,
     "metadata": {},
     "output_type": "execute_result"
    }
   ],
   "source": [
    "df6['countries'].value_counts()[:10]"
   ]
  },
  {
   "cell_type": "code",
   "execution_count": 69,
   "id": "5f921cef",
   "metadata": {},
   "outputs": [],
   "source": [
    "df6['countries'].replace('España', 'Spain', inplace=True)"
   ]
  },
  {
   "cell_type": "code",
   "execution_count": 70,
   "id": "2abe0ad9",
   "metadata": {},
   "outputs": [],
   "source": [
    "df6['countries'].replace('Deutschland', 'Germany', inplace=True)"
   ]
  },
  {
   "cell_type": "code",
   "execution_count": 71,
   "id": "f8926bd4",
   "metadata": {},
   "outputs": [],
   "source": [
    "df6['countries'].replace('Francia', 'France', inplace=True)"
   ]
  },
  {
   "cell_type": "code",
   "execution_count": 72,
   "id": "3ffe1ec3",
   "metadata": {},
   "outputs": [],
   "source": [
    "df6['countries'].replace('Suisse', 'Switzerland', inplace=True) "
   ]
  },
  {
   "cell_type": "code",
   "execution_count": 73,
   "id": "81fe7ba9",
   "metadata": {},
   "outputs": [],
   "source": [
    "df6['countries'].replace('Belgique', 'Belgium', inplace=True)"
   ]
  },
  {
   "cell_type": "code",
   "execution_count": 74,
   "id": "159ea180",
   "metadata": {},
   "outputs": [],
   "source": [
    "df6['countries'].replace('fr', 'France', inplace=True)"
   ]
  },
  {
   "cell_type": "code",
   "execution_count": 75,
   "id": "e9ce746b",
   "metadata": {},
   "outputs": [],
   "source": [
    "df6['countries'].replace('de', 'Germany', inplace=True)"
   ]
  },
  {
   "cell_type": "code",
   "execution_count": null,
   "id": "d024ddd8",
   "metadata": {},
   "outputs": [],
   "source": []
  },
  {
   "cell_type": "code",
   "execution_count": 76,
   "id": "d5c0629f",
   "metadata": {},
   "outputs": [
    {
     "data": {
      "text/plain": [
       "France            251508\n",
       "United States     211580\n",
       "Spain              42514\n",
       "Germany            17354\n",
       "Switzerland         9071\n",
       "United Kingdom      4121\n",
       "Belgium             3944\n",
       "Francia,España      3830\n",
       "Italy               3550\n",
       "México              2567\n",
       "Name: countries, dtype: int64"
      ]
     },
     "execution_count": 76,
     "metadata": {},
     "output_type": "execute_result"
    }
   ],
   "source": [
    "df6['countries'].value_counts()[:10]"
   ]
  },
  {
   "cell_type": "code",
   "execution_count": 7,
   "id": "143c3f0d",
   "metadata": {},
   "outputs": [],
   "source": [
    "df6 = df6[df6[\"countries\"].str.contains(\"Francia,España\") == False] "
   ]
  },
  {
   "cell_type": "code",
   "execution_count": 8,
   "id": "44320658",
   "metadata": {},
   "outputs": [
    {
     "data": {
      "text/plain": [
       "France            247779\n",
       "United States     207557\n",
       "España             36329\n",
       "Deutschland        12049\n",
       "Spain               6185\n",
       "Suisse              5382\n",
       "United Kingdom      4121\n",
       "us                  4023\n",
       "Germany             3696\n",
       "Switzerland         3689\n",
       "Name: countries, dtype: int64"
      ]
     },
     "execution_count": 8,
     "metadata": {},
     "output_type": "execute_result"
    }
   ],
   "source": [
    "df6['countries'].value_counts()[:10]"
   ]
  },
  {
   "cell_type": "code",
   "execution_count": 80,
   "id": "61a05991",
   "metadata": {},
   "outputs": [
    {
     "data": {
      "image/png": "[encoded data removed]",
      "text/plain": [
       "<Figure size 432x288 with 1 Axes>"
      ]
     },
     "metadata": {
      "needs_background": "light"
     },
     "output_type": "display_data"
    }
   ],
   "source": [
    "ax = df6.countries.value_counts()[:10].plot(kind='barh')\n"
   ]
  },
  {
   "cell_type": "markdown",
   "id": "1ab0ee65",
   "metadata": {},
   "source": [
    "### Removing Outliers "
   ]
  },
  {
   "cell_type": "markdown",
   "id": "34f08f9b",
   "metadata": {},
   "source": [
    "To get an idea about presence of outliers, I plot several numerical values with seaborn boxplot:\n"
   ]
  },
  {
   "cell_type": "markdown",
   "id": "d13e26df",
   "metadata": {},
   "source": [
    "#### Visualizing Outliers"
   ]
  },
  {
   "cell_type": "code",
   "execution_count": 81,
   "id": "e34fb383",
   "metadata": {},
   "outputs": [
    {
     "data": {
      "text/plain": [
       "<AxesSubplot:xlabel='energy_100g'>"
      ]
     },
     "execution_count": 81,
     "metadata": {},
     "output_type": "execute_result"
    },
    {
     "data": {
      "image/png": "[encoded data removed]",
      "text/plain": [
       "<Figure size 432x288 with 1 Axes>"
      ]
     },
     "metadata": {
      "needs_background": "light"
     },
     "output_type": "display_data"
    }
   ],
   "source": [
    "sns.boxplot(x=df6['energy_100g'])"
   ]
  },
  {
   "cell_type": "code",
   "execution_count": 83,
   "id": "a88ec20f",
   "metadata": {},
   "outputs": [
    {
     "data": {
      "text/plain": [
       "<AxesSubplot:xlabel='fiber_100g'>"
      ]
     },
     "execution_count": 83,
     "metadata": {},
     "output_type": "execute_result"
    },
    {
     "data": {
      "image/png": "[encoded data removed]",
      "text/plain": [
       "<Figure size 432x288 with 1 Axes>"
      ]
     },
     "metadata": {
      "needs_background": "light"
     },
     "output_type": "display_data"
    }
   ],
   "source": [
    "sns.boxplot(x=df6['fiber_100g'])"
   ]
  },
  {
   "cell_type": "code",
   "execution_count": 87,
   "id": "3b6c0853",
   "metadata": {},
   "outputs": [
    {
     "data": {
      "image/png": "[encoded data removed]",
      "text/plain": [
       "<Figure size 576x288 with 1 Axes>"
      ]
     },
     "metadata": {
      "needs_background": "light"
     },
     "output_type": "display_data"
    }
   ],
   "source": [
    "fig, ax = plt.subplots(figsize=(8,4))\n",
    "ax.scatter(df6['proteins_100g'], df6['fat_100g'])\n",
    "ax.set_xlabel('Proteins for 100g')\n",
    "ax.set_ylabel('Fat for 100g')\n",
    "plt.show()"
   ]
  },
  {
   "cell_type": "code",
   "execution_count": 88,
   "id": "76a86db0",
   "metadata": {},
   "outputs": [
    {
     "data": {
      "image/png": "[encoded data removed]",
      "text/plain": [
       "<Figure size 576x288 with 1 Axes>"
      ]
     },
     "metadata": {
      "needs_background": "light"
     },
     "output_type": "display_data"
    }
   ],
   "source": [
    "fig, ax = plt.subplots(figsize=(8,4))\n",
    "ax.scatter(df6['sodium_100g'], df6['sugars_100g'])\n",
    "ax.set_xlabel('Sodium for 100g')\n",
    "ax.set_ylabel('Sugar for 100g')\n",
    "plt.show()"
   ]
  },
  {
   "cell_type": "markdown",
   "id": "fa231435",
   "metadata": {},
   "source": [
    "There are a lot of outliers in each analysed column. It hamper the further analysis of the database. Therefore, I will consider outliers as a values that lie in 0.95 quartile and remove them. I will keep outliers in 0.05 quartile because they can provide important infortamtion, for example. about fat- or sugar-free products."
   ]
  },
  {
   "cell_type": "code",
   "execution_count": 91,
   "id": "e73a2fc5",
   "metadata": {},
   "outputs": [
    {
     "name": "stdout",
     "output_type": "stream",
     "text": [
      "10.7\n"
     ]
    }
   ],
   "source": [
    "print(df6['fiber_100g'].quantile(0.95))  # I esimate the value of outliers in 'fiber' column"
   ]
  },
  {
   "cell_type": "code",
   "execution_count": 92,
   "id": "49d3a5a5",
   "metadata": {},
   "outputs": [
    {
     "data": {
      "text/plain": [
       "Index(['product_name', 'nutriscore_score', 'nutriscore_grade', 'countries',\n",
       "       'countries_tags', 'energy_100g', 'fat_100g', 'saturated-fat_100g',\n",
       "       'carbohydrates_100g', 'sugars_100g', 'fiber_100g', 'proteins_100g',\n",
       "       'salt_100g', 'sodium_100g', 'carbon-footprint_100g'],\n",
       "      dtype='object')"
      ]
     },
     "execution_count": 92,
     "metadata": {},
     "output_type": "execute_result"
    }
   ],
   "source": [
    "df6.columns"
   ]
  },
  {
   "cell_type": "code",
   "execution_count": 10,
   "id": "d03b5ebd",
   "metadata": {},
   "outputs": [],
   "source": [
    "df5.to_csv('df5.csv')"
   ]
  },
  {
   "cell_type": "code",
   "execution_count": 11,
   "id": "2e4333f7",
   "metadata": {},
   "outputs": [],
   "source": [
    "df7 = df6"
   ]
  },
  {
   "cell_type": "code",
   "execution_count": 99,
   "id": "79c4f14a",
   "metadata": {},
   "outputs": [
    {
     "data": {
      "text/plain": [
       "(620528, 15)"
      ]
     },
     "execution_count": 99,
     "metadata": {},
     "output_type": "execute_result"
    }
   ],
   "source": [
    "df7.shape"
   ]
  },
  {
   "cell_type": "code",
   "execution_count": 12,
   "id": "c08d650b",
   "metadata": {},
   "outputs": [
    {
     "name": "stderr",
     "output_type": "stream",
     "text": [
      "/var/folders/r4/pcs7j2hx25qbrrbnjg64b8j00000gn/T/ipykernel_56251/4188447862.py:4: FutureWarning: Automatic reindexing on DataFrame vs Series comparisons is deprecated and will raise ValueError in a future version.  Do `left, right = left.align(right, axis=1, copy=False)` before e.g. `left == right`\n",
      "  df7 = df7[~((df7 < (0 - 1.5 * Q3)) |(df7 > (Q3 + 1.5 * Q3))).any(axis=1)]\n"
     ]
    }
   ],
   "source": [
    "Q3 = df7.quantile(0.95)\n",
    "df7 = df7[~((df7 < (0 - 1.5 * Q3)) |(df7 > (Q3 + 1.5 * Q3))).any(axis=1)]"
   ]
  },
  {
   "cell_type": "code",
   "execution_count": 13,
   "id": "0c8b37e9",
   "metadata": {},
   "outputs": [
    {
     "data": {
      "text/plain": [
       "(603360, 16)"
      ]
     },
     "execution_count": 13,
     "metadata": {},
     "output_type": "execute_result"
    }
   ],
   "source": [
    "df7.shape"
   ]
  },
  {
   "cell_type": "code",
   "execution_count": 14,
   "id": "6462f783",
   "metadata": {},
   "outputs": [],
   "source": [
    "df7.to_csv('df7.csv')"
   ]
  },
  {
   "cell_type": "code",
   "execution_count": 5,
   "id": "762cdf6a",
   "metadata": {},
   "outputs": [],
   "source": [
    "import pandas as pd\n",
    "df7 = pd.read_csv('/Users/demol/df7.csv')"
   ]
  },
  {
   "cell_type": "code",
   "execution_count": 6,
   "id": "e528d14c",
   "metadata": {},
   "outputs": [
    {
     "data": {
      "text/plain": [
       "<AxesSubplot:xlabel='energy_100g'>"
      ]
     },
     "execution_count": 6,
     "metadata": {},
     "output_type": "execute_result"
    },
    {
     "data": {
      "image/png": "[encoded data removed]",
      "text/plain": [
       "<Figure size 432x288 with 1 Axes>"
      ]
     },
     "metadata": {
      "needs_background": "light"
     },
     "output_type": "display_data"
    }
   ],
   "source": [
    "import seaborn as sns\n",
    "sns.boxplot(x=df7['energy_100g'])"
   ]
  },
  {
   "cell_type": "code",
   "execution_count": 116,
   "id": "f087631b",
   "metadata": {},
   "outputs": [
    {
     "data": {
      "image/png": "[encoded data removed]",
      "text/plain": [
       "<Figure size 576x288 with 1 Axes>"
      ]
     },
     "metadata": {
      "needs_background": "light"
     },
     "output_type": "display_data"
    }
   ],
   "source": [
    "fig, ax = plt.subplots(figsize=(8,4))\n",
    "ax.scatter(df7['sodium_100g'], df7['sugars_100g'])\n",
    "ax.set_xlabel('Sodium for 100g')\n",
    "ax.set_ylabel('Sugar for 100g')\n",
    "plt.show()"
   ]
  },
  {
   "cell_type": "markdown",
   "id": "db7a871c",
   "metadata": {},
   "source": [
    "### Removing/replacing NaN"
   ]
  },
  {
   "cell_type": "markdown",
   "id": "3ce7ee2d",
   "metadata": {},
   "source": [
    "#### Completely remove NaN in columns with categorical values"
   ]
  },
  {
   "cell_type": "code",
   "execution_count": 7,
   "id": "9c4afa0b",
   "metadata": {},
   "outputs": [
    {
     "data": {
      "text/plain": [
       "603056"
      ]
     },
     "execution_count": 7,
     "metadata": {},
     "output_type": "execute_result"
    }
   ],
   "source": [
    "df7['carbon-footprint_100g'].isna().sum()"
   ]
  },
  {
   "cell_type": "code",
   "execution_count": 13,
   "id": "7a6db306",
   "metadata": {},
   "outputs": [
    {
     "data": {
      "text/plain": [
       "(603360, 17)"
      ]
     },
     "execution_count": 13,
     "metadata": {},
     "output_type": "execute_result"
    }
   ],
   "source": [
    "df7.shape"
   ]
  },
  {
   "cell_type": "code",
   "execution_count": 14,
   "id": "546134e7",
   "metadata": {},
   "outputs": [],
   "source": [
    "df7.drop('carbon-footprint_100g', axis=1, inplace=True)"
   ]
  },
  {
   "cell_type": "code",
   "execution_count": 15,
   "id": "08a0a050",
   "metadata": {},
   "outputs": [
    {
     "data": {
      "text/plain": [
       "(603360, 16)"
      ]
     },
     "execution_count": 15,
     "metadata": {},
     "output_type": "execute_result"
    }
   ],
   "source": [
    "df7.shape"
   ]
  },
  {
   "cell_type": "code",
   "execution_count": 16,
   "id": "9ca73f10",
   "metadata": {},
   "outputs": [],
   "source": [
    "df_clean = df7.dropna(axis=0, subset=['nutriscore_score', 'countries'])\n"
   ]
  },
  {
   "cell_type": "code",
   "execution_count": 17,
   "id": "e0fdc696",
   "metadata": {},
   "outputs": [
    {
     "data": {
      "text/plain": [
       "(376007, 16)"
      ]
     },
     "execution_count": 17,
     "metadata": {},
     "output_type": "execute_result"
    }
   ],
   "source": [
    "df_clean.shape"
   ]
  },
  {
   "cell_type": "code",
   "execution_count": 21,
   "id": "a482a516",
   "metadata": {},
   "outputs": [],
   "source": [
    "df_clean.to_csv('df_clean.csv')"
   ]
  },
  {
   "cell_type": "code",
   "execution_count": 25,
   "id": "36bd4fb4",
   "metadata": {},
   "outputs": [
    {
     "data": {
      "text/html": [
       "<div>\n",
       "<style scoped>\n",
       "    .dataframe tbody tr th:only-of-type {\n",
       "        vertical-align: middle;\n",
       "    }\n",
       "\n",
       "    .dataframe tbody tr th {\n",
       "        vertical-align: top;\n",
       "    }\n",
       "\n",
       "    .dataframe thead th {\n",
       "        text-align: right;\n",
       "    }\n",
       "</style>\n",
       "<table border=\"1\" class=\"dataframe\">\n",
       "  <thead>\n",
       "    <tr style=\"text-align: right;\">\n",
       "      <th></th>\n",
       "      <th>Unnamed: 0</th>\n",
       "      <th>Unnamed: 0.1</th>\n",
       "      <th>product_name</th>\n",
       "      <th>nutriscore_score</th>\n",
       "      <th>nutriscore_grade</th>\n",
       "      <th>countries</th>\n",
       "      <th>countries_tags</th>\n",
       "      <th>energy_100g</th>\n",
       "      <th>fat_100g</th>\n",
       "      <th>saturated-fat_100g</th>\n",
       "      <th>carbohydrates_100g</th>\n",
       "      <th>sugars_100g</th>\n",
       "      <th>fiber_100g</th>\n",
       "      <th>proteins_100g</th>\n",
       "      <th>salt_100g</th>\n",
       "      <th>sodium_100g</th>\n",
       "    </tr>\n",
       "  </thead>\n",
       "  <tbody>\n",
       "    <tr>\n",
       "      <th>3</th>\n",
       "      <td>4</td>\n",
       "      <td>7</td>\n",
       "      <td>moutarde au moût de raisin</td>\n",
       "      <td>18.0</td>\n",
       "      <td>d</td>\n",
       "      <td>France</td>\n",
       "      <td>en:france</td>\n",
       "      <td>936.0</td>\n",
       "      <td>8.2</td>\n",
       "      <td>2.2</td>\n",
       "      <td>29.0</td>\n",
       "      <td>22.0</td>\n",
       "      <td>0.0</td>\n",
       "      <td>5.1</td>\n",
       "      <td>4.60</td>\n",
       "      <td>1.840</td>\n",
       "    </tr>\n",
       "    <tr>\n",
       "      <th>7</th>\n",
       "      <td>10</td>\n",
       "      <td>17</td>\n",
       "      <td>Salade de carottes râpées</td>\n",
       "      <td>1.0</td>\n",
       "      <td>b</td>\n",
       "      <td>France</td>\n",
       "      <td>en:france</td>\n",
       "      <td>134.0</td>\n",
       "      <td>0.3</td>\n",
       "      <td>0.1</td>\n",
       "      <td>5.3</td>\n",
       "      <td>3.9</td>\n",
       "      <td>NaN</td>\n",
       "      <td>0.9</td>\n",
       "      <td>0.42</td>\n",
       "      <td>0.168</td>\n",
       "    </tr>\n",
       "    <tr>\n",
       "      <th>12</th>\n",
       "      <td>17</td>\n",
       "      <td>26</td>\n",
       "      <td>Tarte noix de coco</td>\n",
       "      <td>14.0</td>\n",
       "      <td>d</td>\n",
       "      <td>France</td>\n",
       "      <td>en:france</td>\n",
       "      <td>1594.0</td>\n",
       "      <td>22.0</td>\n",
       "      <td>15.5</td>\n",
       "      <td>27.3</td>\n",
       "      <td>21.9</td>\n",
       "      <td>4.4</td>\n",
       "      <td>4.6</td>\n",
       "      <td>0.10</td>\n",
       "      <td>0.040</td>\n",
       "    </tr>\n",
       "  </tbody>\n",
       "</table>\n",
       "</div>"
      ],
      "text/plain": [
       "    Unnamed: 0  Unnamed: 0.1                  product_name  nutriscore_score  \\\n",
       "3            4             7   moutarde au moût de raisin               18.0   \n",
       "7           10            17     Salade de carottes râpées               1.0   \n",
       "12          17            26            Tarte noix de coco              14.0   \n",
       "\n",
       "   nutriscore_grade countries countries_tags  energy_100g  fat_100g  \\\n",
       "3                 d    France      en:france        936.0       8.2   \n",
       "7                 b    France      en:france        134.0       0.3   \n",
       "12                d    France      en:france       1594.0      22.0   \n",
       "\n",
       "    saturated-fat_100g  carbohydrates_100g  sugars_100g  fiber_100g  \\\n",
       "3                  2.2                29.0         22.0         0.0   \n",
       "7                  0.1                 5.3          3.9         NaN   \n",
       "12                15.5                27.3         21.9         4.4   \n",
       "\n",
       "    proteins_100g  salt_100g  sodium_100g  \n",
       "3             5.1       4.60        1.840  \n",
       "7             0.9       0.42        0.168  \n",
       "12            4.6       0.10        0.040  "
      ]
     },
     "execution_count": 25,
     "metadata": {},
     "output_type": "execute_result"
    }
   ],
   "source": [
    "df_clean.head(3)"
   ]
  },
  {
   "cell_type": "code",
   "execution_count": 34,
   "id": "e1ce738a",
   "metadata": {},
   "outputs": [],
   "source": [
    "#df_clean.drop(['Unnamed: 0', 'Unnamed: 0.1', 'countries_tags', 'nutriscore_score'], axis=1, inplace=True)"
   ]
  },
  {
   "cell_type": "code",
   "execution_count": 31,
   "id": "34a835c4",
   "metadata": {},
   "outputs": [],
   "source": [
    "df_clean.to_csv('df_clean.csv')"
   ]
  },
  {
   "cell_type": "markdown",
   "id": "7d906c38",
   "metadata": {},
   "source": [
    "#### Removing NaN Completely:"
   ]
  },
  {
   "cell_type": "code",
   "execution_count": 46,
   "id": "960acd0d",
   "metadata": {},
   "outputs": [],
   "source": [
    "import pandas as pd\n",
    "df_clean = pd.read_csv('/Users/demol/df_clean.csv')"
   ]
  },
  {
   "cell_type": "code",
   "execution_count": 47,
   "id": "9945592a",
   "metadata": {},
   "outputs": [],
   "source": [
    "df_totalclean= df_clean.dropna()"
   ]
  },
  {
   "cell_type": "code",
   "execution_count": 48,
   "id": "df20596e",
   "metadata": {},
   "outputs": [
    {
     "data": {
      "text/plain": [
       "(246189, 14)"
      ]
     },
     "execution_count": 48,
     "metadata": {},
     "output_type": "execute_result"
    }
   ],
   "source": [
    "df_totalclean.shape"
   ]
  },
  {
   "cell_type": "code",
   "execution_count": 49,
   "id": "d0d728bc",
   "metadata": {},
   "outputs": [],
   "source": [
    "df_totalclean.to_csv('df_totalclean.csv')"
   ]
  },
  {
   "cell_type": "markdown",
   "id": "8808a47d",
   "metadata": {},
   "source": [
    "#### Replacing NaN with Mean"
   ]
  },
  {
   "cell_type": "code",
   "execution_count": 50,
   "id": "acbe7656",
   "metadata": {},
   "outputs": [],
   "source": [
    "df_subset = df_clean[['energy_100g', 'fat_100g', 'saturated-fat_100g', 'carbohydrates_100g',\n",
    "       'sugars_100g', 'fiber_100g', 'proteins_100g', 'salt_100g',\n",
    "       'sodium_100g']]"
   ]
  },
  {
   "cell_type": "code",
   "execution_count": 51,
   "id": "ad58ba0c",
   "metadata": {},
   "outputs": [
    {
     "data": {
      "text/plain": [
       "Index(['Unnamed: 0', 'product_name', 'nutriscore_score', 'nutriscore_grade',\n",
       "       'countries', 'energy_100g', 'fat_100g', 'saturated-fat_100g',\n",
       "       'carbohydrates_100g', 'sugars_100g', 'fiber_100g', 'proteins_100g',\n",
       "       'salt_100g', 'sodium_100g'],\n",
       "      dtype='object')"
      ]
     },
     "execution_count": 51,
     "metadata": {},
     "output_type": "execute_result"
    }
   ],
   "source": [
    "df_clean.columns"
   ]
  },
  {
   "cell_type": "code",
   "execution_count": 52,
   "id": "06002ff2",
   "metadata": {},
   "outputs": [],
   "source": [
    "df_subset_names = df_clean[['product_name', 'nutriscore_score', 'nutriscore_grade', 'countries']]"
   ]
  },
  {
   "cell_type": "code",
   "execution_count": 53,
   "id": "d427158d",
   "metadata": {},
   "outputs": [
    {
     "data": {
      "text/html": [
       "<div>\n",
       "<style scoped>\n",
       "    .dataframe tbody tr th:only-of-type {\n",
       "        vertical-align: middle;\n",
       "    }\n",
       "\n",
       "    .dataframe tbody tr th {\n",
       "        vertical-align: top;\n",
       "    }\n",
       "\n",
       "    .dataframe thead th {\n",
       "        text-align: right;\n",
       "    }\n",
       "</style>\n",
       "<table border=\"1\" class=\"dataframe\">\n",
       "  <thead>\n",
       "    <tr style=\"text-align: right;\">\n",
       "      <th></th>\n",
       "      <th>energy_100g</th>\n",
       "      <th>fat_100g</th>\n",
       "      <th>saturated-fat_100g</th>\n",
       "      <th>carbohydrates_100g</th>\n",
       "      <th>sugars_100g</th>\n",
       "      <th>fiber_100g</th>\n",
       "      <th>proteins_100g</th>\n",
       "      <th>salt_100g</th>\n",
       "      <th>sodium_100g</th>\n",
       "    </tr>\n",
       "  </thead>\n",
       "  <tbody>\n",
       "    <tr>\n",
       "      <th>0</th>\n",
       "      <td>936.0</td>\n",
       "      <td>8.2</td>\n",
       "      <td>2.2</td>\n",
       "      <td>29.0</td>\n",
       "      <td>22.0</td>\n",
       "      <td>0.0</td>\n",
       "      <td>5.1</td>\n",
       "      <td>4.60</td>\n",
       "      <td>1.840</td>\n",
       "    </tr>\n",
       "    <tr>\n",
       "      <th>1</th>\n",
       "      <td>134.0</td>\n",
       "      <td>0.3</td>\n",
       "      <td>0.1</td>\n",
       "      <td>5.3</td>\n",
       "      <td>3.9</td>\n",
       "      <td>NaN</td>\n",
       "      <td>0.9</td>\n",
       "      <td>0.42</td>\n",
       "      <td>0.168</td>\n",
       "    </tr>\n",
       "    <tr>\n",
       "      <th>2</th>\n",
       "      <td>1594.0</td>\n",
       "      <td>22.0</td>\n",
       "      <td>15.5</td>\n",
       "      <td>27.3</td>\n",
       "      <td>21.9</td>\n",
       "      <td>4.4</td>\n",
       "      <td>4.6</td>\n",
       "      <td>0.10</td>\n",
       "      <td>0.040</td>\n",
       "    </tr>\n",
       "  </tbody>\n",
       "</table>\n",
       "</div>"
      ],
      "text/plain": [
       "   energy_100g  fat_100g  saturated-fat_100g  carbohydrates_100g  sugars_100g  \\\n",
       "0        936.0       8.2                 2.2                29.0         22.0   \n",
       "1        134.0       0.3                 0.1                 5.3          3.9   \n",
       "2       1594.0      22.0                15.5                27.3         21.9   \n",
       "\n",
       "   fiber_100g  proteins_100g  salt_100g  sodium_100g  \n",
       "0         0.0            5.1       4.60        1.840  \n",
       "1         NaN            0.9       0.42        0.168  \n",
       "2         4.4            4.6       0.10        0.040  "
      ]
     },
     "execution_count": 53,
     "metadata": {},
     "output_type": "execute_result"
    }
   ],
   "source": [
    "df_subset.head(3)"
   ]
  },
  {
   "cell_type": "code",
   "execution_count": 38,
   "id": "2a5a7da7",
   "metadata": {},
   "outputs": [],
   "source": [
    "df_subset.to_csv('df_subset.csv')"
   ]
  },
  {
   "cell_type": "code",
   "execution_count": 41,
   "id": "e0a19d49",
   "metadata": {},
   "outputs": [],
   "source": [
    "column_means = df_subset.mean()\n",
    "df_mean = df_subset.fillna(column_means)"
   ]
  },
  {
   "cell_type": "code",
   "execution_count": 43,
   "id": "136d6f91",
   "metadata": {},
   "outputs": [
    {
     "data": {
      "text/plain": [
       "energy_100g           0\n",
       "fat_100g              0\n",
       "saturated-fat_100g    0\n",
       "carbohydrates_100g    0\n",
       "sugars_100g           0\n",
       "fiber_100g            0\n",
       "proteins_100g         0\n",
       "salt_100g             0\n",
       "sodium_100g           0\n",
       "dtype: int64"
      ]
     },
     "execution_count": 43,
     "metadata": {},
     "output_type": "execute_result"
    }
   ],
   "source": [
    "df_mean.isna().sum()"
   ]
  },
  {
   "cell_type": "code",
   "execution_count": 20,
   "id": "cf5bf182",
   "metadata": {},
   "outputs": [],
   "source": [
    "#df_clean.drop(['nutriscore_score', 'countries_tags'], axis = 1, inplace=True)"
   ]
  },
  {
   "cell_type": "markdown",
   "id": "db1baff6",
   "metadata": {},
   "source": [
    "### Replacing NaN with KNN method"
   ]
  },
  {
   "cell_type": "markdown",
   "id": "6db45e62",
   "metadata": {},
   "source": [
    "To facilitate the task, I randomly choose 100 rows from the dataframe."
   ]
  },
  {
   "cell_type": "code",
   "execution_count": 54,
   "id": "abe994a3",
   "metadata": {},
   "outputs": [],
   "source": [
    "sample = df_subset.sample(n=100)"
   ]
  },
  {
   "cell_type": "code",
   "execution_count": 93,
   "id": "c2c08844",
   "metadata": {},
   "outputs": [
    {
     "data": {
      "text/plain": [
       "energy_100g            0\n",
       "fat_100g               0\n",
       "saturated-fat_100g     0\n",
       "carbohydrates_100g     1\n",
       "sugars_100g            0\n",
       "fiber_100g            32\n",
       "proteins_100g          0\n",
       "salt_100g              0\n",
       "sodium_100g            0\n",
       "dtype: int64"
      ]
     },
     "execution_count": 93,
     "metadata": {},
     "output_type": "execute_result"
    }
   ],
   "source": [
    "sample.isna().sum()"
   ]
  },
  {
   "cell_type": "code",
   "execution_count": 54,
   "id": "7ac62290",
   "metadata": {},
   "outputs": [],
   "source": [
    "import numpy as np\n",
    "from sklearn.impute import KNNImputer"
   ]
  },
  {
   "cell_type": "code",
   "execution_count": 87,
   "id": "d2706ed5",
   "metadata": {},
   "outputs": [
    {
     "data": {
      "text/html": [
       "<div>\n",
       "<style scoped>\n",
       "    .dataframe tbody tr th:only-of-type {\n",
       "        vertical-align: middle;\n",
       "    }\n",
       "\n",
       "    .dataframe tbody tr th {\n",
       "        vertical-align: top;\n",
       "    }\n",
       "\n",
       "    .dataframe thead th {\n",
       "        text-align: right;\n",
       "    }\n",
       "</style>\n",
       "<table border=\"1\" class=\"dataframe\">\n",
       "  <thead>\n",
       "    <tr style=\"text-align: right;\">\n",
       "      <th></th>\n",
       "      <th>energy_100g</th>\n",
       "      <th>fat_100g</th>\n",
       "      <th>saturated-fat_100g</th>\n",
       "      <th>carbohydrates_100g</th>\n",
       "      <th>sugars_100g</th>\n",
       "      <th>fiber_100g</th>\n",
       "      <th>proteins_100g</th>\n",
       "      <th>salt_100g</th>\n",
       "      <th>sodium_100g</th>\n",
       "    </tr>\n",
       "  </thead>\n",
       "  <tbody>\n",
       "    <tr>\n",
       "      <th>0</th>\n",
       "      <td>0.855941</td>\n",
       "      <td>0.520000</td>\n",
       "      <td>0.714286</td>\n",
       "      <td>0.493179</td>\n",
       "      <td>0.467488</td>\n",
       "      <td>0.000000</td>\n",
       "      <td>0.214652</td>\n",
       "      <td>0.026667</td>\n",
       "      <td>0.026667</td>\n",
       "    </tr>\n",
       "    <tr>\n",
       "      <th>1</th>\n",
       "      <td>0.696460</td>\n",
       "      <td>0.400000</td>\n",
       "      <td>0.446429</td>\n",
       "      <td>0.550892</td>\n",
       "      <td>0.318742</td>\n",
       "      <td>0.563910</td>\n",
       "      <td>0.174988</td>\n",
       "      <td>0.020667</td>\n",
       "      <td>0.020667</td>\n",
       "    </tr>\n",
       "    <tr>\n",
       "      <th>2</th>\n",
       "      <td>0.543989</td>\n",
       "      <td>0.038133</td>\n",
       "      <td>0.025357</td>\n",
       "      <td>0.749528</td>\n",
       "      <td>0.060667</td>\n",
       "      <td>0.218045</td>\n",
       "      <td>0.300047</td>\n",
       "      <td>0.257000</td>\n",
       "      <td>0.257000</td>\n",
       "    </tr>\n",
       "    <tr>\n",
       "      <th>3</th>\n",
       "      <td>0.793901</td>\n",
       "      <td>0.453333</td>\n",
       "      <td>0.110714</td>\n",
       "      <td>0.535152</td>\n",
       "      <td>0.021249</td>\n",
       "      <td>0.338346</td>\n",
       "      <td>0.142324</td>\n",
       "      <td>0.270933</td>\n",
       "      <td>0.270933</td>\n",
       "    </tr>\n",
       "    <tr>\n",
       "      <th>4</th>\n",
       "      <td>0.215563</td>\n",
       "      <td>0.110667</td>\n",
       "      <td>0.089286</td>\n",
       "      <td>0.000000</td>\n",
       "      <td>0.000000</td>\n",
       "      <td>0.000000</td>\n",
       "      <td>0.419972</td>\n",
       "      <td>0.026667</td>\n",
       "      <td>0.026667</td>\n",
       "    </tr>\n",
       "  </tbody>\n",
       "</table>\n",
       "</div>"
      ],
      "text/plain": [
       "   energy_100g  fat_100g  saturated-fat_100g  carbohydrates_100g  sugars_100g  \\\n",
       "0     0.855941  0.520000            0.714286            0.493179     0.467488   \n",
       "1     0.696460  0.400000            0.446429            0.550892     0.318742   \n",
       "2     0.543989  0.038133            0.025357            0.749528     0.060667   \n",
       "3     0.793901  0.453333            0.110714            0.535152     0.021249   \n",
       "4     0.215563  0.110667            0.089286            0.000000     0.000000   \n",
       "\n",
       "   fiber_100g  proteins_100g  salt_100g  sodium_100g  \n",
       "0    0.000000       0.214652   0.026667     0.026667  \n",
       "1    0.563910       0.174988   0.020667     0.020667  \n",
       "2    0.218045       0.300047   0.257000     0.257000  \n",
       "3    0.338346       0.142324   0.270933     0.270933  \n",
       "4    0.000000       0.419972   0.026667     0.026667  "
      ]
     },
     "execution_count": 87,
     "metadata": {},
     "output_type": "execute_result"
    }
   ],
   "source": [
    "from sklearn.preprocessing import MinMaxScaler\n",
    "scaler = MinMaxScaler()\n",
    "sample = pd.DataFrame(scaler.fit_transform(sample), columns = sample.columns)\n",
    "sample.head()"
   ]
  },
  {
   "cell_type": "code",
   "execution_count": 95,
   "id": "44f4d554",
   "metadata": {},
   "outputs": [
    {
     "data": {
      "text/plain": [
       "energy_100g            0\n",
       "fat_100g               0\n",
       "saturated-fat_100g     0\n",
       "carbohydrates_100g     1\n",
       "sugars_100g            0\n",
       "fiber_100g            32\n",
       "proteins_100g          0\n",
       "salt_100g              0\n",
       "sodium_100g            0\n",
       "dtype: int64"
      ]
     },
     "execution_count": 95,
     "metadata": {},
     "output_type": "execute_result"
    }
   ],
   "source": [
    "sample.isna().sum()"
   ]
  },
  {
   "cell_type": "markdown",
   "id": "b188b2a1",
   "metadata": {},
   "source": [
    "I normalize data before performing KNN algorythm"
   ]
  },
  {
   "cell_type": "code",
   "execution_count": 88,
   "id": "d2e8f89d",
   "metadata": {},
   "outputs": [],
   "source": [
    "\n",
    "imputer = KNNImputer(n_neighbors=5)\n",
    "sample_norm = pd.DataFrame(imputer.fit_transform(sample),columns = sample.columns)"
   ]
  },
  {
   "cell_type": "code",
   "execution_count": 89,
   "id": "28268d4a",
   "metadata": {},
   "outputs": [
    {
     "data": {
      "text/html": [
       "<div>\n",
       "<style scoped>\n",
       "    .dataframe tbody tr th:only-of-type {\n",
       "        vertical-align: middle;\n",
       "    }\n",
       "\n",
       "    .dataframe tbody tr th {\n",
       "        vertical-align: top;\n",
       "    }\n",
       "\n",
       "    .dataframe thead th {\n",
       "        text-align: right;\n",
       "    }\n",
       "</style>\n",
       "<table border=\"1\" class=\"dataframe\">\n",
       "  <thead>\n",
       "    <tr style=\"text-align: right;\">\n",
       "      <th></th>\n",
       "      <th>energy_100g</th>\n",
       "      <th>fat_100g</th>\n",
       "      <th>saturated-fat_100g</th>\n",
       "      <th>carbohydrates_100g</th>\n",
       "      <th>sugars_100g</th>\n",
       "      <th>fiber_100g</th>\n",
       "      <th>proteins_100g</th>\n",
       "      <th>salt_100g</th>\n",
       "      <th>sodium_100g</th>\n",
       "    </tr>\n",
       "  </thead>\n",
       "  <tbody>\n",
       "    <tr>\n",
       "      <th>0</th>\n",
       "      <td>0.855941</td>\n",
       "      <td>0.520000</td>\n",
       "      <td>0.714286</td>\n",
       "      <td>0.493179</td>\n",
       "      <td>0.467488</td>\n",
       "      <td>0.000000</td>\n",
       "      <td>0.214652</td>\n",
       "      <td>0.026667</td>\n",
       "      <td>0.026667</td>\n",
       "    </tr>\n",
       "    <tr>\n",
       "      <th>1</th>\n",
       "      <td>0.696460</td>\n",
       "      <td>0.400000</td>\n",
       "      <td>0.446429</td>\n",
       "      <td>0.550892</td>\n",
       "      <td>0.318742</td>\n",
       "      <td>0.563910</td>\n",
       "      <td>0.174988</td>\n",
       "      <td>0.020667</td>\n",
       "      <td>0.020667</td>\n",
       "    </tr>\n",
       "    <tr>\n",
       "      <th>2</th>\n",
       "      <td>0.543989</td>\n",
       "      <td>0.038133</td>\n",
       "      <td>0.025357</td>\n",
       "      <td>0.749528</td>\n",
       "      <td>0.060667</td>\n",
       "      <td>0.218045</td>\n",
       "      <td>0.300047</td>\n",
       "      <td>0.257000</td>\n",
       "      <td>0.257000</td>\n",
       "    </tr>\n",
       "    <tr>\n",
       "      <th>3</th>\n",
       "      <td>0.793901</td>\n",
       "      <td>0.453333</td>\n",
       "      <td>0.110714</td>\n",
       "      <td>0.535152</td>\n",
       "      <td>0.021249</td>\n",
       "      <td>0.338346</td>\n",
       "      <td>0.142324</td>\n",
       "      <td>0.270933</td>\n",
       "      <td>0.270933</td>\n",
       "    </tr>\n",
       "    <tr>\n",
       "      <th>4</th>\n",
       "      <td>0.215563</td>\n",
       "      <td>0.110667</td>\n",
       "      <td>0.089286</td>\n",
       "      <td>0.000000</td>\n",
       "      <td>0.000000</td>\n",
       "      <td>0.000000</td>\n",
       "      <td>0.419972</td>\n",
       "      <td>0.026667</td>\n",
       "      <td>0.026667</td>\n",
       "    </tr>\n",
       "  </tbody>\n",
       "</table>\n",
       "</div>"
      ],
      "text/plain": [
       "   energy_100g  fat_100g  saturated-fat_100g  carbohydrates_100g  sugars_100g  \\\n",
       "0     0.855941  0.520000            0.714286            0.493179     0.467488   \n",
       "1     0.696460  0.400000            0.446429            0.550892     0.318742   \n",
       "2     0.543989  0.038133            0.025357            0.749528     0.060667   \n",
       "3     0.793901  0.453333            0.110714            0.535152     0.021249   \n",
       "4     0.215563  0.110667            0.089286            0.000000     0.000000   \n",
       "\n",
       "   fiber_100g  proteins_100g  salt_100g  sodium_100g  \n",
       "0    0.000000       0.214652   0.026667     0.026667  \n",
       "1    0.563910       0.174988   0.020667     0.020667  \n",
       "2    0.218045       0.300047   0.257000     0.257000  \n",
       "3    0.338346       0.142324   0.270933     0.270933  \n",
       "4    0.000000       0.419972   0.026667     0.026667  "
      ]
     },
     "execution_count": 89,
     "metadata": {},
     "output_type": "execute_result"
    }
   ],
   "source": [
    "sample_norm.head()"
   ]
  },
  {
   "cell_type": "code",
   "execution_count": 96,
   "id": "ff3af75b",
   "metadata": {},
   "outputs": [
    {
     "data": {
      "text/plain": [
       "energy_100g           0\n",
       "fat_100g              0\n",
       "saturated-fat_100g    0\n",
       "carbohydrates_100g    0\n",
       "sugars_100g           0\n",
       "fiber_100g            0\n",
       "proteins_100g         0\n",
       "salt_100g             0\n",
       "sodium_100g           0\n",
       "dtype: int64"
      ]
     },
     "execution_count": 96,
     "metadata": {},
     "output_type": "execute_result"
    }
   ],
   "source": [
    "sample_norm.isna().sum()"
   ]
  }
 ],
 "metadata": {
  "kernelspec": {
   "display_name": "Python 3 (ipykernel)",
   "language": "python",
   "name": "python3"
  },
  "language_info": {
   "codemirror_mode": {
    "name": "ipython",
    "version": 3
   },
   "file_extension": ".py",
   "mimetype": "text/x-python",
   "name": "python",
   "nbconvert_exporter": "python",
   "pygments_lexer": "ipython3",
   "version": "3.9.7"
  }
 },
 "nbformat": 4,
 "nbformat_minor": 5
}
