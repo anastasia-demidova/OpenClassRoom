{
 "cells": [
  {
   "cell_type": "code",
   "execution_count": 26,
   "id": "dd7ced2a",
   "metadata": {},
   "outputs": [],
   "source": [
    "import pandas as pd"
   ]
  },
  {
   "cell_type": "code",
   "execution_count": 27,
   "id": "84e03736",
   "metadata": {},
   "outputs": [],
   "source": [
    "df1 = pd.read_csv('/Users/demid/Downloads/2015-building-energy-benchmarking.csv')\n",
    "df2 = pd.read_csv('/Users/demid/Downloads/2016-building-energy-benchmarking.csv')"
   ]
  },
  {
   "cell_type": "code",
   "execution_count": 28,
   "id": "26cbd2b9",
   "metadata": {},
   "outputs": [
    {
     "data": {
      "text/html": [
       "<div>\n",
       "<style scoped>\n",
       "    .dataframe tbody tr th:only-of-type {\n",
       "        vertical-align: middle;\n",
       "    }\n",
       "\n",
       "    .dataframe tbody tr th {\n",
       "        vertical-align: top;\n",
       "    }\n",
       "\n",
       "    .dataframe thead th {\n",
       "        text-align: right;\n",
       "    }\n",
       "</style>\n",
       "<table border=\"1\" class=\"dataframe\">\n",
       "  <thead>\n",
       "    <tr style=\"text-align: right;\">\n",
       "      <th></th>\n",
       "      <th>OSEBuildingID</th>\n",
       "      <th>DataYear</th>\n",
       "      <th>BuildingType</th>\n",
       "      <th>PrimaryPropertyType</th>\n",
       "      <th>PropertyName</th>\n",
       "      <th>TaxParcelIdentificationNumber</th>\n",
       "      <th>Location</th>\n",
       "      <th>CouncilDistrictCode</th>\n",
       "      <th>Neighborhood</th>\n",
       "      <th>YearBuilt</th>\n",
       "      <th>NumberofBuildings</th>\n",
       "      <th>NumberofFloors</th>\n",
       "      <th>PropertyGFATotal</th>\n",
       "      <th>PropertyGFAParking</th>\n",
       "      <th>PropertyGFABuilding(s)</th>\n",
       "      <th>ListOfAllPropertyUseTypes</th>\n",
       "      <th>LargestPropertyUseType</th>\n",
       "      <th>LargestPropertyUseTypeGFA</th>\n",
       "      <th>SecondLargestPropertyUseType</th>\n",
       "      <th>SecondLargestPropertyUseTypeGFA</th>\n",
       "      <th>ThirdLargestPropertyUseType</th>\n",
       "      <th>ThirdLargestPropertyUseTypeGFA</th>\n",
       "      <th>YearsENERGYSTARCertified</th>\n",
       "      <th>ENERGYSTARScore</th>\n",
       "      <th>SiteEUI(kBtu/sf)</th>\n",
       "      <th>SiteEUIWN(kBtu/sf)</th>\n",
       "      <th>SourceEUI(kBtu/sf)</th>\n",
       "      <th>SourceEUIWN(kBtu/sf)</th>\n",
       "      <th>SiteEnergyUse(kBtu)</th>\n",
       "      <th>SiteEnergyUseWN(kBtu)</th>\n",
       "      <th>SteamUse(kBtu)</th>\n",
       "      <th>Electricity(kWh)</th>\n",
       "      <th>Electricity(kBtu)</th>\n",
       "      <th>NaturalGas(therms)</th>\n",
       "      <th>NaturalGas(kBtu)</th>\n",
       "      <th>OtherFuelUse(kBtu)</th>\n",
       "      <th>GHGEmissions(MetricTonsCO2e)</th>\n",
       "      <th>GHGEmissionsIntensity(kgCO2e/ft2)</th>\n",
       "      <th>DefaultData</th>\n",
       "      <th>Comment</th>\n",
       "      <th>ComplianceStatus</th>\n",
       "      <th>Outlier</th>\n",
       "      <th>2010 Census Tracts</th>\n",
       "      <th>Seattle Police Department Micro Community Policing Plan Areas</th>\n",
       "      <th>City Council Districts</th>\n",
       "      <th>SPD Beats</th>\n",
       "      <th>Zip Codes</th>\n",
       "    </tr>\n",
       "  </thead>\n",
       "  <tbody>\n",
       "    <tr>\n",
       "      <th>0</th>\n",
       "      <td>1</td>\n",
       "      <td>2015</td>\n",
       "      <td>NonResidential</td>\n",
       "      <td>Hotel</td>\n",
       "      <td>MAYFLOWER PARK HOTEL</td>\n",
       "      <td>659000030</td>\n",
       "      <td>{'latitude': '47.61219025', 'longitude': '-122...</td>\n",
       "      <td>7</td>\n",
       "      <td>DOWNTOWN</td>\n",
       "      <td>1927</td>\n",
       "      <td>1</td>\n",
       "      <td>12.0</td>\n",
       "      <td>88434</td>\n",
       "      <td>0</td>\n",
       "      <td>88434</td>\n",
       "      <td>Hotel</td>\n",
       "      <td>Hotel</td>\n",
       "      <td>88434.0</td>\n",
       "      <td>NaN</td>\n",
       "      <td>NaN</td>\n",
       "      <td>NaN</td>\n",
       "      <td>NaN</td>\n",
       "      <td>NaN</td>\n",
       "      <td>65.0</td>\n",
       "      <td>78.9</td>\n",
       "      <td>80.3</td>\n",
       "      <td>173.5</td>\n",
       "      <td>175.1</td>\n",
       "      <td>6981428.0</td>\n",
       "      <td>7097539.0</td>\n",
       "      <td>2023032.0</td>\n",
       "      <td>1080307.0</td>\n",
       "      <td>3686160.0</td>\n",
       "      <td>12724.0</td>\n",
       "      <td>1272388.0</td>\n",
       "      <td>0.0</td>\n",
       "      <td>249.43</td>\n",
       "      <td>2.64</td>\n",
       "      <td>No</td>\n",
       "      <td>NaN</td>\n",
       "      <td>Compliant</td>\n",
       "      <td>NaN</td>\n",
       "      <td>NaN</td>\n",
       "      <td>14.0</td>\n",
       "      <td>NaN</td>\n",
       "      <td>31.0</td>\n",
       "      <td>18081</td>\n",
       "    </tr>\n",
       "    <tr>\n",
       "      <th>1</th>\n",
       "      <td>2</td>\n",
       "      <td>2015</td>\n",
       "      <td>NonResidential</td>\n",
       "      <td>Hotel</td>\n",
       "      <td>PARAMOUNT HOTEL</td>\n",
       "      <td>659000220</td>\n",
       "      <td>{'latitude': '47.61310583', 'longitude': '-122...</td>\n",
       "      <td>7</td>\n",
       "      <td>DOWNTOWN</td>\n",
       "      <td>1996</td>\n",
       "      <td>1</td>\n",
       "      <td>11.0</td>\n",
       "      <td>103566</td>\n",
       "      <td>15064</td>\n",
       "      <td>88502</td>\n",
       "      <td>Hotel, Parking, Restaurant</td>\n",
       "      <td>Hotel</td>\n",
       "      <td>83880.0</td>\n",
       "      <td>Parking</td>\n",
       "      <td>15064.0</td>\n",
       "      <td>Restaurant</td>\n",
       "      <td>4622.0</td>\n",
       "      <td>NaN</td>\n",
       "      <td>51.0</td>\n",
       "      <td>94.4</td>\n",
       "      <td>99.0</td>\n",
       "      <td>191.3</td>\n",
       "      <td>195.2</td>\n",
       "      <td>8354235.0</td>\n",
       "      <td>8765788.0</td>\n",
       "      <td>0.0</td>\n",
       "      <td>1144563.0</td>\n",
       "      <td>3905411.0</td>\n",
       "      <td>44490.0</td>\n",
       "      <td>4448985.0</td>\n",
       "      <td>0.0</td>\n",
       "      <td>263.51</td>\n",
       "      <td>2.38</td>\n",
       "      <td>No</td>\n",
       "      <td>NaN</td>\n",
       "      <td>Compliant</td>\n",
       "      <td>NaN</td>\n",
       "      <td>NaN</td>\n",
       "      <td>14.0</td>\n",
       "      <td>NaN</td>\n",
       "      <td>31.0</td>\n",
       "      <td>18081</td>\n",
       "    </tr>\n",
       "    <tr>\n",
       "      <th>2</th>\n",
       "      <td>3</td>\n",
       "      <td>2015</td>\n",
       "      <td>NonResidential</td>\n",
       "      <td>Hotel</td>\n",
       "      <td>WESTIN HOTEL</td>\n",
       "      <td>659000475</td>\n",
       "      <td>{'latitude': '47.61334897', 'longitude': '-122...</td>\n",
       "      <td>7</td>\n",
       "      <td>DOWNTOWN</td>\n",
       "      <td>1969</td>\n",
       "      <td>1</td>\n",
       "      <td>41.0</td>\n",
       "      <td>961990</td>\n",
       "      <td>0</td>\n",
       "      <td>961990</td>\n",
       "      <td>Hotel, Parking, Swimming Pool</td>\n",
       "      <td>Hotel</td>\n",
       "      <td>757243.0</td>\n",
       "      <td>Parking</td>\n",
       "      <td>100000.0</td>\n",
       "      <td>Swimming Pool</td>\n",
       "      <td>0.0</td>\n",
       "      <td>NaN</td>\n",
       "      <td>18.0</td>\n",
       "      <td>96.6</td>\n",
       "      <td>99.7</td>\n",
       "      <td>242.7</td>\n",
       "      <td>246.5</td>\n",
       "      <td>73130656.0</td>\n",
       "      <td>75506272.0</td>\n",
       "      <td>19660404.0</td>\n",
       "      <td>14583930.0</td>\n",
       "      <td>49762435.0</td>\n",
       "      <td>37099.0</td>\n",
       "      <td>3709900.0</td>\n",
       "      <td>0.0</td>\n",
       "      <td>2061.48</td>\n",
       "      <td>1.92</td>\n",
       "      <td>Yes</td>\n",
       "      <td>NaN</td>\n",
       "      <td>Compliant</td>\n",
       "      <td>NaN</td>\n",
       "      <td>NaN</td>\n",
       "      <td>56.0</td>\n",
       "      <td>NaN</td>\n",
       "      <td>31.0</td>\n",
       "      <td>18081</td>\n",
       "    </tr>\n",
       "  </tbody>\n",
       "</table>\n",
       "</div>"
      ],
      "text/plain": [
       "   OSEBuildingID  DataYear    BuildingType PrimaryPropertyType  \\\n",
       "0              1      2015  NonResidential               Hotel   \n",
       "1              2      2015  NonResidential               Hotel   \n",
       "2              3      2015  NonResidential               Hotel   \n",
       "\n",
       "           PropertyName TaxParcelIdentificationNumber  \\\n",
       "0  MAYFLOWER PARK HOTEL                     659000030   \n",
       "1       PARAMOUNT HOTEL                     659000220   \n",
       "2          WESTIN HOTEL                     659000475   \n",
       "\n",
       "                                            Location  CouncilDistrictCode  \\\n",
       "0  {'latitude': '47.61219025', 'longitude': '-122...                    7   \n",
       "1  {'latitude': '47.61310583', 'longitude': '-122...                    7   \n",
       "2  {'latitude': '47.61334897', 'longitude': '-122...                    7   \n",
       "\n",
       "  Neighborhood  YearBuilt  NumberofBuildings  NumberofFloors  \\\n",
       "0     DOWNTOWN       1927                  1            12.0   \n",
       "1     DOWNTOWN       1996                  1            11.0   \n",
       "2     DOWNTOWN       1969                  1            41.0   \n",
       "\n",
       "   PropertyGFATotal  PropertyGFAParking  PropertyGFABuilding(s)  \\\n",
       "0             88434                   0                   88434   \n",
       "1            103566               15064                   88502   \n",
       "2            961990                   0                  961990   \n",
       "\n",
       "       ListOfAllPropertyUseTypes LargestPropertyUseType  \\\n",
       "0                          Hotel                  Hotel   \n",
       "1     Hotel, Parking, Restaurant                  Hotel   \n",
       "2  Hotel, Parking, Swimming Pool                  Hotel   \n",
       "\n",
       "   LargestPropertyUseTypeGFA SecondLargestPropertyUseType  \\\n",
       "0                    88434.0                          NaN   \n",
       "1                    83880.0                      Parking   \n",
       "2                   757243.0                      Parking   \n",
       "\n",
       "   SecondLargestPropertyUseTypeGFA ThirdLargestPropertyUseType  \\\n",
       "0                              NaN                         NaN   \n",
       "1                          15064.0                  Restaurant   \n",
       "2                         100000.0               Swimming Pool   \n",
       "\n",
       "   ThirdLargestPropertyUseTypeGFA YearsENERGYSTARCertified  ENERGYSTARScore  \\\n",
       "0                             NaN                      NaN             65.0   \n",
       "1                          4622.0                      NaN             51.0   \n",
       "2                             0.0                      NaN             18.0   \n",
       "\n",
       "   SiteEUI(kBtu/sf)  SiteEUIWN(kBtu/sf)  SourceEUI(kBtu/sf)  \\\n",
       "0              78.9                80.3               173.5   \n",
       "1              94.4                99.0               191.3   \n",
       "2              96.6                99.7               242.7   \n",
       "\n",
       "   SourceEUIWN(kBtu/sf)  SiteEnergyUse(kBtu)  SiteEnergyUseWN(kBtu)  \\\n",
       "0                 175.1            6981428.0              7097539.0   \n",
       "1                 195.2            8354235.0              8765788.0   \n",
       "2                 246.5           73130656.0             75506272.0   \n",
       "\n",
       "   SteamUse(kBtu)  Electricity(kWh)  Electricity(kBtu)  NaturalGas(therms)  \\\n",
       "0       2023032.0         1080307.0          3686160.0             12724.0   \n",
       "1             0.0         1144563.0          3905411.0             44490.0   \n",
       "2      19660404.0        14583930.0         49762435.0             37099.0   \n",
       "\n",
       "   NaturalGas(kBtu)  OtherFuelUse(kBtu)  GHGEmissions(MetricTonsCO2e)  \\\n",
       "0         1272388.0                 0.0                        249.43   \n",
       "1         4448985.0                 0.0                        263.51   \n",
       "2         3709900.0                 0.0                       2061.48   \n",
       "\n",
       "   GHGEmissionsIntensity(kgCO2e/ft2) DefaultData Comment ComplianceStatus  \\\n",
       "0                               2.64          No     NaN        Compliant   \n",
       "1                               2.38          No     NaN        Compliant   \n",
       "2                               1.92         Yes     NaN        Compliant   \n",
       "\n",
       "  Outlier  2010 Census Tracts  \\\n",
       "0     NaN                 NaN   \n",
       "1     NaN                 NaN   \n",
       "2     NaN                 NaN   \n",
       "\n",
       "   Seattle Police Department Micro Community Policing Plan Areas  \\\n",
       "0                                               14.0               \n",
       "1                                               14.0               \n",
       "2                                               56.0               \n",
       "\n",
       "   City Council Districts  SPD Beats  Zip Codes  \n",
       "0                     NaN       31.0      18081  \n",
       "1                     NaN       31.0      18081  \n",
       "2                     NaN       31.0      18081  "
      ]
     },
     "execution_count": 28,
     "metadata": {},
     "output_type": "execute_result"
    }
   ],
   "source": [
    "pd.get_option('display.max_columns')\n",
    "pd.set_option('display.max_columns', None)\n",
    "df1.head(3)"
   ]
  },
  {
   "cell_type": "code",
   "execution_count": 29,
   "id": "e5ef4b11",
   "metadata": {},
   "outputs": [
    {
     "data": {
      "text/html": [
       "<div>\n",
       "<style scoped>\n",
       "    .dataframe tbody tr th:only-of-type {\n",
       "        vertical-align: middle;\n",
       "    }\n",
       "\n",
       "    .dataframe tbody tr th {\n",
       "        vertical-align: top;\n",
       "    }\n",
       "\n",
       "    .dataframe thead th {\n",
       "        text-align: right;\n",
       "    }\n",
       "</style>\n",
       "<table border=\"1\" class=\"dataframe\">\n",
       "  <thead>\n",
       "    <tr style=\"text-align: right;\">\n",
       "      <th></th>\n",
       "      <th>OSEBuildingID</th>\n",
       "      <th>DataYear</th>\n",
       "      <th>BuildingType</th>\n",
       "      <th>PrimaryPropertyType</th>\n",
       "      <th>PropertyName</th>\n",
       "      <th>Address</th>\n",
       "      <th>City</th>\n",
       "      <th>State</th>\n",
       "      <th>ZipCode</th>\n",
       "      <th>TaxParcelIdentificationNumber</th>\n",
       "      <th>CouncilDistrictCode</th>\n",
       "      <th>Neighborhood</th>\n",
       "      <th>Latitude</th>\n",
       "      <th>Longitude</th>\n",
       "      <th>YearBuilt</th>\n",
       "      <th>NumberofBuildings</th>\n",
       "      <th>NumberofFloors</th>\n",
       "      <th>PropertyGFATotal</th>\n",
       "      <th>PropertyGFAParking</th>\n",
       "      <th>PropertyGFABuilding(s)</th>\n",
       "      <th>ListOfAllPropertyUseTypes</th>\n",
       "      <th>LargestPropertyUseType</th>\n",
       "      <th>LargestPropertyUseTypeGFA</th>\n",
       "      <th>SecondLargestPropertyUseType</th>\n",
       "      <th>SecondLargestPropertyUseTypeGFA</th>\n",
       "      <th>ThirdLargestPropertyUseType</th>\n",
       "      <th>ThirdLargestPropertyUseTypeGFA</th>\n",
       "      <th>YearsENERGYSTARCertified</th>\n",
       "      <th>ENERGYSTARScore</th>\n",
       "      <th>SiteEUI(kBtu/sf)</th>\n",
       "      <th>SiteEUIWN(kBtu/sf)</th>\n",
       "      <th>SourceEUI(kBtu/sf)</th>\n",
       "      <th>SourceEUIWN(kBtu/sf)</th>\n",
       "      <th>SiteEnergyUse(kBtu)</th>\n",
       "      <th>SiteEnergyUseWN(kBtu)</th>\n",
       "      <th>SteamUse(kBtu)</th>\n",
       "      <th>Electricity(kWh)</th>\n",
       "      <th>Electricity(kBtu)</th>\n",
       "      <th>NaturalGas(therms)</th>\n",
       "      <th>NaturalGas(kBtu)</th>\n",
       "      <th>DefaultData</th>\n",
       "      <th>Comments</th>\n",
       "      <th>ComplianceStatus</th>\n",
       "      <th>Outlier</th>\n",
       "      <th>TotalGHGEmissions</th>\n",
       "      <th>GHGEmissionsIntensity</th>\n",
       "    </tr>\n",
       "  </thead>\n",
       "  <tbody>\n",
       "    <tr>\n",
       "      <th>0</th>\n",
       "      <td>1</td>\n",
       "      <td>2016</td>\n",
       "      <td>NonResidential</td>\n",
       "      <td>Hotel</td>\n",
       "      <td>Mayflower park hotel</td>\n",
       "      <td>405 Olive way</td>\n",
       "      <td>Seattle</td>\n",
       "      <td>WA</td>\n",
       "      <td>98101.0</td>\n",
       "      <td>0659000030</td>\n",
       "      <td>7</td>\n",
       "      <td>DOWNTOWN</td>\n",
       "      <td>47.61220</td>\n",
       "      <td>-122.33799</td>\n",
       "      <td>1927</td>\n",
       "      <td>1.0</td>\n",
       "      <td>12</td>\n",
       "      <td>88434</td>\n",
       "      <td>0</td>\n",
       "      <td>88434</td>\n",
       "      <td>Hotel</td>\n",
       "      <td>Hotel</td>\n",
       "      <td>88434.0</td>\n",
       "      <td>NaN</td>\n",
       "      <td>NaN</td>\n",
       "      <td>NaN</td>\n",
       "      <td>NaN</td>\n",
       "      <td>NaN</td>\n",
       "      <td>60.0</td>\n",
       "      <td>81.699997</td>\n",
       "      <td>84.300003</td>\n",
       "      <td>182.500000</td>\n",
       "      <td>189.000000</td>\n",
       "      <td>7226362.5</td>\n",
       "      <td>7456910.0</td>\n",
       "      <td>2003882.0</td>\n",
       "      <td>1.156514e+06</td>\n",
       "      <td>3946027.0</td>\n",
       "      <td>12764.52930</td>\n",
       "      <td>1276453.0</td>\n",
       "      <td>False</td>\n",
       "      <td>NaN</td>\n",
       "      <td>Compliant</td>\n",
       "      <td>NaN</td>\n",
       "      <td>249.98</td>\n",
       "      <td>2.83</td>\n",
       "    </tr>\n",
       "    <tr>\n",
       "      <th>1</th>\n",
       "      <td>2</td>\n",
       "      <td>2016</td>\n",
       "      <td>NonResidential</td>\n",
       "      <td>Hotel</td>\n",
       "      <td>Paramount Hotel</td>\n",
       "      <td>724 Pine street</td>\n",
       "      <td>Seattle</td>\n",
       "      <td>WA</td>\n",
       "      <td>98101.0</td>\n",
       "      <td>0659000220</td>\n",
       "      <td>7</td>\n",
       "      <td>DOWNTOWN</td>\n",
       "      <td>47.61317</td>\n",
       "      <td>-122.33393</td>\n",
       "      <td>1996</td>\n",
       "      <td>1.0</td>\n",
       "      <td>11</td>\n",
       "      <td>103566</td>\n",
       "      <td>15064</td>\n",
       "      <td>88502</td>\n",
       "      <td>Hotel, Parking, Restaurant</td>\n",
       "      <td>Hotel</td>\n",
       "      <td>83880.0</td>\n",
       "      <td>Parking</td>\n",
       "      <td>15064.0</td>\n",
       "      <td>Restaurant</td>\n",
       "      <td>4622.0</td>\n",
       "      <td>NaN</td>\n",
       "      <td>61.0</td>\n",
       "      <td>94.800003</td>\n",
       "      <td>97.900002</td>\n",
       "      <td>176.100006</td>\n",
       "      <td>179.399994</td>\n",
       "      <td>8387933.0</td>\n",
       "      <td>8664479.0</td>\n",
       "      <td>0.0</td>\n",
       "      <td>9.504252e+05</td>\n",
       "      <td>3242851.0</td>\n",
       "      <td>51450.81641</td>\n",
       "      <td>5145082.0</td>\n",
       "      <td>False</td>\n",
       "      <td>NaN</td>\n",
       "      <td>Compliant</td>\n",
       "      <td>NaN</td>\n",
       "      <td>295.86</td>\n",
       "      <td>2.86</td>\n",
       "    </tr>\n",
       "  </tbody>\n",
       "</table>\n",
       "</div>"
      ],
      "text/plain": [
       "   OSEBuildingID  DataYear    BuildingType PrimaryPropertyType  \\\n",
       "0              1      2016  NonResidential               Hotel   \n",
       "1              2      2016  NonResidential               Hotel   \n",
       "\n",
       "           PropertyName          Address     City State  ZipCode  \\\n",
       "0  Mayflower park hotel    405 Olive way  Seattle    WA  98101.0   \n",
       "1       Paramount Hotel  724 Pine street  Seattle    WA  98101.0   \n",
       "\n",
       "  TaxParcelIdentificationNumber  CouncilDistrictCode Neighborhood  Latitude  \\\n",
       "0                    0659000030                    7     DOWNTOWN  47.61220   \n",
       "1                    0659000220                    7     DOWNTOWN  47.61317   \n",
       "\n",
       "   Longitude  YearBuilt  NumberofBuildings  NumberofFloors  PropertyGFATotal  \\\n",
       "0 -122.33799       1927                1.0              12             88434   \n",
       "1 -122.33393       1996                1.0              11            103566   \n",
       "\n",
       "   PropertyGFAParking  PropertyGFABuilding(s)   ListOfAllPropertyUseTypes  \\\n",
       "0                   0                   88434                       Hotel   \n",
       "1               15064                   88502  Hotel, Parking, Restaurant   \n",
       "\n",
       "  LargestPropertyUseType  LargestPropertyUseTypeGFA  \\\n",
       "0                  Hotel                    88434.0   \n",
       "1                  Hotel                    83880.0   \n",
       "\n",
       "  SecondLargestPropertyUseType  SecondLargestPropertyUseTypeGFA  \\\n",
       "0                          NaN                              NaN   \n",
       "1                      Parking                          15064.0   \n",
       "\n",
       "  ThirdLargestPropertyUseType  ThirdLargestPropertyUseTypeGFA  \\\n",
       "0                         NaN                             NaN   \n",
       "1                  Restaurant                          4622.0   \n",
       "\n",
       "  YearsENERGYSTARCertified  ENERGYSTARScore  SiteEUI(kBtu/sf)  \\\n",
       "0                      NaN             60.0         81.699997   \n",
       "1                      NaN             61.0         94.800003   \n",
       "\n",
       "   SiteEUIWN(kBtu/sf)  SourceEUI(kBtu/sf)  SourceEUIWN(kBtu/sf)  \\\n",
       "0           84.300003          182.500000            189.000000   \n",
       "1           97.900002          176.100006            179.399994   \n",
       "\n",
       "   SiteEnergyUse(kBtu)  SiteEnergyUseWN(kBtu)  SteamUse(kBtu)  \\\n",
       "0            7226362.5              7456910.0       2003882.0   \n",
       "1            8387933.0              8664479.0             0.0   \n",
       "\n",
       "   Electricity(kWh)  Electricity(kBtu)  NaturalGas(therms)  NaturalGas(kBtu)  \\\n",
       "0      1.156514e+06          3946027.0         12764.52930         1276453.0   \n",
       "1      9.504252e+05          3242851.0         51450.81641         5145082.0   \n",
       "\n",
       "   DefaultData  Comments ComplianceStatus Outlier  TotalGHGEmissions  \\\n",
       "0        False       NaN        Compliant     NaN             249.98   \n",
       "1        False       NaN        Compliant     NaN             295.86   \n",
       "\n",
       "   GHGEmissionsIntensity  \n",
       "0                   2.83  \n",
       "1                   2.86  "
      ]
     },
     "execution_count": 29,
     "metadata": {},
     "output_type": "execute_result"
    }
   ],
   "source": [
    "df2.head(2)"
   ]
  },
  {
   "cell_type": "code",
   "execution_count": 30,
   "id": "fc7829b5",
   "metadata": {},
   "outputs": [
    {
     "data": {
      "text/plain": [
       "(3340, 47)"
      ]
     },
     "execution_count": 30,
     "metadata": {},
     "output_type": "execute_result"
    }
   ],
   "source": [
    "df1.shape"
   ]
  },
  {
   "cell_type": "code",
   "execution_count": 31,
   "id": "15133e0f",
   "metadata": {},
   "outputs": [
    {
     "data": {
      "text/plain": [
       "(3376, 46)"
      ]
     },
     "execution_count": 31,
     "metadata": {},
     "output_type": "execute_result"
    }
   ],
   "source": [
    "df2.shape"
   ]
  },
  {
   "cell_type": "code",
   "execution_count": 32,
   "id": "91c70210",
   "metadata": {},
   "outputs": [
    {
     "data": {
      "text/plain": [
       "WAREHOUSE                   9\n",
       "OFFICE BUILDING             8\n",
       "CLOVERDALE BUSINESS PARK    5\n",
       "APARTMENTS                  4\n",
       "CANAL PL OFFICE PARK        3\n",
       "                           ..\n",
       "CORONADO APT                1\n",
       "THE SHELBY APT              1\n",
       "KILLARNY APTS               1\n",
       "L' AMOURITA CO-OP           1\n",
       "WEDGEWOOD ESTATES BLDG B    1\n",
       "Name: PropertyName, Length: 3287, dtype: int64"
      ]
     },
     "execution_count": 32,
     "metadata": {},
     "output_type": "execute_result"
    }
   ],
   "source": [
    "df1['PropertyName'].value_counts()"
   ]
  },
  {
   "cell_type": "code",
   "execution_count": 33,
   "id": "0018e046",
   "metadata": {},
   "outputs": [
    {
     "data": {
      "text/plain": [
       "Northgate Plaza                3\n",
       "Canal Building                 2\n",
       "Jefferson Court Apartments     2\n",
       "Bayview Building               2\n",
       "Crestview Apartments           2\n",
       "                              ..\n",
       "The Hathaway Building          1\n",
       "Building R                     1\n",
       "Building Q                     1\n",
       "Orcas Maintenance Shop         1\n",
       "Van Asselt Community Center    1\n",
       "Name: PropertyName, Length: 3362, dtype: int64"
      ]
     },
     "execution_count": 33,
     "metadata": {},
     "output_type": "execute_result"
    }
   ],
   "source": [
    "df2['PropertyName'].value_counts()"
   ]
  },
  {
   "cell_type": "code",
   "execution_count": 34,
   "id": "9765bfed",
   "metadata": {},
   "outputs": [],
   "source": [
    "df1.drop_duplicates('PropertyName', keep='first', inplace=True)"
   ]
  },
  {
   "cell_type": "code",
   "execution_count": 35,
   "id": "5d659b0f",
   "metadata": {},
   "outputs": [
    {
     "data": {
      "text/plain": [
       "(3287, 47)"
      ]
     },
     "execution_count": 35,
     "metadata": {},
     "output_type": "execute_result"
    }
   ],
   "source": [
    "df1.shape"
   ]
  },
  {
   "cell_type": "code",
   "execution_count": 38,
   "id": "b3cab183",
   "metadata": {},
   "outputs": [],
   "source": [
    "df2.drop_duplicates('PropertyName', keep='first', inplace=True)"
   ]
  },
  {
   "cell_type": "code",
   "execution_count": 39,
   "id": "146fd60c",
   "metadata": {},
   "outputs": [
    {
     "data": {
      "text/plain": [
       "(3362, 46)"
      ]
     },
     "execution_count": 39,
     "metadata": {},
     "output_type": "execute_result"
    }
   ],
   "source": [
    "df2.shape"
   ]
  },
  {
   "cell_type": "code",
   "execution_count": 44,
   "id": "9c619b0b",
   "metadata": {},
   "outputs": [],
   "source": [
    "#common_columns = [df1.columns & df2.columns]\n",
    "df1_not_in_df2 = []\n",
    "for i in range(0, 47):\n",
    "    if df1.columns[i] not in df2.columns:\n",
    "        df1_not_in_df2.append(df1.columns[i])"
   ]
  },
  {
   "cell_type": "code",
   "execution_count": 48,
   "id": "65be5d03",
   "metadata": {},
   "outputs": [
    {
     "data": {
      "text/plain": [
       "['Location',\n",
       " 'OtherFuelUse(kBtu)',\n",
       " 'GHGEmissions(MetricTonsCO2e)',\n",
       " 'GHGEmissionsIntensity(kgCO2e/ft2)',\n",
       " 'Comment',\n",
       " '2010 Census Tracts',\n",
       " 'Seattle Police Department Micro Community Policing Plan Areas',\n",
       " 'City Council Districts',\n",
       " 'SPD Beats',\n",
       " 'Zip Codes']"
      ]
     },
     "execution_count": 48,
     "metadata": {},
     "output_type": "execute_result"
    }
   ],
   "source": [
    "df1_not_in_df2"
   ]
  },
  {
   "cell_type": "code",
   "execution_count": 49,
   "id": "69a66e71",
   "metadata": {},
   "outputs": [],
   "source": [
    "df2_not_in_df1 = []\n",
    "for i in range(0, 46):\n",
    "    if df2.columns[i] not in df1.columns:\n",
    "        df2_not_in_df1.append(df2.columns[i])"
   ]
  },
  {
   "cell_type": "code",
   "execution_count": 50,
   "id": "509d5aa9",
   "metadata": {},
   "outputs": [
    {
     "data": {
      "text/plain": [
       "['Address',\n",
       " 'City',\n",
       " 'State',\n",
       " 'ZipCode',\n",
       " 'Latitude',\n",
       " 'Longitude',\n",
       " 'Comments',\n",
       " 'TotalGHGEmissions',\n",
       " 'GHGEmissionsIntensity']"
      ]
     },
     "execution_count": 50,
     "metadata": {},
     "output_type": "execute_result"
    }
   ],
   "source": [
    "df2_not_in_df1"
   ]
  },
  {
   "cell_type": "code",
   "execution_count": 57,
   "id": "9f9530f2",
   "metadata": {},
   "outputs": [
    {
     "data": {
      "text/plain": [
       "TaxParcelIdentificationNumber\n",
       "2400002       5\n",
       "925049346     5\n",
       "7666203240    4\n",
       "8632880000    4\n",
       "3624039009    4\n",
       "             ..\n",
       "2926049469    1\n",
       "2926049490    1\n",
       "2926049503    1\n",
       "2926049528    1\n",
       "9835200050    1\n",
       "Length: 3203, dtype: int64"
      ]
     },
     "execution_count": 57,
     "metadata": {},
     "output_type": "execute_result"
    }
   ],
   "source": [
    "df1.value_counts('TaxParcelIdentificationNumber')"
   ]
  },
  {
   "cell_type": "code",
   "execution_count": 58,
   "id": "a188b084",
   "metadata": {},
   "outputs": [],
   "source": [
    "new_df1 = df1.loc[df1['TaxParcelIdentificationNumber'].isin(['2400002', '925049346', '7666203240'])]"
   ]
  },
  {
   "cell_type": "code",
   "execution_count": 61,
   "id": "9ede07ea",
   "metadata": {},
   "outputs": [
    {
     "data": {
      "text/html": [
       "<div>\n",
       "<style scoped>\n",
       "    .dataframe tbody tr th:only-of-type {\n",
       "        vertical-align: middle;\n",
       "    }\n",
       "\n",
       "    .dataframe tbody tr th {\n",
       "        vertical-align: top;\n",
       "    }\n",
       "\n",
       "    .dataframe thead th {\n",
       "        text-align: right;\n",
       "    }\n",
       "</style>\n",
       "<table border=\"1\" class=\"dataframe\">\n",
       "  <thead>\n",
       "    <tr style=\"text-align: right;\">\n",
       "      <th></th>\n",
       "      <th>OSEBuildingID</th>\n",
       "      <th>DataYear</th>\n",
       "      <th>BuildingType</th>\n",
       "      <th>PrimaryPropertyType</th>\n",
       "      <th>PropertyName</th>\n",
       "      <th>TaxParcelIdentificationNumber</th>\n",
       "      <th>Location</th>\n",
       "      <th>CouncilDistrictCode</th>\n",
       "      <th>Neighborhood</th>\n",
       "      <th>YearBuilt</th>\n",
       "      <th>NumberofBuildings</th>\n",
       "      <th>NumberofFloors</th>\n",
       "      <th>PropertyGFATotal</th>\n",
       "      <th>PropertyGFAParking</th>\n",
       "      <th>PropertyGFABuilding(s)</th>\n",
       "      <th>ListOfAllPropertyUseTypes</th>\n",
       "      <th>LargestPropertyUseType</th>\n",
       "      <th>LargestPropertyUseTypeGFA</th>\n",
       "      <th>SecondLargestPropertyUseType</th>\n",
       "      <th>SecondLargestPropertyUseTypeGFA</th>\n",
       "      <th>ThirdLargestPropertyUseType</th>\n",
       "      <th>ThirdLargestPropertyUseTypeGFA</th>\n",
       "      <th>YearsENERGYSTARCertified</th>\n",
       "      <th>ENERGYSTARScore</th>\n",
       "      <th>SiteEUI(kBtu/sf)</th>\n",
       "      <th>SiteEUIWN(kBtu/sf)</th>\n",
       "      <th>SourceEUI(kBtu/sf)</th>\n",
       "      <th>SourceEUIWN(kBtu/sf)</th>\n",
       "      <th>SiteEnergyUse(kBtu)</th>\n",
       "      <th>SiteEnergyUseWN(kBtu)</th>\n",
       "      <th>SteamUse(kBtu)</th>\n",
       "      <th>Electricity(kWh)</th>\n",
       "      <th>Electricity(kBtu)</th>\n",
       "      <th>NaturalGas(therms)</th>\n",
       "      <th>NaturalGas(kBtu)</th>\n",
       "      <th>OtherFuelUse(kBtu)</th>\n",
       "      <th>GHGEmissions(MetricTonsCO2e)</th>\n",
       "      <th>GHGEmissionsIntensity(kgCO2e/ft2)</th>\n",
       "      <th>DefaultData</th>\n",
       "      <th>Comment</th>\n",
       "      <th>ComplianceStatus</th>\n",
       "      <th>Outlier</th>\n",
       "      <th>2010 Census Tracts</th>\n",
       "      <th>Seattle Police Department Micro Community Policing Plan Areas</th>\n",
       "      <th>City Council Districts</th>\n",
       "      <th>SPD Beats</th>\n",
       "      <th>Zip Codes</th>\n",
       "    </tr>\n",
       "  </thead>\n",
       "  <tbody>\n",
       "    <tr>\n",
       "      <th>258</th>\n",
       "      <td>385</td>\n",
       "      <td>2015</td>\n",
       "      <td>NonResidential</td>\n",
       "      <td>Large Office</td>\n",
       "      <td>SKINNER BLDG</td>\n",
       "      <td>2400002</td>\n",
       "      <td>{'latitude': '47.60831575', 'longitude': '-122...</td>\n",
       "      <td>7</td>\n",
       "      <td>DOWNTOWN</td>\n",
       "      <td>1927</td>\n",
       "      <td>1</td>\n",
       "      <td>8.0</td>\n",
       "      <td>321945</td>\n",
       "      <td>0</td>\n",
       "      <td>321945</td>\n",
       "      <td>Office, Performing Arts, Retail Store</td>\n",
       "      <td>Office</td>\n",
       "      <td>166919.0</td>\n",
       "      <td>Performing Arts</td>\n",
       "      <td>39355.0</td>\n",
       "      <td>Retail Store</td>\n",
       "      <td>19787.0</td>\n",
       "      <td>2016, 2015, 2009, 2008</td>\n",
       "      <td>79.0</td>\n",
       "      <td>56.4</td>\n",
       "      <td>59.4</td>\n",
       "      <td>155.4</td>\n",
       "      <td>159.1</td>\n",
       "      <td>12745839.0</td>\n",
       "      <td>13434023.0</td>\n",
       "      <td>2525387.0</td>\n",
       "      <td>2995443.0</td>\n",
       "      <td>10220876.0</td>\n",
       "      <td>0.0</td>\n",
       "      <td>0.0</td>\n",
       "      <td>0.0</td>\n",
       "      <td>266.18</td>\n",
       "      <td>0.69</td>\n",
       "      <td>No</td>\n",
       "      <td>NaN</td>\n",
       "      <td>Compliant</td>\n",
       "      <td>NaN</td>\n",
       "      <td>NaN</td>\n",
       "      <td>14.0</td>\n",
       "      <td>NaN</td>\n",
       "      <td>24.0</td>\n",
       "      <td>18081</td>\n",
       "    </tr>\n",
       "    <tr>\n",
       "      <th>259</th>\n",
       "      <td>386</td>\n",
       "      <td>2015</td>\n",
       "      <td>NonResidential</td>\n",
       "      <td>Large Office</td>\n",
       "      <td>IBM BUILDING</td>\n",
       "      <td>2400002</td>\n",
       "      <td>{'latitude': '47.60831575', 'longitude': '-122...</td>\n",
       "      <td>7</td>\n",
       "      <td>DOWNTOWN</td>\n",
       "      <td>1964</td>\n",
       "      <td>1</td>\n",
       "      <td>22.0</td>\n",
       "      <td>336330</td>\n",
       "      <td>0</td>\n",
       "      <td>336330</td>\n",
       "      <td>Office, Other - Restaurant/Bar, Parking</td>\n",
       "      <td>Office</td>\n",
       "      <td>256299.0</td>\n",
       "      <td>Parking</td>\n",
       "      <td>66430.0</td>\n",
       "      <td>Other - Restaurant/Bar</td>\n",
       "      <td>7438.0</td>\n",
       "      <td>NaN</td>\n",
       "      <td>75.0</td>\n",
       "      <td>75.3</td>\n",
       "      <td>80.4</td>\n",
       "      <td>190.2</td>\n",
       "      <td>196.4</td>\n",
       "      <td>19854012.0</td>\n",
       "      <td>21205032.0</td>\n",
       "      <td>6288798.0</td>\n",
       "      <td>3975737.0</td>\n",
       "      <td>13565778.0</td>\n",
       "      <td>0.0</td>\n",
       "      <td>0.0</td>\n",
       "      <td>0.0</td>\n",
       "      <td>579.99</td>\n",
       "      <td>1.55</td>\n",
       "      <td>No</td>\n",
       "      <td>NaN</td>\n",
       "      <td>Compliant</td>\n",
       "      <td>NaN</td>\n",
       "      <td>NaN</td>\n",
       "      <td>14.0</td>\n",
       "      <td>NaN</td>\n",
       "      <td>24.0</td>\n",
       "      <td>18081</td>\n",
       "    </tr>\n",
       "    <tr>\n",
       "      <th>260</th>\n",
       "      <td>387</td>\n",
       "      <td>2015</td>\n",
       "      <td>NonResidential</td>\n",
       "      <td>Large Office</td>\n",
       "      <td>PUGET SOUND PLAZA</td>\n",
       "      <td>2400002</td>\n",
       "      <td>{'latitude': '47.60831575', 'longitude': '-122...</td>\n",
       "      <td>7</td>\n",
       "      <td>DOWNTOWN</td>\n",
       "      <td>1960</td>\n",
       "      <td>1</td>\n",
       "      <td>21.0</td>\n",
       "      <td>298426</td>\n",
       "      <td>0</td>\n",
       "      <td>298426</td>\n",
       "      <td>Office, Other - Education, Parking</td>\n",
       "      <td>Office</td>\n",
       "      <td>286538.0</td>\n",
       "      <td>Parking</td>\n",
       "      <td>197750.0</td>\n",
       "      <td>Other - Education</td>\n",
       "      <td>11888.0</td>\n",
       "      <td>2013, 2009, 2008</td>\n",
       "      <td>68.0</td>\n",
       "      <td>102.7</td>\n",
       "      <td>111.7</td>\n",
       "      <td>241.6</td>\n",
       "      <td>252.4</td>\n",
       "      <td>30648154.0</td>\n",
       "      <td>33323772.0</td>\n",
       "      <td>12454960.0</td>\n",
       "      <td>5332120.0</td>\n",
       "      <td>18193949.0</td>\n",
       "      <td>0.0</td>\n",
       "      <td>0.0</td>\n",
       "      <td>0.0</td>\n",
       "      <td>1088.20</td>\n",
       "      <td>3.38</td>\n",
       "      <td>No</td>\n",
       "      <td>NaN</td>\n",
       "      <td>Compliant</td>\n",
       "      <td>NaN</td>\n",
       "      <td>NaN</td>\n",
       "      <td>14.0</td>\n",
       "      <td>NaN</td>\n",
       "      <td>24.0</td>\n",
       "      <td>18081</td>\n",
       "    </tr>\n",
       "    <tr>\n",
       "      <th>533</th>\n",
       "      <td>717</td>\n",
       "      <td>2015</td>\n",
       "      <td>Nonresidential COS</td>\n",
       "      <td>Non-Refrigerated Warehouse</td>\n",
       "      <td>Airport Way Ctr - Bldg C</td>\n",
       "      <td>7666203240</td>\n",
       "      <td>{'latitude': '47.5829049', 'longitude': '-122....</td>\n",
       "      <td>2</td>\n",
       "      <td>GREATER DUWAMISH</td>\n",
       "      <td>1985</td>\n",
       "      <td>1</td>\n",
       "      <td>2.0</td>\n",
       "      <td>145158</td>\n",
       "      <td>0</td>\n",
       "      <td>145158</td>\n",
       "      <td>Non-Refrigerated Warehouse, Office, Other</td>\n",
       "      <td>Non-Refrigerated Warehouse</td>\n",
       "      <td>101633.0</td>\n",
       "      <td>Office</td>\n",
       "      <td>48544.0</td>\n",
       "      <td>Other</td>\n",
       "      <td>10270.0</td>\n",
       "      <td>NaN</td>\n",
       "      <td>52.0</td>\n",
       "      <td>54.2</td>\n",
       "      <td>57.9</td>\n",
       "      <td>146.0</td>\n",
       "      <td>149.9</td>\n",
       "      <td>8691444.0</td>\n",
       "      <td>9284952.0</td>\n",
       "      <td>0.0</td>\n",
       "      <td>2005951.0</td>\n",
       "      <td>6844589.0</td>\n",
       "      <td>18471.0</td>\n",
       "      <td>1847139.0</td>\n",
       "      <td>0.0</td>\n",
       "      <td>145.82</td>\n",
       "      <td>0.80</td>\n",
       "      <td>No</td>\n",
       "      <td>NaN</td>\n",
       "      <td>Compliant</td>\n",
       "      <td>NaN</td>\n",
       "      <td>NaN</td>\n",
       "      <td>57.0</td>\n",
       "      <td>NaN</td>\n",
       "      <td>35.0</td>\n",
       "      <td>19584</td>\n",
       "    </tr>\n",
       "    <tr>\n",
       "      <th>571</th>\n",
       "      <td>764</td>\n",
       "      <td>2015</td>\n",
       "      <td>NonResidential</td>\n",
       "      <td>Large Office</td>\n",
       "      <td>FINANCIAL CENTER</td>\n",
       "      <td>2400002</td>\n",
       "      <td>{'latitude': '47.60831575', 'longitude': '-122...</td>\n",
       "      <td>7</td>\n",
       "      <td>DOWNTOWN</td>\n",
       "      <td>1970</td>\n",
       "      <td>1</td>\n",
       "      <td>29.0</td>\n",
       "      <td>489182</td>\n",
       "      <td>0</td>\n",
       "      <td>489182</td>\n",
       "      <td>Office, Other, Other - Restaurant/Bar, Parking</td>\n",
       "      <td>Office</td>\n",
       "      <td>371450.0</td>\n",
       "      <td>Parking</td>\n",
       "      <td>65451.0</td>\n",
       "      <td>Other</td>\n",
       "      <td>9295.0</td>\n",
       "      <td>NaN</td>\n",
       "      <td>50.0</td>\n",
       "      <td>83.5</td>\n",
       "      <td>85.9</td>\n",
       "      <td>262.3</td>\n",
       "      <td>269.7</td>\n",
       "      <td>32381836.0</td>\n",
       "      <td>33300954.0</td>\n",
       "      <td>0.0</td>\n",
       "      <td>9490573.0</td>\n",
       "      <td>32383179.0</td>\n",
       "      <td>0.0</td>\n",
       "      <td>0.0</td>\n",
       "      <td>0.0</td>\n",
       "      <td>225.75</td>\n",
       "      <td>0.18</td>\n",
       "      <td>No</td>\n",
       "      <td>NaN</td>\n",
       "      <td>Compliant</td>\n",
       "      <td>NaN</td>\n",
       "      <td>NaN</td>\n",
       "      <td>14.0</td>\n",
       "      <td>NaN</td>\n",
       "      <td>24.0</td>\n",
       "      <td>18081</td>\n",
       "    </tr>\n",
       "  </tbody>\n",
       "</table>\n",
       "</div>"
      ],
      "text/plain": [
       "     OSEBuildingID  DataYear        BuildingType         PrimaryPropertyType  \\\n",
       "258            385      2015      NonResidential                Large Office   \n",
       "259            386      2015      NonResidential                Large Office   \n",
       "260            387      2015      NonResidential                Large Office   \n",
       "533            717      2015  Nonresidential COS  Non-Refrigerated Warehouse   \n",
       "571            764      2015      NonResidential                Large Office   \n",
       "\n",
       "                 PropertyName TaxParcelIdentificationNumber  \\\n",
       "258              SKINNER BLDG                       2400002   \n",
       "259              IBM BUILDING                       2400002   \n",
       "260         PUGET SOUND PLAZA                       2400002   \n",
       "533  Airport Way Ctr - Bldg C                    7666203240   \n",
       "571          FINANCIAL CENTER                       2400002   \n",
       "\n",
       "                                              Location  CouncilDistrictCode  \\\n",
       "258  {'latitude': '47.60831575', 'longitude': '-122...                    7   \n",
       "259  {'latitude': '47.60831575', 'longitude': '-122...                    7   \n",
       "260  {'latitude': '47.60831575', 'longitude': '-122...                    7   \n",
       "533  {'latitude': '47.5829049', 'longitude': '-122....                    2   \n",
       "571  {'latitude': '47.60831575', 'longitude': '-122...                    7   \n",
       "\n",
       "         Neighborhood  YearBuilt  NumberofBuildings  NumberofFloors  \\\n",
       "258          DOWNTOWN       1927                  1             8.0   \n",
       "259          DOWNTOWN       1964                  1            22.0   \n",
       "260          DOWNTOWN       1960                  1            21.0   \n",
       "533  GREATER DUWAMISH       1985                  1             2.0   \n",
       "571          DOWNTOWN       1970                  1            29.0   \n",
       "\n",
       "     PropertyGFATotal  PropertyGFAParking  PropertyGFABuilding(s)  \\\n",
       "258            321945                   0                  321945   \n",
       "259            336330                   0                  336330   \n",
       "260            298426                   0                  298426   \n",
       "533            145158                   0                  145158   \n",
       "571            489182                   0                  489182   \n",
       "\n",
       "                          ListOfAllPropertyUseTypes  \\\n",
       "258           Office, Performing Arts, Retail Store   \n",
       "259         Office, Other - Restaurant/Bar, Parking   \n",
       "260              Office, Other - Education, Parking   \n",
       "533       Non-Refrigerated Warehouse, Office, Other   \n",
       "571  Office, Other, Other - Restaurant/Bar, Parking   \n",
       "\n",
       "         LargestPropertyUseType  LargestPropertyUseTypeGFA  \\\n",
       "258                      Office                   166919.0   \n",
       "259                      Office                   256299.0   \n",
       "260                      Office                   286538.0   \n",
       "533  Non-Refrigerated Warehouse                   101633.0   \n",
       "571                      Office                   371450.0   \n",
       "\n",
       "    SecondLargestPropertyUseType  SecondLargestPropertyUseTypeGFA  \\\n",
       "258              Performing Arts                          39355.0   \n",
       "259                      Parking                          66430.0   \n",
       "260                      Parking                         197750.0   \n",
       "533                       Office                          48544.0   \n",
       "571                      Parking                          65451.0   \n",
       "\n",
       "    ThirdLargestPropertyUseType  ThirdLargestPropertyUseTypeGFA  \\\n",
       "258                Retail Store                         19787.0   \n",
       "259      Other - Restaurant/Bar                          7438.0   \n",
       "260           Other - Education                         11888.0   \n",
       "533                       Other                         10270.0   \n",
       "571                       Other                          9295.0   \n",
       "\n",
       "    YearsENERGYSTARCertified  ENERGYSTARScore  SiteEUI(kBtu/sf)  \\\n",
       "258   2016, 2015, 2009, 2008             79.0              56.4   \n",
       "259                      NaN             75.0              75.3   \n",
       "260         2013, 2009, 2008             68.0             102.7   \n",
       "533                      NaN             52.0              54.2   \n",
       "571                      NaN             50.0              83.5   \n",
       "\n",
       "     SiteEUIWN(kBtu/sf)  SourceEUI(kBtu/sf)  SourceEUIWN(kBtu/sf)  \\\n",
       "258                59.4               155.4                 159.1   \n",
       "259                80.4               190.2                 196.4   \n",
       "260               111.7               241.6                 252.4   \n",
       "533                57.9               146.0                 149.9   \n",
       "571                85.9               262.3                 269.7   \n",
       "\n",
       "     SiteEnergyUse(kBtu)  SiteEnergyUseWN(kBtu)  SteamUse(kBtu)  \\\n",
       "258           12745839.0             13434023.0       2525387.0   \n",
       "259           19854012.0             21205032.0       6288798.0   \n",
       "260           30648154.0             33323772.0      12454960.0   \n",
       "533            8691444.0              9284952.0             0.0   \n",
       "571           32381836.0             33300954.0             0.0   \n",
       "\n",
       "     Electricity(kWh)  Electricity(kBtu)  NaturalGas(therms)  \\\n",
       "258         2995443.0         10220876.0                 0.0   \n",
       "259         3975737.0         13565778.0                 0.0   \n",
       "260         5332120.0         18193949.0                 0.0   \n",
       "533         2005951.0          6844589.0             18471.0   \n",
       "571         9490573.0         32383179.0                 0.0   \n",
       "\n",
       "     NaturalGas(kBtu)  OtherFuelUse(kBtu)  GHGEmissions(MetricTonsCO2e)  \\\n",
       "258               0.0                 0.0                        266.18   \n",
       "259               0.0                 0.0                        579.99   \n",
       "260               0.0                 0.0                       1088.20   \n",
       "533         1847139.0                 0.0                        145.82   \n",
       "571               0.0                 0.0                        225.75   \n",
       "\n",
       "     GHGEmissionsIntensity(kgCO2e/ft2) DefaultData Comment ComplianceStatus  \\\n",
       "258                               0.69          No     NaN        Compliant   \n",
       "259                               1.55          No     NaN        Compliant   \n",
       "260                               3.38          No     NaN        Compliant   \n",
       "533                               0.80          No     NaN        Compliant   \n",
       "571                               0.18          No     NaN        Compliant   \n",
       "\n",
       "    Outlier  2010 Census Tracts  \\\n",
       "258     NaN                 NaN   \n",
       "259     NaN                 NaN   \n",
       "260     NaN                 NaN   \n",
       "533     NaN                 NaN   \n",
       "571     NaN                 NaN   \n",
       "\n",
       "     Seattle Police Department Micro Community Policing Plan Areas  \\\n",
       "258                                               14.0               \n",
       "259                                               14.0               \n",
       "260                                               14.0               \n",
       "533                                               57.0               \n",
       "571                                               14.0               \n",
       "\n",
       "     City Council Districts  SPD Beats  Zip Codes  \n",
       "258                     NaN       24.0      18081  \n",
       "259                     NaN       24.0      18081  \n",
       "260                     NaN       24.0      18081  \n",
       "533                     NaN       35.0      19584  \n",
       "571                     NaN       24.0      18081  "
      ]
     },
     "execution_count": 61,
     "metadata": {},
     "output_type": "execute_result"
    }
   ],
   "source": [
    "new_df1.head(5)"
   ]
  },
  {
   "cell_type": "markdown",
   "id": "4071465b",
   "metadata": {},
   "source": [
    "We are interested in non-residential type of buildings. Here, I show what types there are in the database:"
   ]
  },
  {
   "cell_type": "code",
   "execution_count": 63,
   "id": "abef72b9",
   "metadata": {},
   "outputs": [
    {
     "data": {
      "text/plain": [
       "BuildingType\n",
       "NonResidential          1421\n",
       "Multifamily LR (1-4)    1016\n",
       "Multifamily MR (5-9)     554\n",
       "Multifamily HR (10+)     107\n",
       "SPS-District K-12         99\n",
       "Nonresidential COS        68\n",
       "Campus                    22\n",
       "dtype: int64"
      ]
     },
     "execution_count": 63,
     "metadata": {},
     "output_type": "execute_result"
    }
   ],
   "source": [
    "df1.value_counts('BuildingType')"
   ]
  },
  {
   "cell_type": "markdown",
   "id": "1dabf0e9",
   "metadata": {},
   "source": [
    "I delete rows of all Multifamily buildings:"
   ]
  },
  {
   "cell_type": "code",
   "execution_count": 67,
   "id": "cdf0b2b6",
   "metadata": {},
   "outputs": [],
   "source": [
    "df1 = df1[df1[\"BuildingType\"].str.contains(\"Multifamily\")==False]"
   ]
  },
  {
   "cell_type": "code",
   "execution_count": 68,
   "id": "90b9f835",
   "metadata": {},
   "outputs": [
    {
     "data": {
      "text/plain": [
       "BuildingType\n",
       "NonResidential        1421\n",
       "SPS-District K-12       99\n",
       "Nonresidential COS      68\n",
       "Campus                  22\n",
       "dtype: int64"
      ]
     },
     "execution_count": 68,
     "metadata": {},
     "output_type": "execute_result"
    }
   ],
   "source": [
    "df1.value_counts('BuildingType')"
   ]
  },
  {
   "cell_type": "markdown",
   "id": "d1d9e8c7",
   "metadata": {},
   "source": [
    "I do the same for df2"
   ]
  },
  {
   "cell_type": "code",
   "execution_count": 69,
   "id": "341aa19e",
   "metadata": {},
   "outputs": [
    {
     "data": {
      "text/plain": [
       "BuildingType\n",
       "NonResidential          1456\n",
       "Multifamily LR (1-4)    1010\n",
       "Multifamily MR (5-9)     578\n",
       "Multifamily HR (10+)     110\n",
       "SPS-District K-12         98\n",
       "Nonresidential COS        85\n",
       "Campus                    24\n",
       "Nonresidential WA          1\n",
       "dtype: int64"
      ]
     },
     "execution_count": 69,
     "metadata": {},
     "output_type": "execute_result"
    }
   ],
   "source": [
    "df2.value_counts('BuildingType')"
   ]
  },
  {
   "cell_type": "code",
   "execution_count": 70,
   "id": "63de6d4c",
   "metadata": {},
   "outputs": [],
   "source": [
    "df2 = df2[df2[\"BuildingType\"].str.contains(\"Multifamily\")==False]"
   ]
  },
  {
   "cell_type": "code",
   "execution_count": 71,
   "id": "94bacc86",
   "metadata": {},
   "outputs": [
    {
     "data": {
      "text/plain": [
       "BuildingType\n",
       "NonResidential        1456\n",
       "SPS-District K-12       98\n",
       "Nonresidential COS      85\n",
       "Campus                  24\n",
       "Nonresidential WA        1\n",
       "dtype: int64"
      ]
     },
     "execution_count": 71,
     "metadata": {},
     "output_type": "execute_result"
    }
   ],
   "source": [
    "df2.value_counts('BuildingType')"
   ]
  },
  {
   "cell_type": "code",
   "execution_count": 72,
   "id": "79a24d57",
   "metadata": {},
   "outputs": [],
   "source": [
    "df1_not_in_df2 = []\n",
    "for i in range(0, 47):\n",
    "    if df1.columns[i] not in df2.columns:\n",
    "        df1_not_in_df2.append(df1.columns[i])"
   ]
  },
  {
   "cell_type": "code",
   "execution_count": null,
   "id": "41e2c6fb",
   "metadata": {},
   "outputs": [],
   "source": [
    "df2_not_in_df1 = []\n",
    "for i in range(0, 46):\n",
    "    if df2.columns[i] not in df1.columns:\n",
    "        df2_not_in_df1.append(df2.columns[i])"
   ]
  },
  {
   "cell_type": "code",
   "execution_count": 73,
   "id": "ab109480",
   "metadata": {},
   "outputs": [
    {
     "data": {
      "text/plain": [
       "['Location',\n",
       " 'OtherFuelUse(kBtu)',\n",
       " 'GHGEmissions(MetricTonsCO2e)',\n",
       " 'GHGEmissionsIntensity(kgCO2e/ft2)',\n",
       " 'Comment',\n",
       " '2010 Census Tracts',\n",
       " 'Seattle Police Department Micro Community Policing Plan Areas',\n",
       " 'City Council Districts',\n",
       " 'SPD Beats',\n",
       " 'Zip Codes']"
      ]
     },
     "execution_count": 73,
     "metadata": {},
     "output_type": "execute_result"
    }
   ],
   "source": [
    "df1_not_in_df2"
   ]
  },
  {
   "cell_type": "code",
   "execution_count": 74,
   "id": "9a20e72a",
   "metadata": {},
   "outputs": [
    {
     "data": {
      "text/plain": [
       "['Address',\n",
       " 'City',\n",
       " 'State',\n",
       " 'ZipCode',\n",
       " 'Latitude',\n",
       " 'Longitude',\n",
       " 'Comments',\n",
       " 'TotalGHGEmissions',\n",
       " 'GHGEmissionsIntensity']"
      ]
     },
     "execution_count": 74,
     "metadata": {},
     "output_type": "execute_result"
    }
   ],
   "source": [
    "df2_not_in_df1"
   ]
  },
  {
   "cell_type": "markdown",
   "id": "dbec8704",
   "metadata": {},
   "source": [
    "I drop columns from df1 that are absent in df2 and have no value for energy consumption ('2010 Census Tracts', 'Seattle Police Department Micro Community Policing Plan Areas', 'City Council Districts')"
   ]
  },
  {
   "cell_type": "code",
   "execution_count": 77,
   "id": "3e901fce",
   "metadata": {},
   "outputs": [],
   "source": [
    "df1.drop(['2010 Census Tracts',\n",
    "               'Seattle Police Department Micro Community Policing Plan Areas',\n",
    "                'City Council Districts'], axis=1, inplace=True)"
   ]
  },
  {
   "cell_type": "markdown",
   "id": "42a217ae",
   "metadata": {},
   "source": [
    "Some columns have slightly different names but are the same:"
   ]
  },
  {
   "cell_type": "code",
   "execution_count": 80,
   "id": "c730fb5f",
   "metadata": {},
   "outputs": [],
   "source": [
    "df1 = df1.rename(columns={'Zip Codes' : 'ZipCode'})"
   ]
  },
  {
   "cell_type": "code",
   "execution_count": 81,
   "id": "65937955",
   "metadata": {},
   "outputs": [],
   "source": [
    "df1 = df1.rename(columns={'Comment' : 'Comments'})"
   ]
  },
  {
   "cell_type": "markdown",
   "id": "c454c1be",
   "metadata": {},
   "source": [
    "In two databases we have different ways to indicate location - Address, Location, 'Latitude',\n",
    " 'Longitude'. "
   ]
  },
  {
   "cell_type": "code",
   "execution_count": 82,
   "id": "e5b988c8",
   "metadata": {},
   "outputs": [
    {
     "data": {
      "text/plain": [
       "City\n",
       "Seattle    1664\n",
       "dtype: int64"
      ]
     },
     "execution_count": 82,
     "metadata": {},
     "output_type": "execute_result"
    }
   ],
   "source": [
    "df2.value_counts('City')"
   ]
  },
  {
   "cell_type": "markdown",
   "id": "679d1b04",
   "metadata": {},
   "source": [
    "We have only one city, so we can delete this column from df2:"
   ]
  },
  {
   "cell_type": "code",
   "execution_count": 84,
   "id": "0f333b13",
   "metadata": {},
   "outputs": [],
   "source": [
    "df2 = df2.drop(['City'], axis=1)"
   ]
  },
  {
   "cell_type": "code",
   "execution_count": 86,
   "id": "05ff1a44",
   "metadata": {},
   "outputs": [
    {
     "data": {
      "text/plain": [
       "Index(['OSEBuildingID', 'DataYear', 'BuildingType', 'PrimaryPropertyType',\n",
       "       'PropertyName', 'Address', 'State', 'ZipCode',\n",
       "       'TaxParcelIdentificationNumber', 'CouncilDistrictCode', 'Neighborhood',\n",
       "       'Latitude', 'Longitude', 'YearBuilt', 'NumberofBuildings',\n",
       "       'NumberofFloors', 'PropertyGFATotal', 'PropertyGFAParking',\n",
       "       'PropertyGFABuilding(s)', 'ListOfAllPropertyUseTypes',\n",
       "       'LargestPropertyUseType', 'LargestPropertyUseTypeGFA',\n",
       "       'SecondLargestPropertyUseType', 'SecondLargestPropertyUseTypeGFA',\n",
       "       'ThirdLargestPropertyUseType', 'ThirdLargestPropertyUseTypeGFA',\n",
       "       'YearsENERGYSTARCertified', 'ENERGYSTARScore', 'SiteEUI(kBtu/sf)',\n",
       "       'SiteEUIWN(kBtu/sf)', 'SourceEUI(kBtu/sf)', 'SourceEUIWN(kBtu/sf)',\n",
       "       'SiteEnergyUse(kBtu)', 'SiteEnergyUseWN(kBtu)', 'SteamUse(kBtu)',\n",
       "       'Electricity(kWh)', 'Electricity(kBtu)', 'NaturalGas(therms)',\n",
       "       'NaturalGas(kBtu)', 'DefaultData', 'Comments', 'ComplianceStatus',\n",
       "       'Outlier', 'TotalGHGEmissions', 'GHGEmissionsIntensity'],\n",
       "      dtype='object')"
      ]
     },
     "execution_count": 86,
     "metadata": {},
     "output_type": "execute_result"
    }
   ],
   "source": [
    "df2.columns"
   ]
  },
  {
   "cell_type": "code",
   "execution_count": 91,
   "id": "3eb19cf1",
   "metadata": {},
   "outputs": [],
   "source": [
    "df11 = df1[['OSEBuildingID','Location' ]]"
   ]
  },
  {
   "cell_type": "code",
   "execution_count": 92,
   "id": "0146bba1",
   "metadata": {},
   "outputs": [],
   "source": [
    "df22 = df2[['OSEBuildingID', 'Latitude', 'Longitude']]"
   ]
  },
  {
   "cell_type": "code",
   "execution_count": 108,
   "id": "29225465",
   "metadata": {},
   "outputs": [
    {
     "name": "stderr",
     "output_type": "stream",
     "text": [
      "/var/folders/zm/r71zpx_j4y149h6k04j7qqsr0000gn/T/ipykernel_78993/3923263658.py:1: SettingWithCopyWarning: \n",
      "A value is trying to be set on a copy of a slice from a DataFrame.\n",
      "Try using .loc[row_indexer,col_indexer] = value instead\n",
      "\n",
      "See the caveats in the documentation: https://pandas.pydata.org/pandas-docs/stable/user_guide/indexing.html#returning-a-view-versus-a-copy\n",
      "  df11['Location'] = df11['Location'].apply(lambda x : dict(eval(x)))\n"
     ]
    }
   ],
   "source": [
    "df11['Location'] = df11['Location'].apply(lambda x : dict(eval(x)))\n",
    "df111 = df11['Location'].apply(pd.Series)"
   ]
  },
  {
   "cell_type": "code",
   "execution_count": 110,
   "id": "12b758a3",
   "metadata": {},
   "outputs": [],
   "source": [
    "df111.drop(['human_address'], axis=1, inplace=True)"
   ]
  },
  {
   "cell_type": "code",
   "execution_count": 113,
   "id": "6ef99734",
   "metadata": {},
   "outputs": [],
   "source": [
    "df1_to_add = pd.concat([df11, df111], axis=1).drop('Location', axis=1)"
   ]
  },
  {
   "cell_type": "code",
   "execution_count": 114,
   "id": "4f25e976",
   "metadata": {},
   "outputs": [
    {
     "data": {
      "text/html": [
       "<div>\n",
       "<style scoped>\n",
       "    .dataframe tbody tr th:only-of-type {\n",
       "        vertical-align: middle;\n",
       "    }\n",
       "\n",
       "    .dataframe tbody tr th {\n",
       "        vertical-align: top;\n",
       "    }\n",
       "\n",
       "    .dataframe thead th {\n",
       "        text-align: right;\n",
       "    }\n",
       "</style>\n",
       "<table border=\"1\" class=\"dataframe\">\n",
       "  <thead>\n",
       "    <tr style=\"text-align: right;\">\n",
       "      <th></th>\n",
       "      <th>OSEBuildingID</th>\n",
       "      <th>latitude</th>\n",
       "      <th>longitude</th>\n",
       "    </tr>\n",
       "  </thead>\n",
       "  <tbody>\n",
       "    <tr>\n",
       "      <th>0</th>\n",
       "      <td>1</td>\n",
       "      <td>47.61219025</td>\n",
       "      <td>-122.33799744</td>\n",
       "    </tr>\n",
       "    <tr>\n",
       "      <th>1</th>\n",
       "      <td>2</td>\n",
       "      <td>47.61310583</td>\n",
       "      <td>-122.33335756</td>\n",
       "    </tr>\n",
       "    <tr>\n",
       "      <th>2</th>\n",
       "      <td>3</td>\n",
       "      <td>47.61334897</td>\n",
       "      <td>-122.33769944</td>\n",
       "    </tr>\n",
       "    <tr>\n",
       "      <th>3</th>\n",
       "      <td>5</td>\n",
       "      <td>47.61421585</td>\n",
       "      <td>-122.33660889</td>\n",
       "    </tr>\n",
       "    <tr>\n",
       "      <th>4</th>\n",
       "      <td>8</td>\n",
       "      <td>47.6137544</td>\n",
       "      <td>-122.3409238</td>\n",
       "    </tr>\n",
       "  </tbody>\n",
       "</table>\n",
       "</div>"
      ],
      "text/plain": [
       "   OSEBuildingID     latitude      longitude\n",
       "0              1  47.61219025  -122.33799744\n",
       "1              2  47.61310583  -122.33335756\n",
       "2              3  47.61334897  -122.33769944\n",
       "3              5  47.61421585  -122.33660889\n",
       "4              8   47.6137544   -122.3409238"
      ]
     },
     "execution_count": 114,
     "metadata": {},
     "output_type": "execute_result"
    }
   ],
   "source": [
    "df1_to_add.head()"
   ]
  },
  {
   "cell_type": "code",
   "execution_count": 115,
   "id": "73a482a3",
   "metadata": {},
   "outputs": [
    {
     "data": {
      "text/html": [
       "<div>\n",
       "<style scoped>\n",
       "    .dataframe tbody tr th:only-of-type {\n",
       "        vertical-align: middle;\n",
       "    }\n",
       "\n",
       "    .dataframe tbody tr th {\n",
       "        vertical-align: top;\n",
       "    }\n",
       "\n",
       "    .dataframe thead th {\n",
       "        text-align: right;\n",
       "    }\n",
       "</style>\n",
       "<table border=\"1\" class=\"dataframe\">\n",
       "  <thead>\n",
       "    <tr style=\"text-align: right;\">\n",
       "      <th></th>\n",
       "      <th>OSEBuildingID</th>\n",
       "      <th>Latitude</th>\n",
       "      <th>Longitude</th>\n",
       "    </tr>\n",
       "  </thead>\n",
       "  <tbody>\n",
       "    <tr>\n",
       "      <th>0</th>\n",
       "      <td>1</td>\n",
       "      <td>47.61219025</td>\n",
       "      <td>-122.33799744</td>\n",
       "    </tr>\n",
       "    <tr>\n",
       "      <th>1</th>\n",
       "      <td>2</td>\n",
       "      <td>47.61310583</td>\n",
       "      <td>-122.33335756</td>\n",
       "    </tr>\n",
       "    <tr>\n",
       "      <th>2</th>\n",
       "      <td>3</td>\n",
       "      <td>47.61334897</td>\n",
       "      <td>-122.33769944</td>\n",
       "    </tr>\n",
       "    <tr>\n",
       "      <th>3</th>\n",
       "      <td>5</td>\n",
       "      <td>47.61421585</td>\n",
       "      <td>-122.33660889</td>\n",
       "    </tr>\n",
       "    <tr>\n",
       "      <th>4</th>\n",
       "      <td>8</td>\n",
       "      <td>47.6137544</td>\n",
       "      <td>-122.3409238</td>\n",
       "    </tr>\n",
       "    <tr>\n",
       "      <th>...</th>\n",
       "      <td>...</td>\n",
       "      <td>...</td>\n",
       "      <td>...</td>\n",
       "    </tr>\n",
       "    <tr>\n",
       "      <th>3313</th>\n",
       "      <td>49966</td>\n",
       "      <td>47.54102707</td>\n",
       "      <td>-122.31249237</td>\n",
       "    </tr>\n",
       "    <tr>\n",
       "      <th>3314</th>\n",
       "      <td>49985</td>\n",
       "      <td>47.6233466</td>\n",
       "      <td>-122.33968176</td>\n",
       "    </tr>\n",
       "    <tr>\n",
       "      <th>3319</th>\n",
       "      <td>49998</td>\n",
       "      <td>47.5705386</td>\n",
       "      <td>-122.2914015</td>\n",
       "    </tr>\n",
       "    <tr>\n",
       "      <th>3322</th>\n",
       "      <td>50002</td>\n",
       "      <td>47.66411096</td>\n",
       "      <td>-122.3166394</td>\n",
       "    </tr>\n",
       "    <tr>\n",
       "      <th>3334</th>\n",
       "      <td>50038</td>\n",
       "      <td>47.66199875</td>\n",
       "      <td>-122.3867569</td>\n",
       "    </tr>\n",
       "  </tbody>\n",
       "</table>\n",
       "<p>1610 rows × 3 columns</p>\n",
       "</div>"
      ],
      "text/plain": [
       "      OSEBuildingID     Latitude      Longitude\n",
       "0                 1  47.61219025  -122.33799744\n",
       "1                 2  47.61310583  -122.33335756\n",
       "2                 3  47.61334897  -122.33769944\n",
       "3                 5  47.61421585  -122.33660889\n",
       "4                 8   47.6137544   -122.3409238\n",
       "...             ...          ...            ...\n",
       "3313          49966  47.54102707  -122.31249237\n",
       "3314          49985   47.6233466  -122.33968176\n",
       "3319          49998   47.5705386   -122.2914015\n",
       "3322          50002  47.66411096   -122.3166394\n",
       "3334          50038  47.66199875   -122.3867569\n",
       "\n",
       "[1610 rows x 3 columns]"
      ]
     },
     "execution_count": 115,
     "metadata": {},
     "output_type": "execute_result"
    }
   ],
   "source": [
    "df1_to_add.rename(columns= {'latitude': 'Latitude', 'longitude': 'Longitude'})"
   ]
  },
  {
   "cell_type": "code",
   "execution_count": 116,
   "id": "fd500222",
   "metadata": {},
   "outputs": [],
   "source": [
    "df1_new = pd.concat([df1, df1_to_add], axis=1).drop('Location', axis=1)"
   ]
  },
  {
   "cell_type": "code",
   "execution_count": 117,
   "id": "292e51e1",
   "metadata": {},
   "outputs": [
    {
     "data": {
      "text/html": [
       "<div>\n",
       "<style scoped>\n",
       "    .dataframe tbody tr th:only-of-type {\n",
       "        vertical-align: middle;\n",
       "    }\n",
       "\n",
       "    .dataframe tbody tr th {\n",
       "        vertical-align: top;\n",
       "    }\n",
       "\n",
       "    .dataframe thead th {\n",
       "        text-align: right;\n",
       "    }\n",
       "</style>\n",
       "<table border=\"1\" class=\"dataframe\">\n",
       "  <thead>\n",
       "    <tr style=\"text-align: right;\">\n",
       "      <th></th>\n",
       "      <th>OSEBuildingID</th>\n",
       "      <th>DataYear</th>\n",
       "      <th>BuildingType</th>\n",
       "      <th>PrimaryPropertyType</th>\n",
       "      <th>PropertyName</th>\n",
       "      <th>TaxParcelIdentificationNumber</th>\n",
       "      <th>CouncilDistrictCode</th>\n",
       "      <th>Neighborhood</th>\n",
       "      <th>YearBuilt</th>\n",
       "      <th>NumberofBuildings</th>\n",
       "      <th>NumberofFloors</th>\n",
       "      <th>PropertyGFATotal</th>\n",
       "      <th>PropertyGFAParking</th>\n",
       "      <th>PropertyGFABuilding(s)</th>\n",
       "      <th>ListOfAllPropertyUseTypes</th>\n",
       "      <th>LargestPropertyUseType</th>\n",
       "      <th>LargestPropertyUseTypeGFA</th>\n",
       "      <th>SecondLargestPropertyUseType</th>\n",
       "      <th>SecondLargestPropertyUseTypeGFA</th>\n",
       "      <th>ThirdLargestPropertyUseType</th>\n",
       "      <th>ThirdLargestPropertyUseTypeGFA</th>\n",
       "      <th>YearsENERGYSTARCertified</th>\n",
       "      <th>ENERGYSTARScore</th>\n",
       "      <th>SiteEUI(kBtu/sf)</th>\n",
       "      <th>SiteEUIWN(kBtu/sf)</th>\n",
       "      <th>SourceEUI(kBtu/sf)</th>\n",
       "      <th>SourceEUIWN(kBtu/sf)</th>\n",
       "      <th>SiteEnergyUse(kBtu)</th>\n",
       "      <th>SiteEnergyUseWN(kBtu)</th>\n",
       "      <th>SteamUse(kBtu)</th>\n",
       "      <th>Electricity(kWh)</th>\n",
       "      <th>Electricity(kBtu)</th>\n",
       "      <th>NaturalGas(therms)</th>\n",
       "      <th>NaturalGas(kBtu)</th>\n",
       "      <th>OtherFuelUse(kBtu)</th>\n",
       "      <th>GHGEmissions(MetricTonsCO2e)</th>\n",
       "      <th>GHGEmissionsIntensity(kgCO2e/ft2)</th>\n",
       "      <th>DefaultData</th>\n",
       "      <th>Comments</th>\n",
       "      <th>ComplianceStatus</th>\n",
       "      <th>Outlier</th>\n",
       "      <th>SPD Beats</th>\n",
       "      <th>ZipCode</th>\n",
       "      <th>OSEBuildingID</th>\n",
       "      <th>latitude</th>\n",
       "      <th>longitude</th>\n",
       "    </tr>\n",
       "  </thead>\n",
       "  <tbody>\n",
       "    <tr>\n",
       "      <th>0</th>\n",
       "      <td>1</td>\n",
       "      <td>2015</td>\n",
       "      <td>NonResidential</td>\n",
       "      <td>Hotel</td>\n",
       "      <td>MAYFLOWER PARK HOTEL</td>\n",
       "      <td>659000030</td>\n",
       "      <td>7</td>\n",
       "      <td>DOWNTOWN</td>\n",
       "      <td>1927</td>\n",
       "      <td>1</td>\n",
       "      <td>12.0</td>\n",
       "      <td>88434</td>\n",
       "      <td>0</td>\n",
       "      <td>88434</td>\n",
       "      <td>Hotel</td>\n",
       "      <td>Hotel</td>\n",
       "      <td>88434.0</td>\n",
       "      <td>NaN</td>\n",
       "      <td>NaN</td>\n",
       "      <td>NaN</td>\n",
       "      <td>NaN</td>\n",
       "      <td>NaN</td>\n",
       "      <td>65.0</td>\n",
       "      <td>78.9</td>\n",
       "      <td>80.3</td>\n",
       "      <td>173.5</td>\n",
       "      <td>175.1</td>\n",
       "      <td>6981428.0</td>\n",
       "      <td>7097539.0</td>\n",
       "      <td>2023032.0</td>\n",
       "      <td>1080307.0</td>\n",
       "      <td>3686160.0</td>\n",
       "      <td>12724.0</td>\n",
       "      <td>1272388.0</td>\n",
       "      <td>0.0</td>\n",
       "      <td>249.43</td>\n",
       "      <td>2.64</td>\n",
       "      <td>No</td>\n",
       "      <td>NaN</td>\n",
       "      <td>Compliant</td>\n",
       "      <td>NaN</td>\n",
       "      <td>31.0</td>\n",
       "      <td>18081</td>\n",
       "      <td>1</td>\n",
       "      <td>47.61219025</td>\n",
       "      <td>-122.33799744</td>\n",
       "    </tr>\n",
       "    <tr>\n",
       "      <th>1</th>\n",
       "      <td>2</td>\n",
       "      <td>2015</td>\n",
       "      <td>NonResidential</td>\n",
       "      <td>Hotel</td>\n",
       "      <td>PARAMOUNT HOTEL</td>\n",
       "      <td>659000220</td>\n",
       "      <td>7</td>\n",
       "      <td>DOWNTOWN</td>\n",
       "      <td>1996</td>\n",
       "      <td>1</td>\n",
       "      <td>11.0</td>\n",
       "      <td>103566</td>\n",
       "      <td>15064</td>\n",
       "      <td>88502</td>\n",
       "      <td>Hotel, Parking, Restaurant</td>\n",
       "      <td>Hotel</td>\n",
       "      <td>83880.0</td>\n",
       "      <td>Parking</td>\n",
       "      <td>15064.0</td>\n",
       "      <td>Restaurant</td>\n",
       "      <td>4622.0</td>\n",
       "      <td>NaN</td>\n",
       "      <td>51.0</td>\n",
       "      <td>94.4</td>\n",
       "      <td>99.0</td>\n",
       "      <td>191.3</td>\n",
       "      <td>195.2</td>\n",
       "      <td>8354235.0</td>\n",
       "      <td>8765788.0</td>\n",
       "      <td>0.0</td>\n",
       "      <td>1144563.0</td>\n",
       "      <td>3905411.0</td>\n",
       "      <td>44490.0</td>\n",
       "      <td>4448985.0</td>\n",
       "      <td>0.0</td>\n",
       "      <td>263.51</td>\n",
       "      <td>2.38</td>\n",
       "      <td>No</td>\n",
       "      <td>NaN</td>\n",
       "      <td>Compliant</td>\n",
       "      <td>NaN</td>\n",
       "      <td>31.0</td>\n",
       "      <td>18081</td>\n",
       "      <td>2</td>\n",
       "      <td>47.61310583</td>\n",
       "      <td>-122.33335756</td>\n",
       "    </tr>\n",
       "  </tbody>\n",
       "</table>\n",
       "</div>"
      ],
      "text/plain": [
       "   OSEBuildingID  DataYear    BuildingType PrimaryPropertyType  \\\n",
       "0              1      2015  NonResidential               Hotel   \n",
       "1              2      2015  NonResidential               Hotel   \n",
       "\n",
       "           PropertyName TaxParcelIdentificationNumber  CouncilDistrictCode  \\\n",
       "0  MAYFLOWER PARK HOTEL                     659000030                    7   \n",
       "1       PARAMOUNT HOTEL                     659000220                    7   \n",
       "\n",
       "  Neighborhood  YearBuilt  NumberofBuildings  NumberofFloors  \\\n",
       "0     DOWNTOWN       1927                  1            12.0   \n",
       "1     DOWNTOWN       1996                  1            11.0   \n",
       "\n",
       "   PropertyGFATotal  PropertyGFAParking  PropertyGFABuilding(s)  \\\n",
       "0             88434                   0                   88434   \n",
       "1            103566               15064                   88502   \n",
       "\n",
       "    ListOfAllPropertyUseTypes LargestPropertyUseType  \\\n",
       "0                       Hotel                  Hotel   \n",
       "1  Hotel, Parking, Restaurant                  Hotel   \n",
       "\n",
       "   LargestPropertyUseTypeGFA SecondLargestPropertyUseType  \\\n",
       "0                    88434.0                          NaN   \n",
       "1                    83880.0                      Parking   \n",
       "\n",
       "   SecondLargestPropertyUseTypeGFA ThirdLargestPropertyUseType  \\\n",
       "0                              NaN                         NaN   \n",
       "1                          15064.0                  Restaurant   \n",
       "\n",
       "   ThirdLargestPropertyUseTypeGFA YearsENERGYSTARCertified  ENERGYSTARScore  \\\n",
       "0                             NaN                      NaN             65.0   \n",
       "1                          4622.0                      NaN             51.0   \n",
       "\n",
       "   SiteEUI(kBtu/sf)  SiteEUIWN(kBtu/sf)  SourceEUI(kBtu/sf)  \\\n",
       "0              78.9                80.3               173.5   \n",
       "1              94.4                99.0               191.3   \n",
       "\n",
       "   SourceEUIWN(kBtu/sf)  SiteEnergyUse(kBtu)  SiteEnergyUseWN(kBtu)  \\\n",
       "0                 175.1            6981428.0              7097539.0   \n",
       "1                 195.2            8354235.0              8765788.0   \n",
       "\n",
       "   SteamUse(kBtu)  Electricity(kWh)  Electricity(kBtu)  NaturalGas(therms)  \\\n",
       "0       2023032.0         1080307.0          3686160.0             12724.0   \n",
       "1             0.0         1144563.0          3905411.0             44490.0   \n",
       "\n",
       "   NaturalGas(kBtu)  OtherFuelUse(kBtu)  GHGEmissions(MetricTonsCO2e)  \\\n",
       "0         1272388.0                 0.0                        249.43   \n",
       "1         4448985.0                 0.0                        263.51   \n",
       "\n",
       "   GHGEmissionsIntensity(kgCO2e/ft2) DefaultData Comments ComplianceStatus  \\\n",
       "0                               2.64          No      NaN        Compliant   \n",
       "1                               2.38          No      NaN        Compliant   \n",
       "\n",
       "  Outlier  SPD Beats  ZipCode  OSEBuildingID     latitude      longitude  \n",
       "0     NaN       31.0    18081              1  47.61219025  -122.33799744  \n",
       "1     NaN       31.0    18081              2  47.61310583  -122.33335756  "
      ]
     },
     "execution_count": 117,
     "metadata": {},
     "output_type": "execute_result"
    }
   ],
   "source": [
    "df1_new.head(2)"
   ]
  },
  {
   "cell_type": "code",
   "execution_count": 119,
   "id": "fceb260b",
   "metadata": {},
   "outputs": [],
   "source": [
    "df1_new.rename(columns= {'latitude': 'Latitude', 'longitude': 'Longitude'}, inplace=True)"
   ]
  },
  {
   "cell_type": "code",
   "execution_count": 120,
   "id": "786f8a8b",
   "metadata": {
    "scrolled": true
   },
   "outputs": [
    {
     "data": {
      "text/html": [
       "<div>\n",
       "<style scoped>\n",
       "    .dataframe tbody tr th:only-of-type {\n",
       "        vertical-align: middle;\n",
       "    }\n",
       "\n",
       "    .dataframe tbody tr th {\n",
       "        vertical-align: top;\n",
       "    }\n",
       "\n",
       "    .dataframe thead th {\n",
       "        text-align: right;\n",
       "    }\n",
       "</style>\n",
       "<table border=\"1\" class=\"dataframe\">\n",
       "  <thead>\n",
       "    <tr style=\"text-align: right;\">\n",
       "      <th></th>\n",
       "      <th>OSEBuildingID</th>\n",
       "      <th>DataYear</th>\n",
       "      <th>BuildingType</th>\n",
       "      <th>PrimaryPropertyType</th>\n",
       "      <th>PropertyName</th>\n",
       "      <th>TaxParcelIdentificationNumber</th>\n",
       "      <th>CouncilDistrictCode</th>\n",
       "      <th>Neighborhood</th>\n",
       "      <th>YearBuilt</th>\n",
       "      <th>NumberofBuildings</th>\n",
       "      <th>NumberofFloors</th>\n",
       "      <th>PropertyGFATotal</th>\n",
       "      <th>PropertyGFAParking</th>\n",
       "      <th>PropertyGFABuilding(s)</th>\n",
       "      <th>ListOfAllPropertyUseTypes</th>\n",
       "      <th>LargestPropertyUseType</th>\n",
       "      <th>LargestPropertyUseTypeGFA</th>\n",
       "      <th>SecondLargestPropertyUseType</th>\n",
       "      <th>SecondLargestPropertyUseTypeGFA</th>\n",
       "      <th>ThirdLargestPropertyUseType</th>\n",
       "      <th>ThirdLargestPropertyUseTypeGFA</th>\n",
       "      <th>YearsENERGYSTARCertified</th>\n",
       "      <th>ENERGYSTARScore</th>\n",
       "      <th>SiteEUI(kBtu/sf)</th>\n",
       "      <th>SiteEUIWN(kBtu/sf)</th>\n",
       "      <th>SourceEUI(kBtu/sf)</th>\n",
       "      <th>SourceEUIWN(kBtu/sf)</th>\n",
       "      <th>SiteEnergyUse(kBtu)</th>\n",
       "      <th>SiteEnergyUseWN(kBtu)</th>\n",
       "      <th>SteamUse(kBtu)</th>\n",
       "      <th>Electricity(kWh)</th>\n",
       "      <th>Electricity(kBtu)</th>\n",
       "      <th>NaturalGas(therms)</th>\n",
       "      <th>NaturalGas(kBtu)</th>\n",
       "      <th>OtherFuelUse(kBtu)</th>\n",
       "      <th>GHGEmissions(MetricTonsCO2e)</th>\n",
       "      <th>GHGEmissionsIntensity(kgCO2e/ft2)</th>\n",
       "      <th>DefaultData</th>\n",
       "      <th>Comments</th>\n",
       "      <th>ComplianceStatus</th>\n",
       "      <th>Outlier</th>\n",
       "      <th>SPD Beats</th>\n",
       "      <th>ZipCode</th>\n",
       "      <th>OSEBuildingID</th>\n",
       "      <th>Latitude</th>\n",
       "      <th>Longitude</th>\n",
       "    </tr>\n",
       "  </thead>\n",
       "  <tbody>\n",
       "    <tr>\n",
       "      <th>0</th>\n",
       "      <td>1</td>\n",
       "      <td>2015</td>\n",
       "      <td>NonResidential</td>\n",
       "      <td>Hotel</td>\n",
       "      <td>MAYFLOWER PARK HOTEL</td>\n",
       "      <td>659000030</td>\n",
       "      <td>7</td>\n",
       "      <td>DOWNTOWN</td>\n",
       "      <td>1927</td>\n",
       "      <td>1</td>\n",
       "      <td>12.0</td>\n",
       "      <td>88434</td>\n",
       "      <td>0</td>\n",
       "      <td>88434</td>\n",
       "      <td>Hotel</td>\n",
       "      <td>Hotel</td>\n",
       "      <td>88434.0</td>\n",
       "      <td>NaN</td>\n",
       "      <td>NaN</td>\n",
       "      <td>NaN</td>\n",
       "      <td>NaN</td>\n",
       "      <td>NaN</td>\n",
       "      <td>65.0</td>\n",
       "      <td>78.9</td>\n",
       "      <td>80.3</td>\n",
       "      <td>173.5</td>\n",
       "      <td>175.1</td>\n",
       "      <td>6981428.0</td>\n",
       "      <td>7097539.0</td>\n",
       "      <td>2023032.0</td>\n",
       "      <td>1080307.0</td>\n",
       "      <td>3686160.0</td>\n",
       "      <td>12724.0</td>\n",
       "      <td>1272388.0</td>\n",
       "      <td>0.0</td>\n",
       "      <td>249.43</td>\n",
       "      <td>2.64</td>\n",
       "      <td>No</td>\n",
       "      <td>NaN</td>\n",
       "      <td>Compliant</td>\n",
       "      <td>NaN</td>\n",
       "      <td>31.0</td>\n",
       "      <td>18081</td>\n",
       "      <td>1</td>\n",
       "      <td>47.61219025</td>\n",
       "      <td>-122.33799744</td>\n",
       "    </tr>\n",
       "    <tr>\n",
       "      <th>1</th>\n",
       "      <td>2</td>\n",
       "      <td>2015</td>\n",
       "      <td>NonResidential</td>\n",
       "      <td>Hotel</td>\n",
       "      <td>PARAMOUNT HOTEL</td>\n",
       "      <td>659000220</td>\n",
       "      <td>7</td>\n",
       "      <td>DOWNTOWN</td>\n",
       "      <td>1996</td>\n",
       "      <td>1</td>\n",
       "      <td>11.0</td>\n",
       "      <td>103566</td>\n",
       "      <td>15064</td>\n",
       "      <td>88502</td>\n",
       "      <td>Hotel, Parking, Restaurant</td>\n",
       "      <td>Hotel</td>\n",
       "      <td>83880.0</td>\n",
       "      <td>Parking</td>\n",
       "      <td>15064.0</td>\n",
       "      <td>Restaurant</td>\n",
       "      <td>4622.0</td>\n",
       "      <td>NaN</td>\n",
       "      <td>51.0</td>\n",
       "      <td>94.4</td>\n",
       "      <td>99.0</td>\n",
       "      <td>191.3</td>\n",
       "      <td>195.2</td>\n",
       "      <td>8354235.0</td>\n",
       "      <td>8765788.0</td>\n",
       "      <td>0.0</td>\n",
       "      <td>1144563.0</td>\n",
       "      <td>3905411.0</td>\n",
       "      <td>44490.0</td>\n",
       "      <td>4448985.0</td>\n",
       "      <td>0.0</td>\n",
       "      <td>263.51</td>\n",
       "      <td>2.38</td>\n",
       "      <td>No</td>\n",
       "      <td>NaN</td>\n",
       "      <td>Compliant</td>\n",
       "      <td>NaN</td>\n",
       "      <td>31.0</td>\n",
       "      <td>18081</td>\n",
       "      <td>2</td>\n",
       "      <td>47.61310583</td>\n",
       "      <td>-122.33335756</td>\n",
       "    </tr>\n",
       "  </tbody>\n",
       "</table>\n",
       "</div>"
      ],
      "text/plain": [
       "   OSEBuildingID  DataYear    BuildingType PrimaryPropertyType  \\\n",
       "0              1      2015  NonResidential               Hotel   \n",
       "1              2      2015  NonResidential               Hotel   \n",
       "\n",
       "           PropertyName TaxParcelIdentificationNumber  CouncilDistrictCode  \\\n",
       "0  MAYFLOWER PARK HOTEL                     659000030                    7   \n",
       "1       PARAMOUNT HOTEL                     659000220                    7   \n",
       "\n",
       "  Neighborhood  YearBuilt  NumberofBuildings  NumberofFloors  \\\n",
       "0     DOWNTOWN       1927                  1            12.0   \n",
       "1     DOWNTOWN       1996                  1            11.0   \n",
       "\n",
       "   PropertyGFATotal  PropertyGFAParking  PropertyGFABuilding(s)  \\\n",
       "0             88434                   0                   88434   \n",
       "1            103566               15064                   88502   \n",
       "\n",
       "    ListOfAllPropertyUseTypes LargestPropertyUseType  \\\n",
       "0                       Hotel                  Hotel   \n",
       "1  Hotel, Parking, Restaurant                  Hotel   \n",
       "\n",
       "   LargestPropertyUseTypeGFA SecondLargestPropertyUseType  \\\n",
       "0                    88434.0                          NaN   \n",
       "1                    83880.0                      Parking   \n",
       "\n",
       "   SecondLargestPropertyUseTypeGFA ThirdLargestPropertyUseType  \\\n",
       "0                              NaN                         NaN   \n",
       "1                          15064.0                  Restaurant   \n",
       "\n",
       "   ThirdLargestPropertyUseTypeGFA YearsENERGYSTARCertified  ENERGYSTARScore  \\\n",
       "0                             NaN                      NaN             65.0   \n",
       "1                          4622.0                      NaN             51.0   \n",
       "\n",
       "   SiteEUI(kBtu/sf)  SiteEUIWN(kBtu/sf)  SourceEUI(kBtu/sf)  \\\n",
       "0              78.9                80.3               173.5   \n",
       "1              94.4                99.0               191.3   \n",
       "\n",
       "   SourceEUIWN(kBtu/sf)  SiteEnergyUse(kBtu)  SiteEnergyUseWN(kBtu)  \\\n",
       "0                 175.1            6981428.0              7097539.0   \n",
       "1                 195.2            8354235.0              8765788.0   \n",
       "\n",
       "   SteamUse(kBtu)  Electricity(kWh)  Electricity(kBtu)  NaturalGas(therms)  \\\n",
       "0       2023032.0         1080307.0          3686160.0             12724.0   \n",
       "1             0.0         1144563.0          3905411.0             44490.0   \n",
       "\n",
       "   NaturalGas(kBtu)  OtherFuelUse(kBtu)  GHGEmissions(MetricTonsCO2e)  \\\n",
       "0         1272388.0                 0.0                        249.43   \n",
       "1         4448985.0                 0.0                        263.51   \n",
       "\n",
       "   GHGEmissionsIntensity(kgCO2e/ft2) DefaultData Comments ComplianceStatus  \\\n",
       "0                               2.64          No      NaN        Compliant   \n",
       "1                               2.38          No      NaN        Compliant   \n",
       "\n",
       "  Outlier  SPD Beats  ZipCode  OSEBuildingID     Latitude      Longitude  \n",
       "0     NaN       31.0    18081              1  47.61219025  -122.33799744  \n",
       "1     NaN       31.0    18081              2  47.61310583  -122.33335756  "
      ]
     },
     "execution_count": 120,
     "metadata": {},
     "output_type": "execute_result"
    }
   ],
   "source": [
    "df1_new.head(2)"
   ]
  },
  {
   "cell_type": "code",
   "execution_count": 121,
   "id": "4adc8adb",
   "metadata": {},
   "outputs": [
    {
     "data": {
      "text/html": [
       "<div>\n",
       "<style scoped>\n",
       "    .dataframe tbody tr th:only-of-type {\n",
       "        vertical-align: middle;\n",
       "    }\n",
       "\n",
       "    .dataframe tbody tr th {\n",
       "        vertical-align: top;\n",
       "    }\n",
       "\n",
       "    .dataframe thead th {\n",
       "        text-align: right;\n",
       "    }\n",
       "</style>\n",
       "<table border=\"1\" class=\"dataframe\">\n",
       "  <thead>\n",
       "    <tr style=\"text-align: right;\">\n",
       "      <th></th>\n",
       "      <th>OSEBuildingID</th>\n",
       "      <th>DataYear</th>\n",
       "      <th>BuildingType</th>\n",
       "      <th>PrimaryPropertyType</th>\n",
       "      <th>PropertyName</th>\n",
       "      <th>Address</th>\n",
       "      <th>State</th>\n",
       "      <th>ZipCode</th>\n",
       "      <th>TaxParcelIdentificationNumber</th>\n",
       "      <th>CouncilDistrictCode</th>\n",
       "      <th>Neighborhood</th>\n",
       "      <th>Latitude</th>\n",
       "      <th>Longitude</th>\n",
       "      <th>YearBuilt</th>\n",
       "      <th>NumberofBuildings</th>\n",
       "      <th>NumberofFloors</th>\n",
       "      <th>PropertyGFATotal</th>\n",
       "      <th>PropertyGFAParking</th>\n",
       "      <th>PropertyGFABuilding(s)</th>\n",
       "      <th>ListOfAllPropertyUseTypes</th>\n",
       "      <th>LargestPropertyUseType</th>\n",
       "      <th>LargestPropertyUseTypeGFA</th>\n",
       "      <th>SecondLargestPropertyUseType</th>\n",
       "      <th>SecondLargestPropertyUseTypeGFA</th>\n",
       "      <th>ThirdLargestPropertyUseType</th>\n",
       "      <th>ThirdLargestPropertyUseTypeGFA</th>\n",
       "      <th>YearsENERGYSTARCertified</th>\n",
       "      <th>ENERGYSTARScore</th>\n",
       "      <th>SiteEUI(kBtu/sf)</th>\n",
       "      <th>SiteEUIWN(kBtu/sf)</th>\n",
       "      <th>SourceEUI(kBtu/sf)</th>\n",
       "      <th>SourceEUIWN(kBtu/sf)</th>\n",
       "      <th>SiteEnergyUse(kBtu)</th>\n",
       "      <th>SiteEnergyUseWN(kBtu)</th>\n",
       "      <th>SteamUse(kBtu)</th>\n",
       "      <th>Electricity(kWh)</th>\n",
       "      <th>Electricity(kBtu)</th>\n",
       "      <th>NaturalGas(therms)</th>\n",
       "      <th>NaturalGas(kBtu)</th>\n",
       "      <th>DefaultData</th>\n",
       "      <th>Comments</th>\n",
       "      <th>ComplianceStatus</th>\n",
       "      <th>Outlier</th>\n",
       "      <th>TotalGHGEmissions</th>\n",
       "      <th>GHGEmissionsIntensity</th>\n",
       "    </tr>\n",
       "  </thead>\n",
       "  <tbody>\n",
       "    <tr>\n",
       "      <th>0</th>\n",
       "      <td>1</td>\n",
       "      <td>2016</td>\n",
       "      <td>NonResidential</td>\n",
       "      <td>Hotel</td>\n",
       "      <td>Mayflower park hotel</td>\n",
       "      <td>405 Olive way</td>\n",
       "      <td>WA</td>\n",
       "      <td>98101.0</td>\n",
       "      <td>0659000030</td>\n",
       "      <td>7</td>\n",
       "      <td>DOWNTOWN</td>\n",
       "      <td>47.61220</td>\n",
       "      <td>-122.33799</td>\n",
       "      <td>1927</td>\n",
       "      <td>1.0</td>\n",
       "      <td>12</td>\n",
       "      <td>88434</td>\n",
       "      <td>0</td>\n",
       "      <td>88434</td>\n",
       "      <td>Hotel</td>\n",
       "      <td>Hotel</td>\n",
       "      <td>88434.0</td>\n",
       "      <td>NaN</td>\n",
       "      <td>NaN</td>\n",
       "      <td>NaN</td>\n",
       "      <td>NaN</td>\n",
       "      <td>NaN</td>\n",
       "      <td>60.0</td>\n",
       "      <td>81.699997</td>\n",
       "      <td>84.300003</td>\n",
       "      <td>182.500000</td>\n",
       "      <td>189.000000</td>\n",
       "      <td>7226362.5</td>\n",
       "      <td>7456910.0</td>\n",
       "      <td>2003882.0</td>\n",
       "      <td>1.156514e+06</td>\n",
       "      <td>3946027.0</td>\n",
       "      <td>12764.52930</td>\n",
       "      <td>1276453.0</td>\n",
       "      <td>False</td>\n",
       "      <td>NaN</td>\n",
       "      <td>Compliant</td>\n",
       "      <td>NaN</td>\n",
       "      <td>249.98</td>\n",
       "      <td>2.83</td>\n",
       "    </tr>\n",
       "    <tr>\n",
       "      <th>1</th>\n",
       "      <td>2</td>\n",
       "      <td>2016</td>\n",
       "      <td>NonResidential</td>\n",
       "      <td>Hotel</td>\n",
       "      <td>Paramount Hotel</td>\n",
       "      <td>724 Pine street</td>\n",
       "      <td>WA</td>\n",
       "      <td>98101.0</td>\n",
       "      <td>0659000220</td>\n",
       "      <td>7</td>\n",
       "      <td>DOWNTOWN</td>\n",
       "      <td>47.61317</td>\n",
       "      <td>-122.33393</td>\n",
       "      <td>1996</td>\n",
       "      <td>1.0</td>\n",
       "      <td>11</td>\n",
       "      <td>103566</td>\n",
       "      <td>15064</td>\n",
       "      <td>88502</td>\n",
       "      <td>Hotel, Parking, Restaurant</td>\n",
       "      <td>Hotel</td>\n",
       "      <td>83880.0</td>\n",
       "      <td>Parking</td>\n",
       "      <td>15064.0</td>\n",
       "      <td>Restaurant</td>\n",
       "      <td>4622.0</td>\n",
       "      <td>NaN</td>\n",
       "      <td>61.0</td>\n",
       "      <td>94.800003</td>\n",
       "      <td>97.900002</td>\n",
       "      <td>176.100006</td>\n",
       "      <td>179.399994</td>\n",
       "      <td>8387933.0</td>\n",
       "      <td>8664479.0</td>\n",
       "      <td>0.0</td>\n",
       "      <td>9.504252e+05</td>\n",
       "      <td>3242851.0</td>\n",
       "      <td>51450.81641</td>\n",
       "      <td>5145082.0</td>\n",
       "      <td>False</td>\n",
       "      <td>NaN</td>\n",
       "      <td>Compliant</td>\n",
       "      <td>NaN</td>\n",
       "      <td>295.86</td>\n",
       "      <td>2.86</td>\n",
       "    </tr>\n",
       "  </tbody>\n",
       "</table>\n",
       "</div>"
      ],
      "text/plain": [
       "   OSEBuildingID  DataYear    BuildingType PrimaryPropertyType  \\\n",
       "0              1      2016  NonResidential               Hotel   \n",
       "1              2      2016  NonResidential               Hotel   \n",
       "\n",
       "           PropertyName          Address State  ZipCode  \\\n",
       "0  Mayflower park hotel    405 Olive way    WA  98101.0   \n",
       "1       Paramount Hotel  724 Pine street    WA  98101.0   \n",
       "\n",
       "  TaxParcelIdentificationNumber  CouncilDistrictCode Neighborhood  Latitude  \\\n",
       "0                    0659000030                    7     DOWNTOWN  47.61220   \n",
       "1                    0659000220                    7     DOWNTOWN  47.61317   \n",
       "\n",
       "   Longitude  YearBuilt  NumberofBuildings  NumberofFloors  PropertyGFATotal  \\\n",
       "0 -122.33799       1927                1.0              12             88434   \n",
       "1 -122.33393       1996                1.0              11            103566   \n",
       "\n",
       "   PropertyGFAParking  PropertyGFABuilding(s)   ListOfAllPropertyUseTypes  \\\n",
       "0                   0                   88434                       Hotel   \n",
       "1               15064                   88502  Hotel, Parking, Restaurant   \n",
       "\n",
       "  LargestPropertyUseType  LargestPropertyUseTypeGFA  \\\n",
       "0                  Hotel                    88434.0   \n",
       "1                  Hotel                    83880.0   \n",
       "\n",
       "  SecondLargestPropertyUseType  SecondLargestPropertyUseTypeGFA  \\\n",
       "0                          NaN                              NaN   \n",
       "1                      Parking                          15064.0   \n",
       "\n",
       "  ThirdLargestPropertyUseType  ThirdLargestPropertyUseTypeGFA  \\\n",
       "0                         NaN                             NaN   \n",
       "1                  Restaurant                          4622.0   \n",
       "\n",
       "  YearsENERGYSTARCertified  ENERGYSTARScore  SiteEUI(kBtu/sf)  \\\n",
       "0                      NaN             60.0         81.699997   \n",
       "1                      NaN             61.0         94.800003   \n",
       "\n",
       "   SiteEUIWN(kBtu/sf)  SourceEUI(kBtu/sf)  SourceEUIWN(kBtu/sf)  \\\n",
       "0           84.300003          182.500000            189.000000   \n",
       "1           97.900002          176.100006            179.399994   \n",
       "\n",
       "   SiteEnergyUse(kBtu)  SiteEnergyUseWN(kBtu)  SteamUse(kBtu)  \\\n",
       "0            7226362.5              7456910.0       2003882.0   \n",
       "1            8387933.0              8664479.0             0.0   \n",
       "\n",
       "   Electricity(kWh)  Electricity(kBtu)  NaturalGas(therms)  NaturalGas(kBtu)  \\\n",
       "0      1.156514e+06          3946027.0         12764.52930         1276453.0   \n",
       "1      9.504252e+05          3242851.0         51450.81641         5145082.0   \n",
       "\n",
       "   DefaultData  Comments ComplianceStatus Outlier  TotalGHGEmissions  \\\n",
       "0        False       NaN        Compliant     NaN             249.98   \n",
       "1        False       NaN        Compliant     NaN             295.86   \n",
       "\n",
       "   GHGEmissionsIntensity  \n",
       "0                   2.83  \n",
       "1                   2.86  "
      ]
     },
     "execution_count": 121,
     "metadata": {},
     "output_type": "execute_result"
    }
   ],
   "source": [
    "df2.head(2)"
   ]
  },
  {
   "cell_type": "markdown",
   "id": "4029340b",
   "metadata": {},
   "source": [
    "I remove all other information about address (Address, State) then Longitude and Latitude. I also remove 'PropertyName' column from both databases:"
   ]
  },
  {
   "cell_type": "code",
   "execution_count": 126,
   "id": "0b86d69c",
   "metadata": {},
   "outputs": [],
   "source": [
    "df1_new = df1_new.drop(['PropertyName'], axis=1)"
   ]
  },
  {
   "cell_type": "code",
   "execution_count": 124,
   "id": "88b6dc07",
   "metadata": {},
   "outputs": [],
   "source": [
    "df2_new = df2.drop(['PropertyName', 'Address', 'State'], axis=1)"
   ]
  },
  {
   "cell_type": "code",
   "execution_count": 125,
   "id": "18ea6f24",
   "metadata": {},
   "outputs": [
    {
     "data": {
      "text/html": [
       "<div>\n",
       "<style scoped>\n",
       "    .dataframe tbody tr th:only-of-type {\n",
       "        vertical-align: middle;\n",
       "    }\n",
       "\n",
       "    .dataframe tbody tr th {\n",
       "        vertical-align: top;\n",
       "    }\n",
       "\n",
       "    .dataframe thead th {\n",
       "        text-align: right;\n",
       "    }\n",
       "</style>\n",
       "<table border=\"1\" class=\"dataframe\">\n",
       "  <thead>\n",
       "    <tr style=\"text-align: right;\">\n",
       "      <th></th>\n",
       "      <th>OSEBuildingID</th>\n",
       "      <th>DataYear</th>\n",
       "      <th>BuildingType</th>\n",
       "      <th>PrimaryPropertyType</th>\n",
       "      <th>ZipCode</th>\n",
       "      <th>TaxParcelIdentificationNumber</th>\n",
       "      <th>CouncilDistrictCode</th>\n",
       "      <th>Neighborhood</th>\n",
       "      <th>Latitude</th>\n",
       "      <th>Longitude</th>\n",
       "      <th>YearBuilt</th>\n",
       "      <th>NumberofBuildings</th>\n",
       "      <th>NumberofFloors</th>\n",
       "      <th>PropertyGFATotal</th>\n",
       "      <th>PropertyGFAParking</th>\n",
       "      <th>PropertyGFABuilding(s)</th>\n",
       "      <th>ListOfAllPropertyUseTypes</th>\n",
       "      <th>LargestPropertyUseType</th>\n",
       "      <th>LargestPropertyUseTypeGFA</th>\n",
       "      <th>SecondLargestPropertyUseType</th>\n",
       "      <th>SecondLargestPropertyUseTypeGFA</th>\n",
       "      <th>ThirdLargestPropertyUseType</th>\n",
       "      <th>ThirdLargestPropertyUseTypeGFA</th>\n",
       "      <th>YearsENERGYSTARCertified</th>\n",
       "      <th>ENERGYSTARScore</th>\n",
       "      <th>SiteEUI(kBtu/sf)</th>\n",
       "      <th>SiteEUIWN(kBtu/sf)</th>\n",
       "      <th>SourceEUI(kBtu/sf)</th>\n",
       "      <th>SourceEUIWN(kBtu/sf)</th>\n",
       "      <th>SiteEnergyUse(kBtu)</th>\n",
       "      <th>SiteEnergyUseWN(kBtu)</th>\n",
       "      <th>SteamUse(kBtu)</th>\n",
       "      <th>Electricity(kWh)</th>\n",
       "      <th>Electricity(kBtu)</th>\n",
       "      <th>NaturalGas(therms)</th>\n",
       "      <th>NaturalGas(kBtu)</th>\n",
       "      <th>DefaultData</th>\n",
       "      <th>Comments</th>\n",
       "      <th>ComplianceStatus</th>\n",
       "      <th>Outlier</th>\n",
       "      <th>TotalGHGEmissions</th>\n",
       "      <th>GHGEmissionsIntensity</th>\n",
       "    </tr>\n",
       "  </thead>\n",
       "  <tbody>\n",
       "    <tr>\n",
       "      <th>0</th>\n",
       "      <td>1</td>\n",
       "      <td>2016</td>\n",
       "      <td>NonResidential</td>\n",
       "      <td>Hotel</td>\n",
       "      <td>98101.0</td>\n",
       "      <td>0659000030</td>\n",
       "      <td>7</td>\n",
       "      <td>DOWNTOWN</td>\n",
       "      <td>47.61220</td>\n",
       "      <td>-122.33799</td>\n",
       "      <td>1927</td>\n",
       "      <td>1.0</td>\n",
       "      <td>12</td>\n",
       "      <td>88434</td>\n",
       "      <td>0</td>\n",
       "      <td>88434</td>\n",
       "      <td>Hotel</td>\n",
       "      <td>Hotel</td>\n",
       "      <td>88434.0</td>\n",
       "      <td>NaN</td>\n",
       "      <td>NaN</td>\n",
       "      <td>NaN</td>\n",
       "      <td>NaN</td>\n",
       "      <td>NaN</td>\n",
       "      <td>60.0</td>\n",
       "      <td>81.699997</td>\n",
       "      <td>84.300003</td>\n",
       "      <td>182.500000</td>\n",
       "      <td>189.000000</td>\n",
       "      <td>7226362.5</td>\n",
       "      <td>7456910.0</td>\n",
       "      <td>2003882.0</td>\n",
       "      <td>1.156514e+06</td>\n",
       "      <td>3946027.0</td>\n",
       "      <td>12764.52930</td>\n",
       "      <td>1276453.0</td>\n",
       "      <td>False</td>\n",
       "      <td>NaN</td>\n",
       "      <td>Compliant</td>\n",
       "      <td>NaN</td>\n",
       "      <td>249.98</td>\n",
       "      <td>2.83</td>\n",
       "    </tr>\n",
       "    <tr>\n",
       "      <th>1</th>\n",
       "      <td>2</td>\n",
       "      <td>2016</td>\n",
       "      <td>NonResidential</td>\n",
       "      <td>Hotel</td>\n",
       "      <td>98101.0</td>\n",
       "      <td>0659000220</td>\n",
       "      <td>7</td>\n",
       "      <td>DOWNTOWN</td>\n",
       "      <td>47.61317</td>\n",
       "      <td>-122.33393</td>\n",
       "      <td>1996</td>\n",
       "      <td>1.0</td>\n",
       "      <td>11</td>\n",
       "      <td>103566</td>\n",
       "      <td>15064</td>\n",
       "      <td>88502</td>\n",
       "      <td>Hotel, Parking, Restaurant</td>\n",
       "      <td>Hotel</td>\n",
       "      <td>83880.0</td>\n",
       "      <td>Parking</td>\n",
       "      <td>15064.0</td>\n",
       "      <td>Restaurant</td>\n",
       "      <td>4622.0</td>\n",
       "      <td>NaN</td>\n",
       "      <td>61.0</td>\n",
       "      <td>94.800003</td>\n",
       "      <td>97.900002</td>\n",
       "      <td>176.100006</td>\n",
       "      <td>179.399994</td>\n",
       "      <td>8387933.0</td>\n",
       "      <td>8664479.0</td>\n",
       "      <td>0.0</td>\n",
       "      <td>9.504252e+05</td>\n",
       "      <td>3242851.0</td>\n",
       "      <td>51450.81641</td>\n",
       "      <td>5145082.0</td>\n",
       "      <td>False</td>\n",
       "      <td>NaN</td>\n",
       "      <td>Compliant</td>\n",
       "      <td>NaN</td>\n",
       "      <td>295.86</td>\n",
       "      <td>2.86</td>\n",
       "    </tr>\n",
       "  </tbody>\n",
       "</table>\n",
       "</div>"
      ],
      "text/plain": [
       "   OSEBuildingID  DataYear    BuildingType PrimaryPropertyType  ZipCode  \\\n",
       "0              1      2016  NonResidential               Hotel  98101.0   \n",
       "1              2      2016  NonResidential               Hotel  98101.0   \n",
       "\n",
       "  TaxParcelIdentificationNumber  CouncilDistrictCode Neighborhood  Latitude  \\\n",
       "0                    0659000030                    7     DOWNTOWN  47.61220   \n",
       "1                    0659000220                    7     DOWNTOWN  47.61317   \n",
       "\n",
       "   Longitude  YearBuilt  NumberofBuildings  NumberofFloors  PropertyGFATotal  \\\n",
       "0 -122.33799       1927                1.0              12             88434   \n",
       "1 -122.33393       1996                1.0              11            103566   \n",
       "\n",
       "   PropertyGFAParking  PropertyGFABuilding(s)   ListOfAllPropertyUseTypes  \\\n",
       "0                   0                   88434                       Hotel   \n",
       "1               15064                   88502  Hotel, Parking, Restaurant   \n",
       "\n",
       "  LargestPropertyUseType  LargestPropertyUseTypeGFA  \\\n",
       "0                  Hotel                    88434.0   \n",
       "1                  Hotel                    83880.0   \n",
       "\n",
       "  SecondLargestPropertyUseType  SecondLargestPropertyUseTypeGFA  \\\n",
       "0                          NaN                              NaN   \n",
       "1                      Parking                          15064.0   \n",
       "\n",
       "  ThirdLargestPropertyUseType  ThirdLargestPropertyUseTypeGFA  \\\n",
       "0                         NaN                             NaN   \n",
       "1                  Restaurant                          4622.0   \n",
       "\n",
       "  YearsENERGYSTARCertified  ENERGYSTARScore  SiteEUI(kBtu/sf)  \\\n",
       "0                      NaN             60.0         81.699997   \n",
       "1                      NaN             61.0         94.800003   \n",
       "\n",
       "   SiteEUIWN(kBtu/sf)  SourceEUI(kBtu/sf)  SourceEUIWN(kBtu/sf)  \\\n",
       "0           84.300003          182.500000            189.000000   \n",
       "1           97.900002          176.100006            179.399994   \n",
       "\n",
       "   SiteEnergyUse(kBtu)  SiteEnergyUseWN(kBtu)  SteamUse(kBtu)  \\\n",
       "0            7226362.5              7456910.0       2003882.0   \n",
       "1            8387933.0              8664479.0             0.0   \n",
       "\n",
       "   Electricity(kWh)  Electricity(kBtu)  NaturalGas(therms)  NaturalGas(kBtu)  \\\n",
       "0      1.156514e+06          3946027.0         12764.52930         1276453.0   \n",
       "1      9.504252e+05          3242851.0         51450.81641         5145082.0   \n",
       "\n",
       "   DefaultData  Comments ComplianceStatus Outlier  TotalGHGEmissions  \\\n",
       "0        False       NaN        Compliant     NaN             249.98   \n",
       "1        False       NaN        Compliant     NaN             295.86   \n",
       "\n",
       "   GHGEmissionsIntensity  \n",
       "0                   2.83  \n",
       "1                   2.86  "
      ]
     },
     "execution_count": 125,
     "metadata": {},
     "output_type": "execute_result"
    }
   ],
   "source": [
    "df2_new.head(2)"
   ]
  },
  {
   "cell_type": "code",
   "execution_count": 127,
   "id": "b7feb8a4",
   "metadata": {},
   "outputs": [
    {
     "data": {
      "text/html": [
       "<div>\n",
       "<style scoped>\n",
       "    .dataframe tbody tr th:only-of-type {\n",
       "        vertical-align: middle;\n",
       "    }\n",
       "\n",
       "    .dataframe tbody tr th {\n",
       "        vertical-align: top;\n",
       "    }\n",
       "\n",
       "    .dataframe thead th {\n",
       "        text-align: right;\n",
       "    }\n",
       "</style>\n",
       "<table border=\"1\" class=\"dataframe\">\n",
       "  <thead>\n",
       "    <tr style=\"text-align: right;\">\n",
       "      <th></th>\n",
       "      <th>OSEBuildingID</th>\n",
       "      <th>DataYear</th>\n",
       "      <th>BuildingType</th>\n",
       "      <th>PrimaryPropertyType</th>\n",
       "      <th>TaxParcelIdentificationNumber</th>\n",
       "      <th>CouncilDistrictCode</th>\n",
       "      <th>Neighborhood</th>\n",
       "      <th>YearBuilt</th>\n",
       "      <th>NumberofBuildings</th>\n",
       "      <th>NumberofFloors</th>\n",
       "      <th>PropertyGFATotal</th>\n",
       "      <th>PropertyGFAParking</th>\n",
       "      <th>PropertyGFABuilding(s)</th>\n",
       "      <th>ListOfAllPropertyUseTypes</th>\n",
       "      <th>LargestPropertyUseType</th>\n",
       "      <th>LargestPropertyUseTypeGFA</th>\n",
       "      <th>SecondLargestPropertyUseType</th>\n",
       "      <th>SecondLargestPropertyUseTypeGFA</th>\n",
       "      <th>ThirdLargestPropertyUseType</th>\n",
       "      <th>ThirdLargestPropertyUseTypeGFA</th>\n",
       "      <th>YearsENERGYSTARCertified</th>\n",
       "      <th>ENERGYSTARScore</th>\n",
       "      <th>SiteEUI(kBtu/sf)</th>\n",
       "      <th>SiteEUIWN(kBtu/sf)</th>\n",
       "      <th>SourceEUI(kBtu/sf)</th>\n",
       "      <th>SourceEUIWN(kBtu/sf)</th>\n",
       "      <th>SiteEnergyUse(kBtu)</th>\n",
       "      <th>SiteEnergyUseWN(kBtu)</th>\n",
       "      <th>SteamUse(kBtu)</th>\n",
       "      <th>Electricity(kWh)</th>\n",
       "      <th>Electricity(kBtu)</th>\n",
       "      <th>NaturalGas(therms)</th>\n",
       "      <th>NaturalGas(kBtu)</th>\n",
       "      <th>OtherFuelUse(kBtu)</th>\n",
       "      <th>GHGEmissions(MetricTonsCO2e)</th>\n",
       "      <th>GHGEmissionsIntensity(kgCO2e/ft2)</th>\n",
       "      <th>DefaultData</th>\n",
       "      <th>Comments</th>\n",
       "      <th>ComplianceStatus</th>\n",
       "      <th>Outlier</th>\n",
       "      <th>SPD Beats</th>\n",
       "      <th>ZipCode</th>\n",
       "      <th>OSEBuildingID</th>\n",
       "      <th>Latitude</th>\n",
       "      <th>Longitude</th>\n",
       "    </tr>\n",
       "  </thead>\n",
       "  <tbody>\n",
       "    <tr>\n",
       "      <th>0</th>\n",
       "      <td>1</td>\n",
       "      <td>2015</td>\n",
       "      <td>NonResidential</td>\n",
       "      <td>Hotel</td>\n",
       "      <td>659000030</td>\n",
       "      <td>7</td>\n",
       "      <td>DOWNTOWN</td>\n",
       "      <td>1927</td>\n",
       "      <td>1</td>\n",
       "      <td>12.0</td>\n",
       "      <td>88434</td>\n",
       "      <td>0</td>\n",
       "      <td>88434</td>\n",
       "      <td>Hotel</td>\n",
       "      <td>Hotel</td>\n",
       "      <td>88434.0</td>\n",
       "      <td>NaN</td>\n",
       "      <td>NaN</td>\n",
       "      <td>NaN</td>\n",
       "      <td>NaN</td>\n",
       "      <td>NaN</td>\n",
       "      <td>65.0</td>\n",
       "      <td>78.9</td>\n",
       "      <td>80.3</td>\n",
       "      <td>173.5</td>\n",
       "      <td>175.1</td>\n",
       "      <td>6981428.0</td>\n",
       "      <td>7097539.0</td>\n",
       "      <td>2023032.0</td>\n",
       "      <td>1080307.0</td>\n",
       "      <td>3686160.0</td>\n",
       "      <td>12724.0</td>\n",
       "      <td>1272388.0</td>\n",
       "      <td>0.0</td>\n",
       "      <td>249.43</td>\n",
       "      <td>2.64</td>\n",
       "      <td>No</td>\n",
       "      <td>NaN</td>\n",
       "      <td>Compliant</td>\n",
       "      <td>NaN</td>\n",
       "      <td>31.0</td>\n",
       "      <td>18081</td>\n",
       "      <td>1</td>\n",
       "      <td>47.61219025</td>\n",
       "      <td>-122.33799744</td>\n",
       "    </tr>\n",
       "    <tr>\n",
       "      <th>1</th>\n",
       "      <td>2</td>\n",
       "      <td>2015</td>\n",
       "      <td>NonResidential</td>\n",
       "      <td>Hotel</td>\n",
       "      <td>659000220</td>\n",
       "      <td>7</td>\n",
       "      <td>DOWNTOWN</td>\n",
       "      <td>1996</td>\n",
       "      <td>1</td>\n",
       "      <td>11.0</td>\n",
       "      <td>103566</td>\n",
       "      <td>15064</td>\n",
       "      <td>88502</td>\n",
       "      <td>Hotel, Parking, Restaurant</td>\n",
       "      <td>Hotel</td>\n",
       "      <td>83880.0</td>\n",
       "      <td>Parking</td>\n",
       "      <td>15064.0</td>\n",
       "      <td>Restaurant</td>\n",
       "      <td>4622.0</td>\n",
       "      <td>NaN</td>\n",
       "      <td>51.0</td>\n",
       "      <td>94.4</td>\n",
       "      <td>99.0</td>\n",
       "      <td>191.3</td>\n",
       "      <td>195.2</td>\n",
       "      <td>8354235.0</td>\n",
       "      <td>8765788.0</td>\n",
       "      <td>0.0</td>\n",
       "      <td>1144563.0</td>\n",
       "      <td>3905411.0</td>\n",
       "      <td>44490.0</td>\n",
       "      <td>4448985.0</td>\n",
       "      <td>0.0</td>\n",
       "      <td>263.51</td>\n",
       "      <td>2.38</td>\n",
       "      <td>No</td>\n",
       "      <td>NaN</td>\n",
       "      <td>Compliant</td>\n",
       "      <td>NaN</td>\n",
       "      <td>31.0</td>\n",
       "      <td>18081</td>\n",
       "      <td>2</td>\n",
       "      <td>47.61310583</td>\n",
       "      <td>-122.33335756</td>\n",
       "    </tr>\n",
       "  </tbody>\n",
       "</table>\n",
       "</div>"
      ],
      "text/plain": [
       "   OSEBuildingID  DataYear    BuildingType PrimaryPropertyType  \\\n",
       "0              1      2015  NonResidential               Hotel   \n",
       "1              2      2015  NonResidential               Hotel   \n",
       "\n",
       "  TaxParcelIdentificationNumber  CouncilDistrictCode Neighborhood  YearBuilt  \\\n",
       "0                     659000030                    7     DOWNTOWN       1927   \n",
       "1                     659000220                    7     DOWNTOWN       1996   \n",
       "\n",
       "   NumberofBuildings  NumberofFloors  PropertyGFATotal  PropertyGFAParking  \\\n",
       "0                  1            12.0             88434                   0   \n",
       "1                  1            11.0            103566               15064   \n",
       "\n",
       "   PropertyGFABuilding(s)   ListOfAllPropertyUseTypes LargestPropertyUseType  \\\n",
       "0                   88434                       Hotel                  Hotel   \n",
       "1                   88502  Hotel, Parking, Restaurant                  Hotel   \n",
       "\n",
       "   LargestPropertyUseTypeGFA SecondLargestPropertyUseType  \\\n",
       "0                    88434.0                          NaN   \n",
       "1                    83880.0                      Parking   \n",
       "\n",
       "   SecondLargestPropertyUseTypeGFA ThirdLargestPropertyUseType  \\\n",
       "0                              NaN                         NaN   \n",
       "1                          15064.0                  Restaurant   \n",
       "\n",
       "   ThirdLargestPropertyUseTypeGFA YearsENERGYSTARCertified  ENERGYSTARScore  \\\n",
       "0                             NaN                      NaN             65.0   \n",
       "1                          4622.0                      NaN             51.0   \n",
       "\n",
       "   SiteEUI(kBtu/sf)  SiteEUIWN(kBtu/sf)  SourceEUI(kBtu/sf)  \\\n",
       "0              78.9                80.3               173.5   \n",
       "1              94.4                99.0               191.3   \n",
       "\n",
       "   SourceEUIWN(kBtu/sf)  SiteEnergyUse(kBtu)  SiteEnergyUseWN(kBtu)  \\\n",
       "0                 175.1            6981428.0              7097539.0   \n",
       "1                 195.2            8354235.0              8765788.0   \n",
       "\n",
       "   SteamUse(kBtu)  Electricity(kWh)  Electricity(kBtu)  NaturalGas(therms)  \\\n",
       "0       2023032.0         1080307.0          3686160.0             12724.0   \n",
       "1             0.0         1144563.0          3905411.0             44490.0   \n",
       "\n",
       "   NaturalGas(kBtu)  OtherFuelUse(kBtu)  GHGEmissions(MetricTonsCO2e)  \\\n",
       "0         1272388.0                 0.0                        249.43   \n",
       "1         4448985.0                 0.0                        263.51   \n",
       "\n",
       "   GHGEmissionsIntensity(kgCO2e/ft2) DefaultData Comments ComplianceStatus  \\\n",
       "0                               2.64          No      NaN        Compliant   \n",
       "1                               2.38          No      NaN        Compliant   \n",
       "\n",
       "  Outlier  SPD Beats  ZipCode  OSEBuildingID     Latitude      Longitude  \n",
       "0     NaN       31.0    18081              1  47.61219025  -122.33799744  \n",
       "1     NaN       31.0    18081              2  47.61310583  -122.33335756  "
      ]
     },
     "execution_count": 127,
     "metadata": {},
     "output_type": "execute_result"
    }
   ],
   "source": [
    "df1_new.head(2)"
   ]
  },
  {
   "cell_type": "code",
   "execution_count": 128,
   "id": "88ee356f",
   "metadata": {},
   "outputs": [
    {
     "data": {
      "text/plain": [
       "(1610, 45)"
      ]
     },
     "execution_count": 128,
     "metadata": {},
     "output_type": "execute_result"
    }
   ],
   "source": [
    "df1_new.shape"
   ]
  },
  {
   "cell_type": "code",
   "execution_count": 129,
   "id": "cf627b32",
   "metadata": {},
   "outputs": [
    {
     "data": {
      "text/plain": [
       "(1664, 42)"
      ]
     },
     "execution_count": 129,
     "metadata": {},
     "output_type": "execute_result"
    }
   ],
   "source": [
    "df2_new.shape"
   ]
  },
  {
   "cell_type": "markdown",
   "id": "63436c01",
   "metadata": {},
   "source": [
    "Let's have a look what columns are still different in both dataframes:"
   ]
  },
  {
   "cell_type": "code",
   "execution_count": 131,
   "id": "a5f469f4",
   "metadata": {},
   "outputs": [],
   "source": [
    "df1N_not_in_df2N = []\n",
    "for i in range(0, 45):\n",
    "    if df1_new.columns[i] not in df2_new.columns:\n",
    "        df1N_not_in_df2N.append(df1_new.columns[i])"
   ]
  },
  {
   "cell_type": "code",
   "execution_count": 132,
   "id": "482a882d",
   "metadata": {},
   "outputs": [],
   "source": [
    "df2N_not_in_df1N = []\n",
    "for i in range(0, 42):\n",
    "    if df2_new.columns[i] not in df1_new.columns:\n",
    "        df2N_not_in_df1N.append(df2_new.columns[i])"
   ]
  },
  {
   "cell_type": "code",
   "execution_count": 133,
   "id": "9fad83c4",
   "metadata": {},
   "outputs": [
    {
     "data": {
      "text/plain": [
       "['OtherFuelUse(kBtu)',\n",
       " 'GHGEmissions(MetricTonsCO2e)',\n",
       " 'GHGEmissionsIntensity(kgCO2e/ft2)',\n",
       " 'SPD Beats']"
      ]
     },
     "execution_count": 133,
     "metadata": {},
     "output_type": "execute_result"
    }
   ],
   "source": [
    "df1N_not_in_df2N"
   ]
  },
  {
   "cell_type": "code",
   "execution_count": 134,
   "id": "8e27dda0",
   "metadata": {},
   "outputs": [
    {
     "data": {
      "text/plain": [
       "['TotalGHGEmissions', 'GHGEmissionsIntensity']"
      ]
     },
     "execution_count": 134,
     "metadata": {},
     "output_type": "execute_result"
    }
   ],
   "source": [
    "df2N_not_in_df1N"
   ]
  },
  {
   "cell_type": "markdown",
   "id": "48880a0b",
   "metadata": {},
   "source": [
    "It seems that columns 'TotalGHGEmissions' and 'GHGEmissionsIntensity' in 2016 are equal to columns 'GHGEmissions(MetricTonsCO2e)' and 'GHGEmissionsIntensity(kgCO2e/ft2)' in 2015. I check my suggestion by describing the main statistical information:"
   ]
  },
  {
   "cell_type": "code",
   "execution_count": 138,
   "id": "4f96dade",
   "metadata": {},
   "outputs": [
    {
     "data": {
      "text/plain": [
       "count     1603.000000\n",
       "mean       172.235546\n",
       "std        573.399972\n",
       "min          0.000000\n",
       "25%         19.755000\n",
       "50%         49.260000\n",
       "75%        139.290000\n",
       "max      11824.890000\n",
       "Name: GHGEmissions(MetricTonsCO2e), dtype: float64"
      ]
     },
     "execution_count": 138,
     "metadata": {},
     "output_type": "execute_result"
    }
   ],
   "source": [
    "df1_new['GHGEmissions(MetricTonsCO2e)'].describe()"
   ]
  },
  {
   "cell_type": "code",
   "execution_count": 139,
   "id": "36bbe131",
   "metadata": {},
   "outputs": [
    {
     "data": {
      "text/plain": [
       "count     1662.000000\n",
       "mean       185.328556\n",
       "std        752.843529\n",
       "min         -0.800000\n",
       "25%         20.082500\n",
       "50%         49.600000\n",
       "75%        143.102500\n",
       "max      16870.980000\n",
       "Name: TotalGHGEmissions, dtype: float64"
      ]
     },
     "execution_count": 139,
     "metadata": {},
     "output_type": "execute_result"
    }
   ],
   "source": [
    "df2_new['TotalGHGEmissions'].describe()"
   ]
  },
  {
   "cell_type": "code",
   "execution_count": 140,
   "id": "a9735950",
   "metadata": {},
   "outputs": [
    {
     "data": {
      "text/plain": [
       "count    1603.000000\n",
       "mean        1.362246\n",
       "std         2.094475\n",
       "min         0.000000\n",
       "25%         0.170000\n",
       "50%         0.670000\n",
       "75%         1.625000\n",
       "max        31.380000\n",
       "Name: GHGEmissionsIntensity(kgCO2e/ft2), dtype: float64"
      ]
     },
     "execution_count": 140,
     "metadata": {},
     "output_type": "execute_result"
    }
   ],
   "source": [
    "df1_new['GHGEmissionsIntensity(kgCO2e/ft2)'].describe()"
   ]
  },
  {
   "cell_type": "code",
   "execution_count": 141,
   "id": "fff6f9c1",
   "metadata": {},
   "outputs": [
    {
     "data": {
      "text/plain": [
       "count    1662.000000\n",
       "mean        1.608676\n",
       "std         2.338872\n",
       "min        -0.020000\n",
       "25%         0.350000\n",
       "50%         0.880000\n",
       "75%         1.890000\n",
       "max        34.090000\n",
       "Name: GHGEmissionsIntensity, dtype: float64"
      ]
     },
     "execution_count": 141,
     "metadata": {},
     "output_type": "execute_result"
    }
   ],
   "source": [
    "df2_new['GHGEmissionsIntensity'].describe()"
   ]
  },
  {
   "cell_type": "markdown",
   "id": "213e3569",
   "metadata": {},
   "source": [
    "As theI rename columns in 2015 database (df1_new): 'OtherFuelUse(kBtu)' and 'SPD Beats':"
   ]
  },
  {
   "cell_type": "code",
   "execution_count": 144,
   "id": "56459877",
   "metadata": {},
   "outputs": [],
   "source": [
    "df1_new.drop(['SPD Beats','OtherFuelUse(kBtu)'], axis=1, inplace=True)"
   ]
  },
  {
   "cell_type": "code",
   "execution_count": 150,
   "id": "f4ec0d0f",
   "metadata": {},
   "outputs": [
    {
     "data": {
      "text/plain": [
       "(1610, 43)"
      ]
     },
     "execution_count": 150,
     "metadata": {},
     "output_type": "execute_result"
    }
   ],
   "source": [
    "df1_new.shape"
   ]
  },
  {
   "cell_type": "code",
   "execution_count": 165,
   "id": "6d2ab5f3",
   "metadata": {},
   "outputs": [
    {
     "data": {
      "text/plain": [
       "Index(['OSEBuildingID', 'DataYear', 'BuildingType', 'PrimaryPropertyType',\n",
       "       'TaxParcelIdentificationNumber', 'CouncilDistrictCode', 'Neighborhood',\n",
       "       'YearBuilt', 'NumberofBuildings', 'NumberofFloors', 'PropertyGFATotal',\n",
       "       'PropertyGFAParking', 'PropertyGFABuilding(s)',\n",
       "       'ListOfAllPropertyUseTypes', 'LargestPropertyUseType',\n",
       "       'LargestPropertyUseTypeGFA', 'SecondLargestPropertyUseType',\n",
       "       'SecondLargestPropertyUseTypeGFA', 'ThirdLargestPropertyUseType',\n",
       "       'ThirdLargestPropertyUseTypeGFA', 'YearsENERGYSTARCertified',\n",
       "       'ENERGYSTARScore', 'SiteEUI(kBtu/sf)', 'SiteEUIWN(kBtu/sf)',\n",
       "       'SourceEUI(kBtu/sf)', 'SourceEUIWN(kBtu/sf)', 'SiteEnergyUse(kBtu)',\n",
       "       'SiteEnergyUseWN(kBtu)', 'SteamUse(kBtu)', 'Electricity(kWh)',\n",
       "       'Electricity(kBtu)', 'NaturalGas(therms)', 'NaturalGas(kBtu)',\n",
       "       'TotalGHGEmissions', 'GHGEmissionsIntensity', 'DefaultData', 'Comments',\n",
       "       'ComplianceStatus', 'Outlier', 'ZipCode', 'OSEBuildingID', 'Latitude',\n",
       "       'Longitude'],\n",
       "      dtype='object')"
      ]
     },
     "execution_count": 165,
     "metadata": {},
     "output_type": "execute_result"
    }
   ],
   "source": [
    "df1_new.columns"
   ]
  },
  {
   "cell_type": "code",
   "execution_count": 167,
   "id": "58b3debb",
   "metadata": {},
   "outputs": [],
   "source": [
    "df1_new = df1_new.loc[:,~df1_new.columns.duplicated()]"
   ]
  },
  {
   "cell_type": "code",
   "execution_count": 168,
   "id": "643ad460",
   "metadata": {},
   "outputs": [
    {
     "data": {
      "text/plain": [
       "(1610, 42)"
      ]
     },
     "execution_count": 168,
     "metadata": {},
     "output_type": "execute_result"
    }
   ],
   "source": [
    "df1_new.shape"
   ]
  },
  {
   "cell_type": "code",
   "execution_count": 151,
   "id": "a8e376aa",
   "metadata": {},
   "outputs": [
    {
     "data": {
      "text/plain": [
       "(1664, 42)"
      ]
     },
     "execution_count": 151,
     "metadata": {},
     "output_type": "execute_result"
    }
   ],
   "source": [
    "df2_new.shape"
   ]
  },
  {
   "cell_type": "code",
   "execution_count": 142,
   "id": "56a81c17",
   "metadata": {},
   "outputs": [],
   "source": [
    "df1_new.rename(columns={'GHGEmissionsIntensity(kgCO2e/ft2)': 'GHGEmissionsIntensity', 'GHGEmissions(MetricTonsCO2e)': 'TotalGHGEmissions'}, inplace=True)"
   ]
  },
  {
   "cell_type": "markdown",
   "id": "6b990ef0",
   "metadata": {},
   "source": [
    "I concatenate two databases:"
   ]
  },
  {
   "cell_type": "code",
   "execution_count": 527,
   "id": "2f5c5a3b",
   "metadata": {},
   "outputs": [],
   "source": [
    "df = pd.concat([df1_new, df2_new], ignore_index=True)"
   ]
  },
  {
   "cell_type": "code",
   "execution_count": 650,
   "id": "36c83aa6",
   "metadata": {},
   "outputs": [],
   "source": [
    "df = df.to_csv('df')"
   ]
  },
  {
   "cell_type": "code",
   "execution_count": 528,
   "id": "52c39431",
   "metadata": {},
   "outputs": [
    {
     "data": {
      "text/plain": [
       "(3274, 42)"
      ]
     },
     "execution_count": 528,
     "metadata": {},
     "output_type": "execute_result"
    }
   ],
   "source": [
    "df.shape"
   ]
  },
  {
   "cell_type": "code",
   "execution_count": 529,
   "id": "a3774850",
   "metadata": {},
   "outputs": [
    {
     "data": {
      "text/plain": [
       "Index(['OSEBuildingID', 'DataYear', 'BuildingType', 'PrimaryPropertyType',\n",
       "       'TaxParcelIdentificationNumber', 'CouncilDistrictCode', 'Neighborhood',\n",
       "       'YearBuilt', 'NumberofBuildings', 'NumberofFloors', 'PropertyGFATotal',\n",
       "       'PropertyGFAParking', 'PropertyGFABuilding(s)',\n",
       "       'ListOfAllPropertyUseTypes', 'LargestPropertyUseType',\n",
       "       'LargestPropertyUseTypeGFA', 'SecondLargestPropertyUseType',\n",
       "       'SecondLargestPropertyUseTypeGFA', 'ThirdLargestPropertyUseType',\n",
       "       'ThirdLargestPropertyUseTypeGFA', 'YearsENERGYSTARCertified',\n",
       "       'ENERGYSTARScore', 'SiteEUI(kBtu/sf)', 'SiteEUIWN(kBtu/sf)',\n",
       "       'SourceEUI(kBtu/sf)', 'SourceEUIWN(kBtu/sf)', 'SiteEnergyUse(kBtu)',\n",
       "       'SiteEnergyUseWN(kBtu)', 'SteamUse(kBtu)', 'Electricity(kWh)',\n",
       "       'Electricity(kBtu)', 'NaturalGas(therms)', 'NaturalGas(kBtu)',\n",
       "       'TotalGHGEmissions', 'GHGEmissionsIntensity', 'DefaultData', 'Comments',\n",
       "       'ComplianceStatus', 'Outlier', 'ZipCode', 'Latitude', 'Longitude'],\n",
       "      dtype='object')"
      ]
     },
     "execution_count": 529,
     "metadata": {},
     "output_type": "execute_result"
    }
   ],
   "source": [
    "df.columns"
   ]
  },
  {
   "cell_type": "markdown",
   "id": "8fde8804",
   "metadata": {},
   "source": [
    "I delete columns with additional and excessie information that can lead to data leakage:\n",
    "'OSEBuildingID', TaxParcelIdentificationNumber', 'CouncilDistrictCode', 'PropertyGFAParking', 'PropertyGFABuilding(s)',\n",
    "       'ListOfAllPropertyUseTypes', 'SecondLargestPropertyUseType',\n",
    "       'SecondLargestPropertyUseTypeGFA', 'ThirdLargestPropertyUseType',\n",
    "       'ThirdLargestPropertyUseTypeGFA', 'YearsENERGYSTARCertified','SiteEUI(kBtu/sf)', 'SiteEUIWN(kBtu/sf)',\n",
    "       'SourceEUI(kBtu/sf)', 'SourceEUIWN(kBtu/sf)', \n",
    "       'SiteEnergyUseWN(kBtu)', 'SteamUse(kBtu)', Electricity(kWh)',\n",
    "       'Electricity(kBtu)', 'NaturalGas(therms)', 'NaturalGas(kBtu)', 'GHGEmissionsIntensity', 'DefaultData', 'Comments',\n",
    "       'ComplianceStatus', 'Outlier', 'ZipCode',"
   ]
  },
  {
   "cell_type": "code",
   "execution_count": 530,
   "id": "22b855c9",
   "metadata": {},
   "outputs": [],
   "source": [
    "df.drop(['OSEBuildingID', 'TaxParcelIdentificationNumber', 'CouncilDistrictCode', 'PropertyGFAParking', 'PropertyGFABuilding(s)',\n",
    "       'ListOfAllPropertyUseTypes', 'SecondLargestPropertyUseType',\n",
    "       'SecondLargestPropertyUseTypeGFA', 'ThirdLargestPropertyUseType',\n",
    "       'ThirdLargestPropertyUseTypeGFA', 'YearsENERGYSTARCertified','SiteEUI(kBtu/sf)', 'SiteEUIWN(kBtu/sf)',\n",
    "       'SourceEUI(kBtu/sf)', 'SourceEUIWN(kBtu/sf)', \n",
    "       'SiteEnergyUseWN(kBtu)', 'SteamUse(kBtu)', 'Electricity(kWh)',\n",
    "       'Electricity(kBtu)', 'NaturalGas(therms)', 'NaturalGas(kBtu)', 'GHGEmissionsIntensity', 'DefaultData', 'Comments',\n",
    "       'ComplianceStatus', 'Outlier', 'ZipCode'], axis=1, inplace=True)"
   ]
  },
  {
   "cell_type": "code",
   "execution_count": 531,
   "id": "fa002627",
   "metadata": {},
   "outputs": [
    {
     "data": {
      "text/plain": [
       "(3274, 15)"
      ]
     },
     "execution_count": 531,
     "metadata": {},
     "output_type": "execute_result"
    }
   ],
   "source": [
    "df.shape"
   ]
  },
  {
   "cell_type": "code",
   "execution_count": 532,
   "id": "1f643377",
   "metadata": {},
   "outputs": [
    {
     "data": {
      "text/plain": [
       "Index(['DataYear', 'BuildingType', 'PrimaryPropertyType', 'Neighborhood',\n",
       "       'YearBuilt', 'NumberofBuildings', 'NumberofFloors', 'PropertyGFATotal',\n",
       "       'LargestPropertyUseType', 'LargestPropertyUseTypeGFA',\n",
       "       'ENERGYSTARScore', 'SiteEnergyUse(kBtu)', 'TotalGHGEmissions',\n",
       "       'Latitude', 'Longitude'],\n",
       "      dtype='object')"
      ]
     },
     "execution_count": 532,
     "metadata": {},
     "output_type": "execute_result"
    }
   ],
   "source": [
    "df.columns"
   ]
  },
  {
   "cell_type": "markdown",
   "id": "e58faa41",
   "metadata": {},
   "source": [
    "### Analysis of null and aberrant values"
   ]
  },
  {
   "cell_type": "markdown",
   "id": "6e855d73",
   "metadata": {},
   "source": [
    "First, I check the % of NaN values"
   ]
  },
  {
   "cell_type": "code",
   "execution_count": 533,
   "id": "855a28a1",
   "metadata": {},
   "outputs": [],
   "source": [
    "name = []\n",
    "percentage = []\n",
    "\n",
    "for i in range(0, 15):\n",
    "    name.append(df.columns[i])\n",
    "    percentage.append(df.iloc[:, i].isna().sum()/len(df.iloc[:, i])*100)         "
   ]
  },
  {
   "cell_type": "code",
   "execution_count": 534,
   "id": "0a5fbe97",
   "metadata": {},
   "outputs": [],
   "source": [
    "nan_stat = pd.DataFrame(list(zip(name, percentage)), columns = ['Name', 'Percentage'])"
   ]
  },
  {
   "cell_type": "code",
   "execution_count": 535,
   "id": "5dcba11f",
   "metadata": {},
   "outputs": [
    {
     "data": {
      "text/html": [
       "<div>\n",
       "<style scoped>\n",
       "    .dataframe tbody tr th:only-of-type {\n",
       "        vertical-align: middle;\n",
       "    }\n",
       "\n",
       "    .dataframe tbody tr th {\n",
       "        vertical-align: top;\n",
       "    }\n",
       "\n",
       "    .dataframe thead th {\n",
       "        text-align: right;\n",
       "    }\n",
       "</style>\n",
       "<table border=\"1\" class=\"dataframe\">\n",
       "  <thead>\n",
       "    <tr style=\"text-align: right;\">\n",
       "      <th></th>\n",
       "      <th>Name</th>\n",
       "      <th>Percentage</th>\n",
       "    </tr>\n",
       "  </thead>\n",
       "  <tbody>\n",
       "    <tr>\n",
       "      <th>0</th>\n",
       "      <td>DataYear</td>\n",
       "      <td>0.000000</td>\n",
       "    </tr>\n",
       "    <tr>\n",
       "      <th>1</th>\n",
       "      <td>BuildingType</td>\n",
       "      <td>0.000000</td>\n",
       "    </tr>\n",
       "    <tr>\n",
       "      <th>2</th>\n",
       "      <td>PrimaryPropertyType</td>\n",
       "      <td>0.000000</td>\n",
       "    </tr>\n",
       "    <tr>\n",
       "      <th>3</th>\n",
       "      <td>Neighborhood</td>\n",
       "      <td>0.000000</td>\n",
       "    </tr>\n",
       "    <tr>\n",
       "      <th>4</th>\n",
       "      <td>YearBuilt</td>\n",
       "      <td>0.000000</td>\n",
       "    </tr>\n",
       "    <tr>\n",
       "      <th>5</th>\n",
       "      <td>NumberofBuildings</td>\n",
       "      <td>0.061087</td>\n",
       "    </tr>\n",
       "    <tr>\n",
       "      <th>6</th>\n",
       "      <td>NumberofFloors</td>\n",
       "      <td>0.244349</td>\n",
       "    </tr>\n",
       "    <tr>\n",
       "      <th>7</th>\n",
       "      <td>PropertyGFATotal</td>\n",
       "      <td>0.000000</td>\n",
       "    </tr>\n",
       "    <tr>\n",
       "      <th>8</th>\n",
       "      <td>LargestPropertyUseType</td>\n",
       "      <td>2.138057</td>\n",
       "    </tr>\n",
       "    <tr>\n",
       "      <th>9</th>\n",
       "      <td>LargestPropertyUseTypeGFA</td>\n",
       "      <td>2.138057</td>\n",
       "    </tr>\n",
       "    <tr>\n",
       "      <th>10</th>\n",
       "      <td>ENERGYSTARScore</td>\n",
       "      <td>33.414783</td>\n",
       "    </tr>\n",
       "    <tr>\n",
       "      <th>11</th>\n",
       "      <td>SiteEnergyUse(kBtu)</td>\n",
       "      <td>0.274893</td>\n",
       "    </tr>\n",
       "    <tr>\n",
       "      <th>12</th>\n",
       "      <td>TotalGHGEmissions</td>\n",
       "      <td>0.274893</td>\n",
       "    </tr>\n",
       "    <tr>\n",
       "      <th>13</th>\n",
       "      <td>Latitude</td>\n",
       "      <td>0.000000</td>\n",
       "    </tr>\n",
       "    <tr>\n",
       "      <th>14</th>\n",
       "      <td>Longitude</td>\n",
       "      <td>0.000000</td>\n",
       "    </tr>\n",
       "  </tbody>\n",
       "</table>\n",
       "</div>"
      ],
      "text/plain": [
       "                         Name  Percentage\n",
       "0                    DataYear    0.000000\n",
       "1                BuildingType    0.000000\n",
       "2         PrimaryPropertyType    0.000000\n",
       "3                Neighborhood    0.000000\n",
       "4                   YearBuilt    0.000000\n",
       "5           NumberofBuildings    0.061087\n",
       "6              NumberofFloors    0.244349\n",
       "7            PropertyGFATotal    0.000000\n",
       "8      LargestPropertyUseType    2.138057\n",
       "9   LargestPropertyUseTypeGFA    2.138057\n",
       "10            ENERGYSTARScore   33.414783\n",
       "11        SiteEnergyUse(kBtu)    0.274893\n",
       "12          TotalGHGEmissions    0.274893\n",
       "13                   Latitude    0.000000\n",
       "14                  Longitude    0.000000"
      ]
     },
     "execution_count": 535,
     "metadata": {},
     "output_type": "execute_result"
    }
   ],
   "source": [
    "nan_stat"
   ]
  },
  {
   "cell_type": "markdown",
   "id": "235f9645",
   "metadata": {},
   "source": [
    "Since PrimaryPropertyType and LargestPropertyUseType are very similar, I drop the last one together with LargestPropertyUseTypeGFA because they have more NaN values."
   ]
  },
  {
   "cell_type": "code",
   "execution_count": 536,
   "id": "bf34174c",
   "metadata": {},
   "outputs": [],
   "source": [
    "df = df.drop(['LargestPropertyUseTypeGFA', 'LargestPropertyUseType'], axis=1)"
   ]
  },
  {
   "cell_type": "markdown",
   "id": "a7b56c35",
   "metadata": {},
   "source": [
    "It is important to keep NaN in ENERGYSTARScore to keep database large enough to check how this feature can predict energy use. But we can replace other NaN or null values in other numerical columns  with mode:"
   ]
  },
  {
   "cell_type": "code",
   "execution_count": 537,
   "id": "2b367403",
   "metadata": {},
   "outputs": [
    {
     "data": {
      "text/plain": [
       "Index(['DataYear', 'BuildingType', 'PrimaryPropertyType', 'Neighborhood',\n",
       "       'YearBuilt', 'NumberofBuildings', 'NumberofFloors', 'PropertyGFATotal',\n",
       "       'ENERGYSTARScore', 'SiteEnergyUse(kBtu)', 'TotalGHGEmissions',\n",
       "       'Latitude', 'Longitude'],\n",
       "      dtype='object')"
      ]
     },
     "execution_count": 537,
     "metadata": {},
     "output_type": "execute_result"
    }
   ],
   "source": [
    "df.columns"
   ]
  },
  {
   "cell_type": "code",
   "execution_count": 538,
   "id": "10c52e47",
   "metadata": {},
   "outputs": [],
   "source": [
    "df1 = df[['NumberofBuildings', 'NumberofFloors']].fillna(df[['NumberofBuildings', 'NumberofFloors']].mode().iloc[0])"
   ]
  },
  {
   "cell_type": "code",
   "execution_count": 539,
   "id": "d171f0ed",
   "metadata": {},
   "outputs": [],
   "source": [
    "df = df.drop(['NumberofBuildings', 'NumberofFloors'], axis=1)"
   ]
  },
  {
   "cell_type": "code",
   "execution_count": 540,
   "id": "979235ee",
   "metadata": {},
   "outputs": [],
   "source": [
    "df = df.join(df1)"
   ]
  },
  {
   "cell_type": "code",
   "execution_count": 541,
   "id": "6fe47599",
   "metadata": {},
   "outputs": [
    {
     "data": {
      "text/plain": [
       "(3274, 13)"
      ]
     },
     "execution_count": 541,
     "metadata": {},
     "output_type": "execute_result"
    }
   ],
   "source": [
    "df.shape"
   ]
  },
  {
   "cell_type": "code",
   "execution_count": 542,
   "id": "b64b0d86",
   "metadata": {},
   "outputs": [
    {
     "data": {
      "text/plain": [
       "Index(['DataYear', 'BuildingType', 'PrimaryPropertyType', 'Neighborhood',\n",
       "       'YearBuilt', 'PropertyGFATotal', 'ENERGYSTARScore',\n",
       "       'SiteEnergyUse(kBtu)', 'TotalGHGEmissions', 'Latitude', 'Longitude',\n",
       "       'NumberofBuildings', 'NumberofFloors'],\n",
       "      dtype='object')"
      ]
     },
     "execution_count": 542,
     "metadata": {},
     "output_type": "execute_result"
    }
   ],
   "source": [
    "df.columns"
   ]
  },
  {
   "cell_type": "markdown",
   "id": "1cb73aba",
   "metadata": {},
   "source": [
    "I drop NaN in features that I should predict (SiteEnergyUse(kBtu), TotalGHGEmissions )"
   ]
  },
  {
   "cell_type": "code",
   "execution_count": 543,
   "id": "4d111f76",
   "metadata": {},
   "outputs": [],
   "source": [
    "df = df.dropna(subset = ['SiteEnergyUse(kBtu)', 'TotalGHGEmissions' ], axis=0)"
   ]
  },
  {
   "cell_type": "markdown",
   "id": "794ecc7c",
   "metadata": {},
   "source": [
    "### Categorical Values"
   ]
  },
  {
   "cell_type": "markdown",
   "id": "4a38b726",
   "metadata": {},
   "source": [
    "### Pimary PropertyType - Cleaning"
   ]
  },
  {
   "cell_type": "code",
   "execution_count": 544,
   "id": "594043fd",
   "metadata": {},
   "outputs": [
    {
     "data": {
      "text/plain": [
       "Small- and Mid-Sized Office    574\n",
       "Other                          500\n",
       "Large Office                   344\n",
       "K-12 School                    269\n",
       "Mixed Use Property             215\n",
       "Retail Store                   190\n",
       "Warehouse                      185\n",
       "Non-Refrigerated Warehouse     171\n",
       "Hotel                          149\n",
       "Worship Facility               142\n",
       "Medical Office                  82\n",
       "Distribution Center             55\n",
       "Distribution Center\\n           48\n",
       "Supermarket / Grocery Store     40\n",
       "Senior Care Community           39\n",
       "Supermarket/Grocery Store       36\n",
       "Self-Storage Facility           29\n",
       "Self-Storage Facility\\n         26\n",
       "Refrigerated Warehouse          24\n",
       "University                      24\n",
       "Residence Hall                  21\n",
       "College/University              21\n",
       "Hospital                        20\n",
       "Residence Hall/Dormitory        15\n",
       "Restaurant                      13\n",
       "Laboratory                      11\n",
       "Restaurant\\n                    10\n",
       "Low-Rise Multifamily             5\n",
       "SPS-District K-12                4\n",
       "Office                           3\n",
       "Name: PrimaryPropertyType, dtype: int64"
      ]
     },
     "execution_count": 544,
     "metadata": {},
     "output_type": "execute_result"
    }
   ],
   "source": [
    "df['PrimaryPropertyType'].value_counts()"
   ]
  },
  {
   "cell_type": "markdown",
   "id": "ba188805",
   "metadata": {},
   "source": [
    "There are many values that can be combined together, for example, 'Restaurant\" and \"Restaurant\\n\", so I combine similar values under one label:"
   ]
  },
  {
   "cell_type": "code",
   "execution_count": 545,
   "id": "5617950e",
   "metadata": {},
   "outputs": [],
   "source": [
    "df['PrimaryPropertyType'].replace('Small- and Mid-Sized Office', 'MidOffice', inplace=True)"
   ]
  },
  {
   "cell_type": "code",
   "execution_count": 546,
   "id": "e519e5bf",
   "metadata": {},
   "outputs": [],
   "source": [
    "df['PrimaryPropertyType'].replace('Distribution Center\\n', 'Distribution Center', inplace=True)"
   ]
  },
  {
   "cell_type": "code",
   "execution_count": 547,
   "id": "153816d1",
   "metadata": {},
   "outputs": [],
   "source": [
    "df['PrimaryPropertyType'].replace('Supermarket / Grocery Store', 'Supermarket', inplace=True)"
   ]
  },
  {
   "cell_type": "code",
   "execution_count": 548,
   "id": "067a6e62",
   "metadata": {},
   "outputs": [],
   "source": [
    "df['PrimaryPropertyType'].replace('Supermarket/Grocery Store', 'Supermarket', inplace=True)"
   ]
  },
  {
   "cell_type": "code",
   "execution_count": 549,
   "id": "6759f06e",
   "metadata": {},
   "outputs": [],
   "source": [
    "df['PrimaryPropertyType'].replace('Self-Storage Facility\\n', 'Self-Storage Facility', inplace=True)"
   ]
  },
  {
   "cell_type": "code",
   "execution_count": 550,
   "id": "58820c31",
   "metadata": {},
   "outputs": [],
   "source": [
    "df['PrimaryPropertyType'].replace('College/University', 'University', inplace=True)"
   ]
  },
  {
   "cell_type": "code",
   "execution_count": 551,
   "id": "3bc78053",
   "metadata": {},
   "outputs": [],
   "source": [
    "df['PrimaryPropertyType'].replace('Residence Hall/Dormitory', 'Dormitory', inplace=True)"
   ]
  },
  {
   "cell_type": "code",
   "execution_count": 552,
   "id": "02c212aa",
   "metadata": {},
   "outputs": [],
   "source": [
    "df['PrimaryPropertyType'].replace('Restaurant\\n', 'Restaurant', inplace=True)"
   ]
  },
  {
   "cell_type": "markdown",
   "id": "fc916dc0",
   "metadata": {},
   "source": [
    "I also remove \"Multifamily\" properties, because we are only interested in non-residential buildings:"
   ]
  },
  {
   "cell_type": "code",
   "execution_count": 553,
   "id": "db5d7981",
   "metadata": {},
   "outputs": [],
   "source": [
    "df = df[df[\"PrimaryPropertyType\"].str.contains(\"Low-Rise Multifamily\")==False]"
   ]
  },
  {
   "cell_type": "code",
   "execution_count": 554,
   "id": "f4607d0c",
   "metadata": {},
   "outputs": [
    {
     "data": {
      "text/plain": [
       "MidOffice                     574\n",
       "Other                         500\n",
       "Large Office                  344\n",
       "K-12 School                   269\n",
       "Mixed Use Property            215\n",
       "Retail Store                  190\n",
       "Warehouse                     185\n",
       "Non-Refrigerated Warehouse    171\n",
       "Hotel                         149\n",
       "Worship Facility              142\n",
       "Distribution Center           103\n",
       "Medical Office                 82\n",
       "Supermarket                    76\n",
       "Self-Storage Facility          55\n",
       "University                     45\n",
       "Senior Care Community          39\n",
       "Refrigerated Warehouse         24\n",
       "Restaurant                     23\n",
       "Residence Hall                 21\n",
       "Hospital                       20\n",
       "Dormitory                      15\n",
       "Laboratory                     11\n",
       "SPS-District K-12               4\n",
       "Office                          3\n",
       "Name: PrimaryPropertyType, dtype: int64"
      ]
     },
     "execution_count": 554,
     "metadata": {},
     "output_type": "execute_result"
    }
   ],
   "source": [
    "df['PrimaryPropertyType'].value_counts()"
   ]
  },
  {
   "cell_type": "markdown",
   "id": "5f686a2a",
   "metadata": {},
   "source": [
    "I want to reduce the number of categories in this column before proceeding to OneHotCoding:"
   ]
  },
  {
   "cell_type": "code",
   "execution_count": 555,
   "id": "444b687d",
   "metadata": {},
   "outputs": [],
   "source": [
    "PropertyDict = {   \n",
    "'MidOffice': 'Office',\n",
    "'Large Office': 'Office',\n",
    "'Mixed Use Property': 'Public',\n",
    "'Non-Refrigerated Warehouse': 'Store', \n",
    "'Warehouse': 'Store',\n",
    "'K-12 School': 'Education',                                                                            \n",
    "'Retail Store ': 'Store',                                           \n",
    "'Hotel': 'Hotel/Housing',                                           \n",
    "'Worship Facility': 'Public',                                        \n",
    "'Distribution Center': 'Store',                                   \n",
    "'Medical Office': 'Hospital',                                         \n",
    "'Supermarket' : 'Store',                                \n",
    "'Self-Storage Facility': 'Store',                                                                                   \n",
    "'University' :'Education',                            \n",
    "'Senior Care Community': 'Hotel/Housing', \n",
    "'Residence Hall': 'Hotel/Housing',\n",
    "'Dormitory': 'Hotel/Housing',                                                                                                 \n",
    "'Laboratory': 'Hospital'                                                  \n",
    "}"
   ]
  },
  {
   "cell_type": "code",
   "execution_count": 556,
   "id": "bfcab1ab",
   "metadata": {},
   "outputs": [],
   "source": [
    "df[\"PrimaryPropertyType\"] = df[\"PrimaryPropertyType\"].map(PropertyDict)"
   ]
  },
  {
   "cell_type": "markdown",
   "id": "b9de625b",
   "metadata": {},
   "source": [
    "### Neighborhoud - Cleaning"
   ]
  },
  {
   "cell_type": "markdown",
   "id": "4c98906b",
   "metadata": {},
   "source": [
    "I transform low-case names to upper-case names:"
   ]
  },
  {
   "cell_type": "code",
   "execution_count": 559,
   "id": "ad7de044",
   "metadata": {},
   "outputs": [],
   "source": [
    "df['Neighborhood'] = df.Neighborhood.str.upper().replace('\\s+', '', regex=True)"
   ]
  },
  {
   "cell_type": "code",
   "execution_count": 560,
   "id": "6144136f",
   "metadata": {},
   "outputs": [
    {
     "data": {
      "text/plain": [
       "DOWNTOWN                 723\n",
       "GREATERDUWAMISH          671\n",
       "MAGNOLIA/QUEENANNE       295\n",
       "LAKEUNION                293\n",
       "NORTHEAST                240\n",
       "EAST                     235\n",
       "NORTHWEST                169\n",
       "BALLARD                  135\n",
       "NORTH                    130\n",
       "CENTRAL                  108\n",
       "SOUTHEAST                 91\n",
       "DELRIDGE                  88\n",
       "SOUTHWEST                 81\n",
       "DELRIDGENEIGHBORHOODS      1\n",
       "Name: Neighborhood, dtype: int64"
      ]
     },
     "execution_count": 560,
     "metadata": {},
     "output_type": "execute_result"
    }
   ],
   "source": [
    "df['Neighborhood'].value_counts()"
   ]
  },
  {
   "cell_type": "code",
   "execution_count": 561,
   "id": "03e1db34",
   "metadata": {},
   "outputs": [],
   "source": [
    "df['Neighborhood'].replace('DELRIDGENEIGHBORHOODS', 'DELRIDGE', inplace=True)\n",
    "df['Neighborhood'].replace('MAGNOLIA/QUEENANNE', 'MAGNOLIAQUEENANNE', inplace=True)\n",
    "df['Neighborhood'].replace('DELRIDGENEIGHBORHOODS', 'DELRIDGE', inplace=True)"
   ]
  },
  {
   "cell_type": "markdown",
   "id": "ab30c3e0",
   "metadata": {},
   "source": [
    "### Building Type - cleaning"
   ]
  },
  {
   "cell_type": "code",
   "execution_count": 562,
   "id": "5fd6a2bd",
   "metadata": {},
   "outputs": [
    {
     "data": {
      "text/plain": [
       "NonResidential        2871\n",
       "SPS-District K-12      191\n",
       "Nonresidential COS     153\n",
       "Campus                  44\n",
       "Nonresidential WA        1\n",
       "Name: BuildingType, dtype: int64"
      ]
     },
     "execution_count": 562,
     "metadata": {},
     "output_type": "execute_result"
    }
   ],
   "source": [
    "df['BuildingType'].value_counts()"
   ]
  },
  {
   "cell_type": "code",
   "execution_count": 563,
   "id": "048c4654",
   "metadata": {},
   "outputs": [],
   "source": [
    "df['BuildingType'].replace('Nonresidential WA', 'NonResidential', inplace=True)"
   ]
  },
  {
   "cell_type": "code",
   "execution_count": 564,
   "id": "ced2f1c8",
   "metadata": {},
   "outputs": [
    {
     "data": {
      "text/plain": [
       "Index(['DataYear', 'BuildingType', 'PrimaryPropertyType', 'Neighborhood',\n",
       "       'YearBuilt', 'PropertyGFATotal', 'ENERGYSTARScore',\n",
       "       'SiteEnergyUse(kBtu)', 'TotalGHGEmissions', 'Latitude', 'Longitude',\n",
       "       'NumberofBuildings', 'NumberofFloors'],\n",
       "      dtype='object')"
      ]
     },
     "execution_count": 564,
     "metadata": {},
     "output_type": "execute_result"
    }
   ],
   "source": [
    "df.columns"
   ]
  },
  {
   "cell_type": "code",
   "execution_count": 565,
   "id": "34c3acae",
   "metadata": {},
   "outputs": [
    {
     "data": {
      "text/plain": [
       "(3260, 13)"
      ]
     },
     "execution_count": 565,
     "metadata": {},
     "output_type": "execute_result"
    }
   ],
   "source": [
    "df.shape"
   ]
  },
  {
   "cell_type": "markdown",
   "id": "d248256d",
   "metadata": {},
   "source": [
    "Before OneHotCoding I remove outliers in numerical columns:"
   ]
  },
  {
   "cell_type": "code",
   "execution_count": 566,
   "id": "a1a31c44",
   "metadata": {},
   "outputs": [],
   "source": [
    "num_cols = ['PropertyGFATotal', 'ENERGYSTARScore', 'SiteEnergyUse(kBtu)', 'TotalGHGEmissions', 'NumberofBuildings', 'NumberofFloors'  ]"
   ]
  },
  {
   "cell_type": "code",
   "execution_count": 567,
   "id": "e9e59338",
   "metadata": {},
   "outputs": [],
   "source": [
    "Q3 = df[num_cols].quantile(0.95)"
   ]
  },
  {
   "cell_type": "code",
   "execution_count": 568,
   "id": "e5efb068",
   "metadata": {},
   "outputs": [],
   "source": [
    "df[num_cols] = df[num_cols][~((df[num_cols] < (0 - 1.5 * Q3)) | (df[num_cols] > (Q3 + 1.5 * Q3))).any(axis=1)]"
   ]
  },
  {
   "cell_type": "markdown",
   "id": "1425fb05",
   "metadata": {},
   "source": [
    "### OneHotEncoding"
   ]
  },
  {
   "cell_type": "markdown",
   "id": "c7075555",
   "metadata": {},
   "source": [
    "I will utilise 3 columns 'BuildingType', 'PrimaryPropertyType', 'Neighborhood', 'PrimaryPropertyType'"
   ]
  },
  {
   "cell_type": "code",
   "execution_count": 569,
   "id": "91c30ceb",
   "metadata": {},
   "outputs": [],
   "source": [
    "df_cat = df[['BuildingType', 'Neighborhood', 'PrimaryPropertyType']]"
   ]
  },
  {
   "cell_type": "code",
   "execution_count": 570,
   "id": "d8b3beb7",
   "metadata": {},
   "outputs": [
    {
     "data": {
      "text/plain": [
       "NonResidential        2872\n",
       "SPS-District K-12      191\n",
       "Nonresidential COS     153\n",
       "Campus                  44\n",
       "Name: BuildingType, dtype: int64"
      ]
     },
     "execution_count": 570,
     "metadata": {},
     "output_type": "execute_result"
    }
   ],
   "source": [
    "df_cat['BuildingType'].value_counts()"
   ]
  },
  {
   "cell_type": "code",
   "execution_count": 571,
   "id": "cc9565d4",
   "metadata": {},
   "outputs": [],
   "source": [
    "ohe = OneHotEncoder()\n",
    "transformed = ohe.fit_transform(df[['BuildingType']])\n",
    "BT = pd.DataFrame(transformed.toarray(), columns = [['Campus', 'NonResidential', 'Nonresidential COS',\n",
    "       'SPS-District K-12']])"
   ]
  },
  {
   "cell_type": "code",
   "execution_count": 572,
   "id": "959f1a45",
   "metadata": {},
   "outputs": [
    {
     "data": {
      "text/html": [
       "<div>\n",
       "<style scoped>\n",
       "    .dataframe tbody tr th:only-of-type {\n",
       "        vertical-align: middle;\n",
       "    }\n",
       "\n",
       "    .dataframe tbody tr th {\n",
       "        vertical-align: top;\n",
       "    }\n",
       "\n",
       "    .dataframe thead tr th {\n",
       "        text-align: left;\n",
       "    }\n",
       "</style>\n",
       "<table border=\"1\" class=\"dataframe\">\n",
       "  <thead>\n",
       "    <tr>\n",
       "      <th></th>\n",
       "      <th>Campus</th>\n",
       "      <th>NonResidential</th>\n",
       "      <th>Nonresidential COS</th>\n",
       "      <th>SPS-District K-12</th>\n",
       "    </tr>\n",
       "  </thead>\n",
       "  <tbody>\n",
       "    <tr>\n",
       "      <th>0</th>\n",
       "      <td>0.0</td>\n",
       "      <td>1.0</td>\n",
       "      <td>0.0</td>\n",
       "      <td>0.0</td>\n",
       "    </tr>\n",
       "    <tr>\n",
       "      <th>1</th>\n",
       "      <td>0.0</td>\n",
       "      <td>1.0</td>\n",
       "      <td>0.0</td>\n",
       "      <td>0.0</td>\n",
       "    </tr>\n",
       "    <tr>\n",
       "      <th>2</th>\n",
       "      <td>0.0</td>\n",
       "      <td>1.0</td>\n",
       "      <td>0.0</td>\n",
       "      <td>0.0</td>\n",
       "    </tr>\n",
       "  </tbody>\n",
       "</table>\n",
       "</div>"
      ],
      "text/plain": [
       "  Campus NonResidential Nonresidential COS SPS-District K-12\n",
       "0    0.0            1.0                0.0               0.0\n",
       "1    0.0            1.0                0.0               0.0\n",
       "2    0.0            1.0                0.0               0.0"
      ]
     },
     "execution_count": 572,
     "metadata": {},
     "output_type": "execute_result"
    }
   ],
   "source": [
    "BT.head(3)"
   ]
  },
  {
   "cell_type": "code",
   "execution_count": 573,
   "id": "0c6c6e39",
   "metadata": {},
   "outputs": [
    {
     "name": "stdout",
     "output_type": "stream",
     "text": [
      "[array(['Campus', 'NonResidential', 'Nonresidential COS',\n",
      "       'SPS-District K-12'], dtype=object)]\n"
     ]
    }
   ],
   "source": [
    "print(ohe.categories_)"
   ]
  },
  {
   "cell_type": "code",
   "execution_count": 574,
   "id": "ff952894",
   "metadata": {},
   "outputs": [],
   "source": [
    "ohe1 = OneHotEncoder()\n",
    "transformed = ohe1.fit_transform(df[['Neighborhood']])\n",
    "NB = pd.DataFrame(transformed.toarray(), columns = [['BALLARD', 'CENTRAL', 'DELRIDGE', 'DOWNTOWN', 'EAST',\n",
    "       'GREATERDUWAMISH', 'LAKEUNION', 'MAGNOLIAQUEENANNE', 'NORTH',\n",
    "       'NORTHEAST', 'NORTHWEST', 'SOUTHEAST', 'SOUTHWEST']])"
   ]
  },
  {
   "cell_type": "code",
   "execution_count": 575,
   "id": "9f8efebc",
   "metadata": {},
   "outputs": [
    {
     "name": "stdout",
     "output_type": "stream",
     "text": [
      "[array(['BALLARD', 'CENTRAL', 'DELRIDGE', 'DOWNTOWN', 'EAST',\n",
      "       'GREATERDUWAMISH', 'LAKEUNION', 'MAGNOLIAQUEENANNE', 'NORTH',\n",
      "       'NORTHEAST', 'NORTHWEST', 'SOUTHEAST', 'SOUTHWEST'], dtype=object)]\n"
     ]
    }
   ],
   "source": [
    "print(ohe1.categories_)"
   ]
  },
  {
   "cell_type": "code",
   "execution_count": 576,
   "id": "b9516beb",
   "metadata": {},
   "outputs": [
    {
     "data": {
      "text/html": [
       "<div>\n",
       "<style scoped>\n",
       "    .dataframe tbody tr th:only-of-type {\n",
       "        vertical-align: middle;\n",
       "    }\n",
       "\n",
       "    .dataframe tbody tr th {\n",
       "        vertical-align: top;\n",
       "    }\n",
       "\n",
       "    .dataframe thead tr th {\n",
       "        text-align: left;\n",
       "    }\n",
       "</style>\n",
       "<table border=\"1\" class=\"dataframe\">\n",
       "  <thead>\n",
       "    <tr>\n",
       "      <th></th>\n",
       "      <th>BALLARD</th>\n",
       "      <th>CENTRAL</th>\n",
       "      <th>DELRIDGE</th>\n",
       "      <th>DOWNTOWN</th>\n",
       "      <th>EAST</th>\n",
       "      <th>GREATERDUWAMISH</th>\n",
       "      <th>LAKEUNION</th>\n",
       "      <th>MAGNOLIAQUEENANNE</th>\n",
       "      <th>NORTH</th>\n",
       "      <th>NORTHEAST</th>\n",
       "      <th>NORTHWEST</th>\n",
       "      <th>SOUTHEAST</th>\n",
       "      <th>SOUTHWEST</th>\n",
       "    </tr>\n",
       "  </thead>\n",
       "  <tbody>\n",
       "    <tr>\n",
       "      <th>0</th>\n",
       "      <td>0.0</td>\n",
       "      <td>0.0</td>\n",
       "      <td>0.0</td>\n",
       "      <td>1.0</td>\n",
       "      <td>0.0</td>\n",
       "      <td>0.0</td>\n",
       "      <td>0.0</td>\n",
       "      <td>0.0</td>\n",
       "      <td>0.0</td>\n",
       "      <td>0.0</td>\n",
       "      <td>0.0</td>\n",
       "      <td>0.0</td>\n",
       "      <td>0.0</td>\n",
       "    </tr>\n",
       "    <tr>\n",
       "      <th>1</th>\n",
       "      <td>0.0</td>\n",
       "      <td>0.0</td>\n",
       "      <td>0.0</td>\n",
       "      <td>1.0</td>\n",
       "      <td>0.0</td>\n",
       "      <td>0.0</td>\n",
       "      <td>0.0</td>\n",
       "      <td>0.0</td>\n",
       "      <td>0.0</td>\n",
       "      <td>0.0</td>\n",
       "      <td>0.0</td>\n",
       "      <td>0.0</td>\n",
       "      <td>0.0</td>\n",
       "    </tr>\n",
       "    <tr>\n",
       "      <th>2</th>\n",
       "      <td>0.0</td>\n",
       "      <td>0.0</td>\n",
       "      <td>0.0</td>\n",
       "      <td>1.0</td>\n",
       "      <td>0.0</td>\n",
       "      <td>0.0</td>\n",
       "      <td>0.0</td>\n",
       "      <td>0.0</td>\n",
       "      <td>0.0</td>\n",
       "      <td>0.0</td>\n",
       "      <td>0.0</td>\n",
       "      <td>0.0</td>\n",
       "      <td>0.0</td>\n",
       "    </tr>\n",
       "  </tbody>\n",
       "</table>\n",
       "</div>"
      ],
      "text/plain": [
       "  BALLARD CENTRAL DELRIDGE DOWNTOWN EAST GREATERDUWAMISH LAKEUNION  \\\n",
       "0     0.0     0.0      0.0      1.0  0.0             0.0       0.0   \n",
       "1     0.0     0.0      0.0      1.0  0.0             0.0       0.0   \n",
       "2     0.0     0.0      0.0      1.0  0.0             0.0       0.0   \n",
       "\n",
       "  MAGNOLIAQUEENANNE NORTH NORTHEAST NORTHWEST SOUTHEAST SOUTHWEST  \n",
       "0               0.0   0.0       0.0       0.0       0.0       0.0  \n",
       "1               0.0   0.0       0.0       0.0       0.0       0.0  \n",
       "2               0.0   0.0       0.0       0.0       0.0       0.0  "
      ]
     },
     "execution_count": 576,
     "metadata": {},
     "output_type": "execute_result"
    }
   ],
   "source": [
    "NB.head(3)"
   ]
  },
  {
   "cell_type": "code",
   "execution_count": 583,
   "id": "6e032022",
   "metadata": {},
   "outputs": [],
   "source": [
    "ohe2 = OneHotEncoder()\n",
    "transformed = ohe2.fit_transform(df[['PrimaryPropertyType']])\n",
    "LPU = pd.DataFrame(transformed.toarray())"
   ]
  },
  {
   "cell_type": "code",
   "execution_count": 584,
   "id": "1362b52a",
   "metadata": {},
   "outputs": [
    {
     "name": "stdout",
     "output_type": "stream",
     "text": [
      "[array(['Education', 'Hospital', 'Hotel/Housing', 'Office', 'Public',\n",
      "       'Store', nan], dtype=object)]\n"
     ]
    }
   ],
   "source": [
    "print(ohe2.categories_)"
   ]
  },
  {
   "cell_type": "code",
   "execution_count": 585,
   "id": "97c3672e",
   "metadata": {},
   "outputs": [
    {
     "data": {
      "text/html": [
       "<div>\n",
       "<style scoped>\n",
       "    .dataframe tbody tr th:only-of-type {\n",
       "        vertical-align: middle;\n",
       "    }\n",
       "\n",
       "    .dataframe tbody tr th {\n",
       "        vertical-align: top;\n",
       "    }\n",
       "\n",
       "    .dataframe thead th {\n",
       "        text-align: right;\n",
       "    }\n",
       "</style>\n",
       "<table border=\"1\" class=\"dataframe\">\n",
       "  <thead>\n",
       "    <tr style=\"text-align: right;\">\n",
       "      <th></th>\n",
       "      <th>0</th>\n",
       "      <th>1</th>\n",
       "      <th>2</th>\n",
       "      <th>3</th>\n",
       "      <th>4</th>\n",
       "      <th>5</th>\n",
       "      <th>6</th>\n",
       "    </tr>\n",
       "  </thead>\n",
       "  <tbody>\n",
       "    <tr>\n",
       "      <th>0</th>\n",
       "      <td>0.0</td>\n",
       "      <td>0.0</td>\n",
       "      <td>1.0</td>\n",
       "      <td>0.0</td>\n",
       "      <td>0.0</td>\n",
       "      <td>0.0</td>\n",
       "      <td>0.0</td>\n",
       "    </tr>\n",
       "    <tr>\n",
       "      <th>1</th>\n",
       "      <td>0.0</td>\n",
       "      <td>0.0</td>\n",
       "      <td>1.0</td>\n",
       "      <td>0.0</td>\n",
       "      <td>0.0</td>\n",
       "      <td>0.0</td>\n",
       "      <td>0.0</td>\n",
       "    </tr>\n",
       "  </tbody>\n",
       "</table>\n",
       "</div>"
      ],
      "text/plain": [
       "     0    1    2    3    4    5    6\n",
       "0  0.0  0.0  1.0  0.0  0.0  0.0  0.0\n",
       "1  0.0  0.0  1.0  0.0  0.0  0.0  0.0"
      ]
     },
     "execution_count": 585,
     "metadata": {},
     "output_type": "execute_result"
    }
   ],
   "source": [
    "LPU.head(2)"
   ]
  },
  {
   "cell_type": "code",
   "execution_count": 586,
   "id": "8bbff5a4",
   "metadata": {},
   "outputs": [],
   "source": [
    "df_cat_hot = pd.concat([BT, NB], axis=1)"
   ]
  },
  {
   "cell_type": "code",
   "execution_count": 587,
   "id": "901ec19b",
   "metadata": {},
   "outputs": [
    {
     "data": {
      "text/plain": [
       "(3260, 17)"
      ]
     },
     "execution_count": 587,
     "metadata": {},
     "output_type": "execute_result"
    }
   ],
   "source": [
    "df_cat_hot.shape"
   ]
  },
  {
   "cell_type": "code",
   "execution_count": 652,
   "id": "f094f8aa",
   "metadata": {},
   "outputs": [],
   "source": [
    "df_cat.to_csv('df_cat')"
   ]
  },
  {
   "cell_type": "markdown",
   "id": "069272e0",
   "metadata": {},
   "source": [
    "###  Numerical values"
   ]
  },
  {
   "cell_type": "markdown",
   "id": "f3761df3",
   "metadata": {},
   "source": [
    "I replace all negative values with zeroes:"
   ]
  },
  {
   "cell_type": "code",
   "execution_count": 603,
   "id": "c37e6a38",
   "metadata": {},
   "outputs": [],
   "source": [
    "df_num = df[['YearBuilt', 'NumberofBuildings', 'NumberofFloors', 'PropertyGFATotal',\n",
    "       'ENERGYSTARScore', 'SiteEnergyUse(kBtu)', 'TotalGHGEmissions']]"
   ]
  },
  {
   "cell_type": "code",
   "execution_count": 604,
   "id": "047cb0d4",
   "metadata": {},
   "outputs": [
    {
     "name": "stderr",
     "output_type": "stream",
     "text": [
      "/var/folders/zm/r71zpx_j4y149h6k04j7qqsr0000gn/T/ipykernel_78993/1534589283.py:1: SettingWithCopyWarning: \n",
      "A value is trying to be set on a copy of a slice from a DataFrame.\n",
      "Try using .loc[row_indexer,col_indexer] = value instead\n",
      "\n",
      "See the caveats in the documentation: https://pandas.pydata.org/pandas-docs/stable/user_guide/indexing.html#returning-a-view-versus-a-copy\n",
      "  df_num[df_num < 0] = 0\n"
     ]
    }
   ],
   "source": [
    "df_num[df_num < 0] = 0"
   ]
  },
  {
   "cell_type": "markdown",
   "id": "21042af7",
   "metadata": {},
   "source": [
    "I replace YearBuild with Age of the building"
   ]
  },
  {
   "cell_type": "code",
   "execution_count": 605,
   "id": "176640ec",
   "metadata": {},
   "outputs": [
    {
     "data": {
      "text/plain": [
       "count    3260.000000\n",
       "mean     1961.492331\n",
       "std        32.864085\n",
       "min      1900.000000\n",
       "25%      1929.000000\n",
       "50%      1965.000000\n",
       "75%      1989.000000\n",
       "max      2015.000000\n",
       "Name: YearBuilt, dtype: float64"
      ]
     },
     "execution_count": 605,
     "metadata": {},
     "output_type": "execute_result"
    }
   ],
   "source": [
    "df_num['YearBuilt'].describe()"
   ]
  },
  {
   "cell_type": "code",
   "execution_count": 606,
   "id": "4137dcfd",
   "metadata": {},
   "outputs": [
    {
     "data": {
      "text/plain": [
       "(3260, 7)"
      ]
     },
     "execution_count": 606,
     "metadata": {},
     "output_type": "execute_result"
    }
   ],
   "source": [
    "df_num.shape"
   ]
  },
  {
   "cell_type": "code",
   "execution_count": 607,
   "id": "581c763f",
   "metadata": {},
   "outputs": [],
   "source": [
    "for i in range(0, 3260):\n",
    "    df_num['YearBuilt'].iloc[i] = df_num['YearBuilt'].iloc[i] - 1899\n",
    "    "
   ]
  },
  {
   "cell_type": "code",
   "execution_count": 608,
   "id": "569e617c",
   "metadata": {},
   "outputs": [
    {
     "data": {
      "text/plain": [
       "count    3260.000000\n",
       "mean       62.492331\n",
       "std        32.864085\n",
       "min         1.000000\n",
       "25%        30.000000\n",
       "50%        66.000000\n",
       "75%        90.000000\n",
       "max       116.000000\n",
       "Name: YearBuilt, dtype: float64"
      ]
     },
     "execution_count": 608,
     "metadata": {},
     "output_type": "execute_result"
    }
   ],
   "source": [
    "df_num['YearBuilt'].describe()"
   ]
  },
  {
   "cell_type": "code",
   "execution_count": 651,
   "id": "e70d9085",
   "metadata": {},
   "outputs": [],
   "source": [
    "df_num.to_csv('df_num')"
   ]
  },
  {
   "cell_type": "markdown",
   "id": "b1b9e0f3",
   "metadata": {},
   "source": [
    "## Exploratory Analysis"
   ]
  },
  {
   "cell_type": "code",
   "execution_count": 609,
   "id": "a733ad96",
   "metadata": {},
   "outputs": [],
   "source": [
    "import matplotlib.pyplot as plt\n",
    "import seaborn as sns\n",
    "import numpy as np"
   ]
  },
  {
   "cell_type": "code",
   "execution_count": 610,
   "id": "d6296931",
   "metadata": {},
   "outputs": [
    {
     "data": {
      "text/plain": [
       "Text(0.5, 1.0, 'TotalGHGEmissions')"
      ]
     },
     "execution_count": 610,
     "metadata": {},
     "output_type": "execute_result"
    },
    {
     "data": {
      "image/png": "[encoded data removed]",
      "text/plain": [
       "<Figure size 432x288 with 4 Axes>"
      ]
     },
     "metadata": {
      "needs_background": "light"
     },
     "output_type": "display_data"
    }
   ],
   "source": [
    "figure, axis = plt.subplots(2, 2)\n",
    "figure.tight_layout(pad=3.0)\n",
    "\n",
    "axis[0, 0].hist(df_num['NumberofFloors'])\n",
    "axis[0, 0].set_title(\"Number of floors\")\n",
    "\n",
    "\n",
    "\n",
    "axis[0, 1].hist(df_num['YearBuilt'], bins=20)\n",
    "axis[0, 1].set_title(\"YearBuilt\")\n",
    "\n",
    "axis[1, 0].hist(df_num['SiteEnergyUse(kBtu)'])\n",
    "axis[1, 0].set_title(\"SiteEnergyUse(kBtu)\")\n",
    "\n",
    "axis[1, 1].hist(df_num['TotalGHGEmissions'])\n",
    "axis[1, 1].set_title(\"TotalGHGEmissions\")"
   ]
  },
  {
   "cell_type": "code",
   "execution_count": 611,
   "id": "3cb7f1a3",
   "metadata": {},
   "outputs": [
    {
     "data": {
      "text/plain": [
       "<seaborn.axisgrid.FacetGrid at 0x7fdb03ecb250>"
      ]
     },
     "execution_count": 611,
     "metadata": {},
     "output_type": "execute_result"
    },
    {
     "data": {
      "image/png": "[encoded data removed]",
      "text/plain": [
       "<Figure size 360x360 with 1 Axes>"
      ]
     },
     "metadata": {
      "needs_background": "light"
     },
     "output_type": "display_data"
    }
   ],
   "source": [
    "sns.lmplot(x= 'NumberofFloors', y = 'TotalGHGEmissions', data = df_num, line_kws= {'color' : 'red'})"
   ]
  },
  {
   "cell_type": "code",
   "execution_count": 612,
   "id": "9acc78b9",
   "metadata": {},
   "outputs": [
    {
     "data": {
      "text/plain": [
       "<seaborn.axisgrid.FacetGrid at 0x7fdb1eaf2370>"
      ]
     },
     "execution_count": 612,
     "metadata": {},
     "output_type": "execute_result"
    },
    {
     "data": {
      "image/png": "[encoded data removed]",
      "text/plain": [
       "<Figure size 360x360 with 1 Axes>"
      ]
     },
     "metadata": {
      "needs_background": "light"
     },
     "output_type": "display_data"
    }
   ],
   "source": [
    "sns.lmplot(x= 'YearBuilt', y = 'TotalGHGEmissions', data = df_num, line_kws= {'color' : 'red'})"
   ]
  },
  {
   "cell_type": "code",
   "execution_count": 613,
   "id": "3eacab17",
   "metadata": {},
   "outputs": [
    {
     "data": {
      "text/plain": [
       "<seaborn.axisgrid.FacetGrid at 0x7fdb03fc4730>"
      ]
     },
     "execution_count": 613,
     "metadata": {},
     "output_type": "execute_result"
    },
    {
     "data": {
      "image/png": "[encoded data removed]",
      "text/plain": [
       "<Figure size 360x360 with 1 Axes>"
      ]
     },
     "metadata": {
      "needs_background": "light"
     },
     "output_type": "display_data"
    }
   ],
   "source": [
    "sns.lmplot(x= 'ENERGYSTARScore', y = 'TotalGHGEmissions', data = df_num, line_kws= {'color' : 'red'})"
   ]
  },
  {
   "cell_type": "markdown",
   "id": "33b898ee",
   "metadata": {},
   "source": [
    "#### Correlation Matrix"
   ]
  },
  {
   "cell_type": "code",
   "execution_count": 615,
   "id": "a71cf304",
   "metadata": {},
   "outputs": [
    {
     "data": {
      "image/png": "[encoded data removed]",
      "text/plain": [
       "<Figure size 1080x720 with 2 Axes>"
      ]
     },
     "metadata": {
      "needs_background": "light"
     },
     "output_type": "display_data"
    }
   ],
   "source": [
    "corr = df_num.corr(method='pearson')\n",
    "matrix = df_num.corr().round(2)\n",
    "plt.subplots(figsize=(15,10))\n",
    "sns.heatmap(matrix, annot=True)\n",
    "plt.show()"
   ]
  },
  {
   "cell_type": "code",
   "execution_count": 616,
   "id": "6dc020d5",
   "metadata": {},
   "outputs": [
    {
     "data": {
      "text/plain": [
       "(3260, 7)"
      ]
     },
     "execution_count": 616,
     "metadata": {},
     "output_type": "execute_result"
    }
   ],
   "source": [
    "df_num.shape"
   ]
  },
  {
   "cell_type": "code",
   "execution_count": 624,
   "id": "cc05b2fb",
   "metadata": {},
   "outputs": [
    {
     "data": {
      "text/plain": [
       "Index(['YearBuilt', 'NumberofBuildings', 'NumberofFloors', 'PropertyGFATotal',\n",
       "       'ENERGYSTARScore', 'SiteEnergyUse(kBtu)', 'TotalGHGEmissions'],\n",
       "      dtype='object')"
      ]
     },
     "execution_count": 624,
     "metadata": {},
     "output_type": "execute_result"
    }
   ],
   "source": [
    "df_num.columns"
   ]
  },
  {
   "cell_type": "code",
   "execution_count": 617,
   "id": "33f513a0",
   "metadata": {},
   "outputs": [
    {
     "data": {
      "text/plain": [
       "(3260, 17)"
      ]
     },
     "execution_count": 617,
     "metadata": {},
     "output_type": "execute_result"
    }
   ],
   "source": [
    "df_cat_hot.shape"
   ]
  },
  {
   "cell_type": "code",
   "execution_count": null,
   "id": "9e5ff3c7",
   "metadata": {},
   "outputs": [],
   "source": [
    "df_cat_hot = pd.concat([BT, NB], axis=1)"
   ]
  },
  {
   "cell_type": "code",
   "execution_count": 618,
   "id": "f5c677f0",
   "metadata": {},
   "outputs": [],
   "source": [
    "df_m = pd.concat([df_num, df_cat_hot], axis=1)"
   ]
  },
  {
   "cell_type": "code",
   "execution_count": 635,
   "id": "912e9b86",
   "metadata": {},
   "outputs": [],
   "source": [
    "dfm = df_m.dropna()"
   ]
  },
  {
   "cell_type": "code",
   "execution_count": 641,
   "id": "5a109f03",
   "metadata": {},
   "outputs": [
    {
     "data": {
      "text/plain": [
       "Index([            'YearBuilt',     'NumberofBuildings',\n",
       "              'NumberofFloors',      'PropertyGFATotal',\n",
       "             'ENERGYSTARScore',   'SiteEnergyUse(kBtu)',\n",
       "           'TotalGHGEmissions',             ('Campus',),\n",
       "           ('NonResidential',), ('Nonresidential COS',),\n",
       "        ('SPS-District K-12',),            ('BALLARD',),\n",
       "                  ('CENTRAL',),           ('DELRIDGE',),\n",
       "                 ('DOWNTOWN',),               ('EAST',),\n",
       "          ('GREATERDUWAMISH',),          ('LAKEUNION',),\n",
       "        ('MAGNOLIAQUEENANNE',),              ('NORTH',),\n",
       "                ('NORTHEAST',),          ('NORTHWEST',),\n",
       "                ('SOUTHEAST',),          ('SOUTHWEST',)],\n",
       "      dtype='object')"
      ]
     },
     "execution_count": 641,
     "metadata": {},
     "output_type": "execute_result"
    }
   ],
   "source": [
    "dfm.columns"
   ]
  },
  {
   "cell_type": "code",
   "execution_count": 643,
   "id": "87c3a76f",
   "metadata": {},
   "outputs": [
    {
     "name": "stderr",
     "output_type": "stream",
     "text": [
      "/Users/demid/opt/anaconda3/lib/python3.9/site-packages/pandas/core/frame.py:5039: SettingWithCopyWarning: \n",
      "A value is trying to be set on a copy of a slice from a DataFrame\n",
      "\n",
      "See the caveats in the documentation: https://pandas.pydata.org/pandas-docs/stable/user_guide/indexing.html#returning-a-view-versus-a-copy\n",
      "  return super().rename(\n"
     ]
    }
   ],
   "source": [
    "dfm.rename( columns = {('NonResidential',) : 'NonResidential',\n",
    "                       ('Nonresidential COS',): 'Nonresidential COS',\n",
    "                       ('SPS-District K-12',) : 'SPS-District K-12',\n",
    "                       ('BALLARD',) : 'BALLARD',\n",
    "                       ('CENTRAL',): 'CENTRAL',\n",
    "                       ('DELRIDGE',): 'DELRIDGE',\n",
    "                       ('DOWNTOWN',): 'DOWNTOWN',\n",
    "                       ('EAST',): 'EAST',\n",
    "                       ('GREATERDUWAMISH',): 'GREATERDUWAMISH',\n",
    "                       ('LAKEUNION',): 'LAKEUNION',\n",
    "                       ('MAGNOLIAQUEENANNE',): 'MAGNOLIAQUEENANNE',\n",
    "                       ('NORTH',): 'NORTH',\n",
    "                       ('NORTHEAST',): 'NORTHEAST',\n",
    "                       ('NORTHWEST',): 'NORTHWEST',\n",
    "                       ('SOUTHEAST',): 'SOUTHEAST',\n",
    "                       ('SOUTHWEST',): 'SOUTHWEST'\n",
    "    \n",
    "}, inplace=True)"
   ]
  },
  {
   "cell_type": "code",
   "execution_count": 645,
   "id": "8d85ebec",
   "metadata": {},
   "outputs": [],
   "source": [
    "dfm.rename( columns = {('Campus',): 'Campus'}, inplace=True)"
   ]
  },
  {
   "cell_type": "code",
   "execution_count": 646,
   "id": "6e3db3c9",
   "metadata": {},
   "outputs": [
    {
     "data": {
      "text/plain": [
       "Index(['YearBuilt', 'NumberofBuildings', 'NumberofFloors', 'PropertyGFATotal',\n",
       "       'ENERGYSTARScore', 'SiteEnergyUse(kBtu)', 'TotalGHGEmissions', 'Campus',\n",
       "       'NonResidential', 'Nonresidential COS', 'SPS-District K-12', 'BALLARD',\n",
       "       'CENTRAL', 'DELRIDGE', 'DOWNTOWN', 'EAST', 'GREATERDUWAMISH',\n",
       "       'LAKEUNION', 'MAGNOLIAQUEENANNE', 'NORTH', 'NORTHEAST', 'NORTHWEST',\n",
       "       'SOUTHEAST', 'SOUTHWEST'],\n",
       "      dtype='object')"
      ]
     },
     "execution_count": 646,
     "metadata": {},
     "output_type": "execute_result"
    }
   ],
   "source": [
    "dfm.columns"
   ]
  },
  {
   "cell_type": "code",
   "execution_count": 647,
   "id": "2a7d6dd9",
   "metadata": {},
   "outputs": [],
   "source": [
    "dfm.to_csv('dfmP03')"
   ]
  },
  {
   "cell_type": "code",
   "execution_count": 622,
   "id": "5a92d73a",
   "metadata": {},
   "outputs": [],
   "source": [
    "df_cat_hot.to_csv('df_cat_hot03')"
   ]
  },
  {
   "cell_type": "markdown",
   "id": "b257c27b",
   "metadata": {},
   "source": [
    "### Numerical Values Standartisation "
   ]
  },
  {
   "cell_type": "code",
   "execution_count": 655,
   "id": "cf8fdcf9",
   "metadata": {},
   "outputs": [],
   "source": [
    "from sklearn.preprocessing import StandardScaler\n",
    "\n",
    "df_scale = dfm[['YearBuilt', 'NumberofBuildings', 'NumberofFloors', 'PropertyGFATotal']]"
   ]
  },
  {
   "cell_type": "code",
   "execution_count": 660,
   "id": "936c7754",
   "metadata": {},
   "outputs": [
    {
     "data": {
      "text/html": [
       "<div>\n",
       "<style scoped>\n",
       "    .dataframe tbody tr th:only-of-type {\n",
       "        vertical-align: middle;\n",
       "    }\n",
       "\n",
       "    .dataframe tbody tr th {\n",
       "        vertical-align: top;\n",
       "    }\n",
       "\n",
       "    .dataframe thead th {\n",
       "        text-align: right;\n",
       "    }\n",
       "</style>\n",
       "<table border=\"1\" class=\"dataframe\">\n",
       "  <thead>\n",
       "    <tr style=\"text-align: right;\">\n",
       "      <th></th>\n",
       "      <th>YearBuilt</th>\n",
       "      <th>NumberofBuildings</th>\n",
       "      <th>NumberofFloors</th>\n",
       "      <th>PropertyGFATotal</th>\n",
       "    </tr>\n",
       "  </thead>\n",
       "  <tbody>\n",
       "    <tr>\n",
       "      <th>0</th>\n",
       "      <td>28.0</td>\n",
       "      <td>1.0</td>\n",
       "      <td>12.0</td>\n",
       "      <td>88434.0</td>\n",
       "    </tr>\n",
       "    <tr>\n",
       "      <th>1</th>\n",
       "      <td>97.0</td>\n",
       "      <td>1.0</td>\n",
       "      <td>11.0</td>\n",
       "      <td>103566.0</td>\n",
       "    </tr>\n",
       "    <tr>\n",
       "      <th>4</th>\n",
       "      <td>81.0</td>\n",
       "      <td>1.0</td>\n",
       "      <td>18.0</td>\n",
       "      <td>119890.0</td>\n",
       "    </tr>\n",
       "    <tr>\n",
       "      <th>6</th>\n",
       "      <td>27.0</td>\n",
       "      <td>1.0</td>\n",
       "      <td>11.0</td>\n",
       "      <td>83008.0</td>\n",
       "    </tr>\n",
       "    <tr>\n",
       "      <th>8</th>\n",
       "      <td>5.0</td>\n",
       "      <td>1.0</td>\n",
       "      <td>15.0</td>\n",
       "      <td>163984.0</td>\n",
       "    </tr>\n",
       "  </tbody>\n",
       "</table>\n",
       "</div>"
      ],
      "text/plain": [
       "   YearBuilt  NumberofBuildings  NumberofFloors  PropertyGFATotal\n",
       "0       28.0                1.0            12.0           88434.0\n",
       "1       97.0                1.0            11.0          103566.0\n",
       "4       81.0                1.0            18.0          119890.0\n",
       "6       27.0                1.0            11.0           83008.0\n",
       "8        5.0                1.0            15.0          163984.0"
      ]
     },
     "execution_count": 660,
     "metadata": {},
     "output_type": "execute_result"
    }
   ],
   "source": [
    "df_scale.head()"
   ]
  },
  {
   "cell_type": "code",
   "execution_count": 661,
   "id": "214f7b6b",
   "metadata": {},
   "outputs": [],
   "source": [
    "scaler = StandardScaler()\n",
    "df_scaled = pd.DataFrame(scaler.fit_transform(df_scale), columns = ['YearBuilt', 'NumberofBuildings', 'NumberofFloors', 'PropertyGFATotal'])"
   ]
  },
  {
   "cell_type": "code",
   "execution_count": 662,
   "id": "9e9b5fa8",
   "metadata": {},
   "outputs": [
    {
     "data": {
      "text/html": [
       "<div>\n",
       "<style scoped>\n",
       "    .dataframe tbody tr th:only-of-type {\n",
       "        vertical-align: middle;\n",
       "    }\n",
       "\n",
       "    .dataframe tbody tr th {\n",
       "        vertical-align: top;\n",
       "    }\n",
       "\n",
       "    .dataframe thead th {\n",
       "        text-align: right;\n",
       "    }\n",
       "</style>\n",
       "<table border=\"1\" class=\"dataframe\">\n",
       "  <thead>\n",
       "    <tr style=\"text-align: right;\">\n",
       "      <th></th>\n",
       "      <th>YearBuilt</th>\n",
       "      <th>NumberofBuildings</th>\n",
       "      <th>NumberofFloors</th>\n",
       "      <th>PropertyGFATotal</th>\n",
       "    </tr>\n",
       "  </thead>\n",
       "  <tbody>\n",
       "    <tr>\n",
       "      <th>0</th>\n",
       "      <td>-1.12108</td>\n",
       "      <td>0.077448</td>\n",
       "      <td>1.889896</td>\n",
       "      <td>-0.078336</td>\n",
       "    </tr>\n",
       "  </tbody>\n",
       "</table>\n",
       "</div>"
      ],
      "text/plain": [
       "   YearBuilt  NumberofBuildings  NumberofFloors  PropertyGFATotal\n",
       "0   -1.12108           0.077448        1.889896         -0.078336"
      ]
     },
     "execution_count": 662,
     "metadata": {},
     "output_type": "execute_result"
    }
   ],
   "source": [
    "df_scaled.head(1)"
   ]
  },
  {
   "cell_type": "code",
   "execution_count": 663,
   "id": "f10ac4d9",
   "metadata": {},
   "outputs": [],
   "source": [
    "TE = pd.concat([df_scaled, dfm['TotalGHGEmissions']], axis=1)"
   ]
  },
  {
   "cell_type": "code",
   "execution_count": 664,
   "id": "bf55f449",
   "metadata": {},
   "outputs": [
    {
     "data": {
      "text/html": [
       "<div>\n",
       "<style scoped>\n",
       "    .dataframe tbody tr th:only-of-type {\n",
       "        vertical-align: middle;\n",
       "    }\n",
       "\n",
       "    .dataframe tbody tr th {\n",
       "        vertical-align: top;\n",
       "    }\n",
       "\n",
       "    .dataframe thead th {\n",
       "        text-align: right;\n",
       "    }\n",
       "</style>\n",
       "<table border=\"1\" class=\"dataframe\">\n",
       "  <thead>\n",
       "    <tr style=\"text-align: right;\">\n",
       "      <th></th>\n",
       "      <th>YearBuilt</th>\n",
       "      <th>NumberofBuildings</th>\n",
       "      <th>NumberofFloors</th>\n",
       "      <th>PropertyGFATotal</th>\n",
       "      <th>TotalGHGEmissions</th>\n",
       "    </tr>\n",
       "  </thead>\n",
       "  <tbody>\n",
       "    <tr>\n",
       "      <th>0</th>\n",
       "      <td>-1.121080</td>\n",
       "      <td>0.077448</td>\n",
       "      <td>1.889896</td>\n",
       "      <td>-0.078336</td>\n",
       "      <td>249.43</td>\n",
       "    </tr>\n",
       "    <tr>\n",
       "      <th>1</th>\n",
       "      <td>1.036172</td>\n",
       "      <td>0.077448</td>\n",
       "      <td>1.657727</td>\n",
       "      <td>0.052623</td>\n",
       "      <td>263.51</td>\n",
       "    </tr>\n",
       "    <tr>\n",
       "      <th>2</th>\n",
       "      <td>0.535940</td>\n",
       "      <td>0.077448</td>\n",
       "      <td>3.282907</td>\n",
       "      <td>0.193897</td>\n",
       "      <td>NaN</td>\n",
       "    </tr>\n",
       "    <tr>\n",
       "      <th>3</th>\n",
       "      <td>-1.152344</td>\n",
       "      <td>0.077448</td>\n",
       "      <td>1.657727</td>\n",
       "      <td>-0.125295</td>\n",
       "      <td>NaN</td>\n",
       "    </tr>\n",
       "    <tr>\n",
       "      <th>4</th>\n",
       "      <td>-1.840164</td>\n",
       "      <td>0.077448</td>\n",
       "      <td>2.586401</td>\n",
       "      <td>0.575505</td>\n",
       "      <td>507.70</td>\n",
       "    </tr>\n",
       "  </tbody>\n",
       "</table>\n",
       "</div>"
      ],
      "text/plain": [
       "   YearBuilt  NumberofBuildings  NumberofFloors  PropertyGFATotal  \\\n",
       "0  -1.121080           0.077448        1.889896         -0.078336   \n",
       "1   1.036172           0.077448        1.657727          0.052623   \n",
       "2   0.535940           0.077448        3.282907          0.193897   \n",
       "3  -1.152344           0.077448        1.657727         -0.125295   \n",
       "4  -1.840164           0.077448        2.586401          0.575505   \n",
       "\n",
       "   TotalGHGEmissions  \n",
       "0             249.43  \n",
       "1             263.51  \n",
       "2                NaN  \n",
       "3                NaN  \n",
       "4             507.70  "
      ]
     },
     "execution_count": 664,
     "metadata": {},
     "output_type": "execute_result"
    }
   ],
   "source": [
    "TE.head()"
   ]
  },
  {
   "cell_type": "code",
   "execution_count": 667,
   "id": "9d643362",
   "metadata": {},
   "outputs": [],
   "source": [
    "TE.to_csv('TE')"
   ]
  },
  {
   "cell_type": "code",
   "execution_count": null,
   "id": "56448328",
   "metadata": {},
   "outputs": [],
   "source": []
  }
 ],
 "metadata": {
  "kernelspec": {
   "display_name": "Python 3 (ipykernel)",
   "language": "python",
   "name": "python3"
  },
  "language_info": {
   "codemirror_mode": {
    "name": "ipython",
    "version": 3
   },
   "file_extension": ".py",
   "mimetype": "text/x-python",
   "name": "python",
   "nbconvert_exporter": "python",
   "pygments_lexer": "ipython3",
   "version": "3.9.7"
  }
 },
 "nbformat": 4,
 "nbformat_minor": 5
}
